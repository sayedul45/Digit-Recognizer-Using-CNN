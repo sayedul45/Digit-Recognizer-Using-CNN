{
 "cells": [
  {
   "cell_type": "code",
   "execution_count": 1,
   "id": "aaccbc58",
   "metadata": {
    "execution": {
     "iopub.execute_input": "2024-05-09T10:40:58.168446Z",
     "iopub.status.busy": "2024-05-09T10:40:58.168137Z",
     "iopub.status.idle": "2024-05-09T10:41:11.855806Z",
     "shell.execute_reply": "2024-05-09T10:41:11.854572Z"
    },
    "papermill": {
     "duration": 13.699608,
     "end_time": "2024-05-09T10:41:11.858117",
     "exception": false,
     "start_time": "2024-05-09T10:40:58.158509",
     "status": "completed"
    },
    "tags": []
   },
   "outputs": [
    {
     "name": "stderr",
     "output_type": "stream",
     "text": [
      "2024-05-09 10:41:02.178074: E external/local_xla/xla/stream_executor/cuda/cuda_dnn.cc:9261] Unable to register cuDNN factory: Attempting to register factory for plugin cuDNN when one has already been registered\n",
      "2024-05-09 10:41:02.178198: E external/local_xla/xla/stream_executor/cuda/cuda_fft.cc:607] Unable to register cuFFT factory: Attempting to register factory for plugin cuFFT when one has already been registered\n",
      "2024-05-09 10:41:02.321212: E external/local_xla/xla/stream_executor/cuda/cuda_blas.cc:1515] Unable to register cuBLAS factory: Attempting to register factory for plugin cuBLAS when one has already been registered\n"
     ]
    }
   ],
   "source": [
    "import numpy as np\n",
    "import pandas as pd\n",
    "import seaborn as sns\n",
    "import matplotlib.pyplot as plt\n",
    "import warnings\n",
    "warnings.filterwarnings('ignore')\n",
    "import tensorflow as tf\n",
    "from tensorflow import keras"
   ]
  },
  {
   "cell_type": "markdown",
   "id": "e599de92",
   "metadata": {
    "papermill": {
     "duration": 0.008521,
     "end_time": "2024-05-09T10:41:11.874885",
     "exception": false,
     "start_time": "2024-05-09T10:41:11.866364",
     "status": "completed"
    },
    "tags": []
   },
   "source": [
    "## Load the datasets"
   ]
  },
  {
   "cell_type": "code",
   "execution_count": 2,
   "id": "7b01b55b",
   "metadata": {
    "execution": {
     "iopub.execute_input": "2024-05-09T10:41:11.892885Z",
     "iopub.status.busy": "2024-05-09T10:41:11.892279Z",
     "iopub.status.idle": "2024-05-09T10:41:12.323471Z",
     "shell.execute_reply": "2024-05-09T10:41:12.322641Z"
    },
    "papermill": {
     "duration": 0.442283,
     "end_time": "2024-05-09T10:41:12.325504",
     "exception": false,
     "start_time": "2024-05-09T10:41:11.883221",
     "status": "completed"
    },
    "tags": []
   },
   "outputs": [
    {
     "name": "stdout",
     "output_type": "stream",
     "text": [
      "Downloading data from https://storage.googleapis.com/tensorflow/tf-keras-datasets/mnist.npz\n",
      "\u001b[1m11490434/11490434\u001b[0m \u001b[32m━━━━━━━━━━━━━━━━━━━━\u001b[0m\u001b[37m\u001b[0m \u001b[1m0s\u001b[0m 0us/step\n"
     ]
    }
   ],
   "source": [
    "from tensorflow.keras.datasets.mnist import load_data\n",
    "\n",
    "(X_train,y_train),(X_test,y_test)=load_data()"
   ]
  },
  {
   "cell_type": "code",
   "execution_count": 3,
   "id": "7cceeec7",
   "metadata": {
    "execution": {
     "iopub.execute_input": "2024-05-09T10:41:12.344407Z",
     "iopub.status.busy": "2024-05-09T10:41:12.344053Z",
     "iopub.status.idle": "2024-05-09T10:41:12.350735Z",
     "shell.execute_reply": "2024-05-09T10:41:12.349591Z"
    },
    "papermill": {
     "duration": 0.01911,
     "end_time": "2024-05-09T10:41:12.352843",
     "exception": false,
     "start_time": "2024-05-09T10:41:12.333733",
     "status": "completed"
    },
    "tags": []
   },
   "outputs": [
    {
     "data": {
      "text/plain": [
       "(60000, 28, 28)"
      ]
     },
     "execution_count": 3,
     "metadata": {},
     "output_type": "execute_result"
    }
   ],
   "source": [
    "X_train.shape"
   ]
  },
  {
   "cell_type": "code",
   "execution_count": 4,
   "id": "fbfece18",
   "metadata": {
    "execution": {
     "iopub.execute_input": "2024-05-09T10:41:12.371327Z",
     "iopub.status.busy": "2024-05-09T10:41:12.371007Z",
     "iopub.status.idle": "2024-05-09T10:41:12.375080Z",
     "shell.execute_reply": "2024-05-09T10:41:12.374437Z"
    },
    "papermill": {
     "duration": 0.015488,
     "end_time": "2024-05-09T10:41:12.376994",
     "exception": false,
     "start_time": "2024-05-09T10:41:12.361506",
     "status": "completed"
    },
    "tags": []
   },
   "outputs": [
    {
     "name": "stdout",
     "output_type": "stream",
     "text": [
      "Test Size :  10000\n",
      "Train Size :  60000\n"
     ]
    }
   ],
   "source": [
    "print(\"Test Size : \",len(X_test))\n",
    "\n",
    "print(\"Train Size : \",len(X_train))"
   ]
  },
  {
   "cell_type": "markdown",
   "id": "b141ce21",
   "metadata": {
    "papermill": {
     "duration": 0.008108,
     "end_time": "2024-05-09T10:41:12.393533",
     "exception": false,
     "start_time": "2024-05-09T10:41:12.385425",
     "status": "completed"
    },
    "tags": []
   },
   "source": [
    "**Let's test some images**"
   ]
  },
  {
   "cell_type": "code",
   "execution_count": 5,
   "id": "16cb728d",
   "metadata": {
    "execution": {
     "iopub.execute_input": "2024-05-09T10:41:12.411806Z",
     "iopub.status.busy": "2024-05-09T10:41:12.411452Z",
     "iopub.status.idle": "2024-05-09T10:41:12.419301Z",
     "shell.execute_reply": "2024-05-09T10:41:12.418401Z"
    },
    "papermill": {
     "duration": 0.019873,
     "end_time": "2024-05-09T10:41:12.421651",
     "exception": false,
     "start_time": "2024-05-09T10:41:12.401778",
     "status": "completed"
    },
    "tags": []
   },
   "outputs": [
    {
     "data": {
      "text/plain": [
       "array([[  0,   0,   0,   0,   0,   0,   0,   0,   0,   0,   0,   0,   0,\n",
       "          0,   0,   0,   0,   0,   0,   0,   0,   0,   0,   0,   0,   0,\n",
       "          0,   0],\n",
       "       [  0,   0,   0,   0,   0,   0,   0,   0,   0,   0,   0,   0,   0,\n",
       "          0,   0,   0,   0,   0,   0,   0,   0,   0,   0,   0,   0,   0,\n",
       "          0,   0],\n",
       "       [  0,   0,   0,   0,   0,   0,   0,   0,   0,   0,   0,   0,   0,\n",
       "          0,   0,   0,   0,   0,   0,   0,   0,   0,   0,   0,   0,   0,\n",
       "          0,   0],\n",
       "       [  0,   0,   0,   0,   0,   0,   0,   0,   0,   0,   0,   0,   0,\n",
       "          0,   0,   0,   0,   0,   0,   0,   0,   0,   0,   0,   0,   0,\n",
       "          0,   0],\n",
       "       [  0,   0,   0,   0,   0,   0,   0,   0,   0,   0,   0,   0,   0,\n",
       "          0,   0,   0,   0,   0,   0,   0,   0,   0,   0,   0,   0,   0,\n",
       "          0,   0],\n",
       "       [  0,   0,   0,   0,   0,   0,   0,   0,   0,   0,   0,   0,   0,\n",
       "          0,   0,   0,   0,   0, 121, 254, 136,   0,   0,   0,   0,   0,\n",
       "          0,   0],\n",
       "       [  0,   0,   0,   0,   0,   0,   0,   0,   0,   0,   0,   0,   0,\n",
       "          0,   0,   0,   0,  13, 230, 253, 248,  99,   0,   0,   0,   0,\n",
       "          0,   0],\n",
       "       [  0,   0,   0,   0,   0,   0,   0,   0,   0,   0,   0,   0,   0,\n",
       "          0,   0,   0,   4, 118, 253, 253, 225,  42,   0,   0,   0,   0,\n",
       "          0,   0],\n",
       "       [  0,   0,   0,   0,   0,   0,   0,   0,   0,   0,   0,   0,   0,\n",
       "          0,   0,   0,  61, 253, 253, 253,  74,   0,   0,   0,   0,   0,\n",
       "          0,   0],\n",
       "       [  0,   0,   0,   0,   0,   0,   0,   0,   0,   0,   0,   0,   0,\n",
       "          0,   0,  32, 206, 253, 253, 186,   9,   0,   0,   0,   0,   0,\n",
       "          0,   0],\n",
       "       [  0,   0,   0,   0,   0,   0,   0,   0,   0,   0,   0,   0,   0,\n",
       "          0,   0, 211, 253, 253, 239,  69,   0,   0,   0,   0,   0,   0,\n",
       "          0,   0],\n",
       "       [  0,   0,   0,   0,   0,   0,   0,   0,   0,   0,   0,   0,   0,\n",
       "          0,   0, 254, 253, 253, 133,   0,   0,   0,   0,   0,   0,   0,\n",
       "          0,   0],\n",
       "       [  0,   0,   0,   0,   0,   0,   0,   0,   0,   0,   0,   0,   0,\n",
       "          0, 142, 255, 253, 186,   8,   0,   0,   0,   0,   0,   0,   0,\n",
       "          0,   0],\n",
       "       [  0,   0,   0,   0,   0,   0,   0,   0,   0,   0,   0,   0,   0,\n",
       "        149, 229, 254, 207,  21,   0,   0,   0,   0,   0,   0,   0,   0,\n",
       "          0,   0],\n",
       "       [  0,   0,   0,   0,   0,   0,   0,   0,   0,   0,   0,   0,  54,\n",
       "        229, 253, 254, 105,   0,   0,   0,   0,   0,   0,   0,   0,   0,\n",
       "          0,   0],\n",
       "       [  0,   0,   0,   0,   0,   0,   0,   0,   0,   0,   0,   0, 152,\n",
       "        254, 254, 213,  26,   0,   0,   0,   0,   0,   0,   0,   0,   0,\n",
       "          0,   0],\n",
       "       [  0,   0,   0,   0,   0,   0,   0,   0,   0,   0,   0, 112, 251,\n",
       "        253, 253,  26,   0,   0,   0,   0,   0,   0,   0,   0,   0,   0,\n",
       "          0,   0],\n",
       "       [  0,   0,   0,   0,   0,   0,   0,   0,   0,   0,  29, 212, 253,\n",
       "        250, 149,   0,   0,   0,   0,   0,   0,   0,   0,   0,   0,   0,\n",
       "          0,   0],\n",
       "       [  0,   0,   0,   0,   0,   0,   0,   0,   0,  36, 214, 253, 253,\n",
       "        137,   0,   0,   0,   0,   0,   0,   0,   0,   0,   0,   0,   0,\n",
       "          0,   0],\n",
       "       [  0,   0,   0,   0,   0,   0,   0,   0,   0,  75, 253, 253, 253,\n",
       "         59,   0,   0,   0,   0,   0,   0,   0,   0,   0,   0,   0,   0,\n",
       "          0,   0],\n",
       "       [  0,   0,   0,   0,   0,   0,   0,   0,   0,  93, 253, 253, 189,\n",
       "         17,   0,   0,   0,   0,   0,   0,   0,   0,   0,   0,   0,   0,\n",
       "          0,   0],\n",
       "       [  0,   0,   0,   0,   0,   0,   0,   0,   0, 224, 253, 253,  84,\n",
       "          0,   0,   0,   0,   0,   0,   0,   0,   0,   0,   0,   0,   0,\n",
       "          0,   0],\n",
       "       [  0,   0,   0,   0,   0,   0,   0,   0,  43, 235, 253, 126,   1,\n",
       "          0,   0,   0,   0,   0,   0,   0,   0,   0,   0,   0,   0,   0,\n",
       "          0,   0],\n",
       "       [  0,   0,   0,   0,   0,   0,   0,   0,  99, 248, 253, 119,   0,\n",
       "          0,   0,   0,   0,   0,   0,   0,   0,   0,   0,   0,   0,   0,\n",
       "          0,   0],\n",
       "       [  0,   0,   0,   0,   0,   0,   0,   0,   0, 225, 235,  49,   0,\n",
       "          0,   0,   0,   0,   0,   0,   0,   0,   0,   0,   0,   0,   0,\n",
       "          0,   0],\n",
       "       [  0,   0,   0,   0,   0,   0,   0,   0,   0,   0,   0,   0,   0,\n",
       "          0,   0,   0,   0,   0,   0,   0,   0,   0,   0,   0,   0,   0,\n",
       "          0,   0],\n",
       "       [  0,   0,   0,   0,   0,   0,   0,   0,   0,   0,   0,   0,   0,\n",
       "          0,   0,   0,   0,   0,   0,   0,   0,   0,   0,   0,   0,   0,\n",
       "          0,   0],\n",
       "       [  0,   0,   0,   0,   0,   0,   0,   0,   0,   0,   0,   0,   0,\n",
       "          0,   0,   0,   0,   0,   0,   0,   0,   0,   0,   0,   0,   0,\n",
       "          0,   0]], dtype=uint8)"
      ]
     },
     "execution_count": 5,
     "metadata": {},
     "output_type": "execute_result"
    }
   ],
   "source": [
    "X_train[23]"
   ]
  },
  {
   "cell_type": "code",
   "execution_count": 6,
   "id": "fe22b971",
   "metadata": {
    "execution": {
     "iopub.execute_input": "2024-05-09T10:41:12.440720Z",
     "iopub.status.busy": "2024-05-09T10:41:12.440362Z",
     "iopub.status.idle": "2024-05-09T10:41:12.630742Z",
     "shell.execute_reply": "2024-05-09T10:41:12.629793Z"
    },
    "papermill": {
     "duration": 0.202612,
     "end_time": "2024-05-09T10:41:12.632982",
     "exception": false,
     "start_time": "2024-05-09T10:41:12.430370",
     "status": "completed"
    },
    "tags": []
   },
   "outputs": [
    {
     "data": {
      "image/png": "[encoded data removed]",
      "text/plain": [
       "<Figure size 640x480 with 1 Axes>"
      ]
     },
     "metadata": {},
     "output_type": "display_data"
    }
   ],
   "source": [
    "plt.imshow(X_train[23],cmap=plt.cm.binary)\n",
    "plt.show()"
   ]
  },
  {
   "cell_type": "code",
   "execution_count": 7,
   "id": "fc777a39",
   "metadata": {
    "execution": {
     "iopub.execute_input": "2024-05-09T10:41:12.652836Z",
     "iopub.status.busy": "2024-05-09T10:41:12.652479Z",
     "iopub.status.idle": "2024-05-09T10:41:12.658644Z",
     "shell.execute_reply": "2024-05-09T10:41:12.657645Z"
    },
    "papermill": {
     "duration": 0.017959,
     "end_time": "2024-05-09T10:41:12.660242",
     "exception": false,
     "start_time": "2024-05-09T10:41:12.642283",
     "status": "completed"
    },
    "tags": []
   },
   "outputs": [
    {
     "data": {
      "text/plain": [
       "1"
      ]
     },
     "execution_count": 7,
     "metadata": {},
     "output_type": "execute_result"
    }
   ],
   "source": [
    "y_train[23]"
   ]
  },
  {
   "cell_type": "code",
   "execution_count": 8,
   "id": "0adf4725",
   "metadata": {
    "execution": {
     "iopub.execute_input": "2024-05-09T10:41:12.679266Z",
     "iopub.status.busy": "2024-05-09T10:41:12.678932Z",
     "iopub.status.idle": "2024-05-09T10:41:13.111119Z",
     "shell.execute_reply": "2024-05-09T10:41:13.110101Z"
    },
    "papermill": {
     "duration": 0.443817,
     "end_time": "2024-05-09T10:41:13.112928",
     "exception": false,
     "start_time": "2024-05-09T10:41:12.669111",
     "status": "completed"
    },
    "tags": []
   },
   "outputs": [
    {
     "name": "stdout",
     "output_type": "stream",
     "text": [
      "checking..... 0\n",
      "checking..... 0\n",
      "Image Index.. 0\n",
      "checking..... 1\n",
      "Image Index.. 1\n",
      "checking..... 2\n",
      "Image Index.. 2\n",
      "checking..... 3\n",
      "Image Index.. 3\n",
      "checking..... 4\n",
      "Image Index.. 4\n",
      "checking..... 5\n",
      "Image Index.. 5\n",
      "checking..... 1\n",
      "checking..... 0\n",
      "Image Index.. 5\n",
      "checking..... 1\n",
      "Image Index.. 6\n",
      "checking..... 2\n",
      "Image Index.. 7\n",
      "checking..... 3\n",
      "Image Index.. 8\n",
      "checking..... 4\n",
      "Image Index.. 9\n",
      "checking..... 5\n",
      "Image Index.. 10\n",
      "checking..... 2\n",
      "checking..... 0\n",
      "Image Index.. 10\n",
      "checking..... 1\n",
      "Image Index.. 11\n",
      "checking..... 2\n",
      "Image Index.. 12\n",
      "checking..... 3\n",
      "Image Index.. 13\n",
      "checking..... 4\n",
      "Image Index.. 14\n",
      "checking..... 5\n",
      "Image Index.. 15\n"
     ]
    },
    {
     "data": {
      "image/png": "[encoded data removed]",
      "text/plain": [
       "<Figure size 1200x500 with 18 Axes>"
      ]
     },
     "metadata": {},
     "output_type": "display_data"
    }
   ],
   "source": [
    "n_rows,n_cols = 3,6\n",
    "\n",
    "f,ax =plt.subplots(3,6,figsize=(12,5),gridspec_kw={'wspace':0.04,'hspace':0.03},squeeze=True)\n",
    "\n",
    "for r in range(n_rows):\n",
    "    print('checking.....',r)\n",
    "    \n",
    "    for c in range(n_cols):\n",
    "        print('checking.....',c)\n",
    "        \n",
    "        image_index = r*5+ c \n",
    "        print('Image Index..',image_index)\n",
    "        ax[r,c].axis('off')\n",
    "        ax[r,c].imshow(X_train[image_index],cmap='gray')\n",
    "plt.show()\n",
    "plt.close()"
   ]
  },
  {
   "cell_type": "markdown",
   "id": "d0a292f0",
   "metadata": {
    "papermill": {
     "duration": 0.008964,
     "end_time": "2024-05-09T10:41:13.131060",
     "exception": false,
     "start_time": "2024-05-09T10:41:13.122096",
     "status": "completed"
    },
    "tags": []
   },
   "source": [
    "**Let's look some matrix values**"
   ]
  },
  {
   "cell_type": "code",
   "execution_count": 9,
   "id": "178d5c0e",
   "metadata": {
    "execution": {
     "iopub.execute_input": "2024-05-09T10:41:13.151505Z",
     "iopub.status.busy": "2024-05-09T10:41:13.150896Z",
     "iopub.status.idle": "2024-05-09T10:41:13.156259Z",
     "shell.execute_reply": "2024-05-09T10:41:13.155634Z"
    },
    "papermill": {
     "duration": 0.01756,
     "end_time": "2024-05-09T10:41:13.157905",
     "exception": false,
     "start_time": "2024-05-09T10:41:13.140345",
     "status": "completed"
    },
    "tags": []
   },
   "outputs": [
    {
     "data": {
      "text/plain": [
       "0"
      ]
     },
     "execution_count": 9,
     "metadata": {},
     "output_type": "execute_result"
    }
   ],
   "source": [
    "X_train[12].min()"
   ]
  },
  {
   "cell_type": "code",
   "execution_count": 10,
   "id": "f17dc07c",
   "metadata": {
    "execution": {
     "iopub.execute_input": "2024-05-09T10:41:13.178703Z",
     "iopub.status.busy": "2024-05-09T10:41:13.178330Z",
     "iopub.status.idle": "2024-05-09T10:41:13.184325Z",
     "shell.execute_reply": "2024-05-09T10:41:13.183380Z"
    },
    "papermill": {
     "duration": 0.01907,
     "end_time": "2024-05-09T10:41:13.186119",
     "exception": false,
     "start_time": "2024-05-09T10:41:13.167049",
     "status": "completed"
    },
    "tags": []
   },
   "outputs": [
    {
     "data": {
      "text/plain": [
       "255"
      ]
     },
     "execution_count": 10,
     "metadata": {},
     "output_type": "execute_result"
    }
   ],
   "source": [
    "X_train[12].max()"
   ]
  },
  {
   "cell_type": "markdown",
   "id": "0c8b545d",
   "metadata": {
    "papermill": {
     "duration": 0.00931,
     "end_time": "2024-05-09T10:41:13.205197",
     "exception": false,
     "start_time": "2024-05-09T10:41:13.195887",
     "status": "completed"
    },
    "tags": []
   },
   "source": [
    "## Scaling the matrix value"
   ]
  },
  {
   "cell_type": "code",
   "execution_count": 11,
   "id": "2dc5f0d1",
   "metadata": {
    "execution": {
     "iopub.execute_input": "2024-05-09T10:41:13.224903Z",
     "iopub.status.busy": "2024-05-09T10:41:13.224338Z",
     "iopub.status.idle": "2024-05-09T10:41:13.268406Z",
     "shell.execute_reply": "2024-05-09T10:41:13.267459Z"
    },
    "papermill": {
     "duration": 0.05627,
     "end_time": "2024-05-09T10:41:13.270416",
     "exception": false,
     "start_time": "2024-05-09T10:41:13.214146",
     "status": "completed"
    },
    "tags": []
   },
   "outputs": [],
   "source": [
    "X_train = X_train.astype('float32')\n",
    "X_test = X_test.astype('float32')\n",
    "\n",
    "X_train/=255\n",
    "\n",
    "X_test/=255"
   ]
  },
  {
   "cell_type": "code",
   "execution_count": 12,
   "id": "0819f64f",
   "metadata": {
    "execution": {
     "iopub.execute_input": "2024-05-09T10:41:13.290530Z",
     "iopub.status.busy": "2024-05-09T10:41:13.290224Z",
     "iopub.status.idle": "2024-05-09T10:41:13.294141Z",
     "shell.execute_reply": "2024-05-09T10:41:13.293290Z"
    },
    "papermill": {
     "duration": 0.01603,
     "end_time": "2024-05-09T10:41:13.295816",
     "exception": false,
     "start_time": "2024-05-09T10:41:13.279786",
     "status": "completed"
    },
    "tags": []
   },
   "outputs": [],
   "source": [
    "X_train=X_train.reshape(X_train.shape[0],28,28,1)\n",
    "X_test =X_test.reshape(X_test.shape[0],28,28,1)"
   ]
  },
  {
   "cell_type": "code",
   "execution_count": 13,
   "id": "189b8e65",
   "metadata": {
    "execution": {
     "iopub.execute_input": "2024-05-09T10:41:13.316057Z",
     "iopub.status.busy": "2024-05-09T10:41:13.315291Z",
     "iopub.status.idle": "2024-05-09T10:41:13.320807Z",
     "shell.execute_reply": "2024-05-09T10:41:13.320138Z"
    },
    "papermill": {
     "duration": 0.017524,
     "end_time": "2024-05-09T10:41:13.322414",
     "exception": false,
     "start_time": "2024-05-09T10:41:13.304890",
     "status": "completed"
    },
    "tags": []
   },
   "outputs": [
    {
     "data": {
      "text/plain": [
       "((60000, 28, 28, 1), (10000, 28, 28, 1))"
      ]
     },
     "execution_count": 13,
     "metadata": {},
     "output_type": "execute_result"
    }
   ],
   "source": [
    "X_train.shape, X_test.shape"
   ]
  },
  {
   "cell_type": "markdown",
   "id": "e9a41d42",
   "metadata": {
    "papermill": {
     "duration": 0.009028,
     "end_time": "2024-05-09T10:41:13.340895",
     "exception": false,
     "start_time": "2024-05-09T10:41:13.331867",
     "status": "completed"
    },
    "tags": []
   },
   "source": [
    "# One Hot Encoding"
   ]
  },
  {
   "cell_type": "code",
   "execution_count": 14,
   "id": "0600529c",
   "metadata": {
    "execution": {
     "iopub.execute_input": "2024-05-09T10:41:13.360861Z",
     "iopub.status.busy": "2024-05-09T10:41:13.360398Z",
     "iopub.status.idle": "2024-05-09T10:41:13.367124Z",
     "shell.execute_reply": "2024-05-09T10:41:13.366076Z"
    },
    "papermill": {
     "duration": 0.018916,
     "end_time": "2024-05-09T10:41:13.368915",
     "exception": false,
     "start_time": "2024-05-09T10:41:13.349999",
     "status": "completed"
    },
    "tags": []
   },
   "outputs": [],
   "source": [
    "from tensorflow.keras.utils import to_categorical"
   ]
  },
  {
   "cell_type": "code",
   "execution_count": 15,
   "id": "dc79d025",
   "metadata": {
    "execution": {
     "iopub.execute_input": "2024-05-09T10:41:13.389124Z",
     "iopub.status.busy": "2024-05-09T10:41:13.388538Z",
     "iopub.status.idle": "2024-05-09T10:41:13.393888Z",
     "shell.execute_reply": "2024-05-09T10:41:13.393123Z"
    },
    "papermill": {
     "duration": 0.017377,
     "end_time": "2024-05-09T10:41:13.395633",
     "exception": false,
     "start_time": "2024-05-09T10:41:13.378256",
     "status": "completed"
    },
    "tags": []
   },
   "outputs": [],
   "source": [
    "y_train=to_categorical(y_train,10)\n",
    "y_test=to_categorical(y_test,10)"
   ]
  },
  {
   "cell_type": "code",
   "execution_count": 16,
   "id": "cfcc69bb",
   "metadata": {
    "execution": {
     "iopub.execute_input": "2024-05-09T10:41:13.416850Z",
     "iopub.status.busy": "2024-05-09T10:41:13.416484Z",
     "iopub.status.idle": "2024-05-09T10:41:13.422777Z",
     "shell.execute_reply": "2024-05-09T10:41:13.421114Z"
    },
    "papermill": {
     "duration": 0.019427,
     "end_time": "2024-05-09T10:41:13.424570",
     "exception": false,
     "start_time": "2024-05-09T10:41:13.405143",
     "status": "completed"
    },
    "tags": []
   },
   "outputs": [
    {
     "data": {
      "text/plain": [
       "(60000, 10)"
      ]
     },
     "execution_count": 16,
     "metadata": {},
     "output_type": "execute_result"
    }
   ],
   "source": [
    "y_train.shape"
   ]
  },
  {
   "cell_type": "markdown",
   "id": "b71b8029",
   "metadata": {
    "papermill": {
     "duration": 0.009062,
     "end_time": "2024-05-09T10:41:13.443148",
     "exception": false,
     "start_time": "2024-05-09T10:41:13.434086",
     "status": "completed"
    },
    "tags": []
   },
   "source": [
    "# Building Model"
   ]
  },
  {
   "cell_type": "code",
   "execution_count": 17,
   "id": "57b87736",
   "metadata": {
    "execution": {
     "iopub.execute_input": "2024-05-09T10:41:13.462822Z",
     "iopub.status.busy": "2024-05-09T10:41:13.462468Z",
     "iopub.status.idle": "2024-05-09T10:41:13.469221Z",
     "shell.execute_reply": "2024-05-09T10:41:13.468401Z"
    },
    "papermill": {
     "duration": 0.019211,
     "end_time": "2024-05-09T10:41:13.471531",
     "exception": false,
     "start_time": "2024-05-09T10:41:13.452320",
     "status": "completed"
    },
    "tags": []
   },
   "outputs": [],
   "source": [
    "from tensorflow.keras.models import Sequential\n",
    "from tensorflow.keras.layers import Conv2D,MaxPooling2D,Flatten , Dense ,BatchNormalization , Dropout, Input"
   ]
  },
  {
   "cell_type": "code",
   "execution_count": 18,
   "id": "52ad631e",
   "metadata": {
    "execution": {
     "iopub.execute_input": "2024-05-09T10:41:13.492493Z",
     "iopub.status.busy": "2024-05-09T10:41:13.492175Z",
     "iopub.status.idle": "2024-05-09T10:41:13.498819Z",
     "shell.execute_reply": "2024-05-09T10:41:13.497658Z"
    },
    "papermill": {
     "duration": 0.019294,
     "end_time": "2024-05-09T10:41:13.500596",
     "exception": false,
     "start_time": "2024-05-09T10:41:13.481302",
     "status": "completed"
    },
    "tags": []
   },
   "outputs": [
    {
     "data": {
      "text/plain": [
       "(28, 28, 1)"
      ]
     },
     "execution_count": 18,
     "metadata": {},
     "output_type": "execute_result"
    }
   ],
   "source": [
    "# Define input shape\n",
    "\n",
    "input_shape = X_train[23].shape\n",
    "input_shape"
   ]
  },
  {
   "cell_type": "code",
   "execution_count": 19,
   "id": "dee29c39",
   "metadata": {
    "execution": {
     "iopub.execute_input": "2024-05-09T10:41:13.521266Z",
     "iopub.status.busy": "2024-05-09T10:41:13.520974Z",
     "iopub.status.idle": "2024-05-09T10:41:13.693709Z",
     "shell.execute_reply": "2024-05-09T10:41:13.692827Z"
    },
    "papermill": {
     "duration": 0.185766,
     "end_time": "2024-05-09T10:41:13.695883",
     "exception": false,
     "start_time": "2024-05-09T10:41:13.510117",
     "status": "completed"
    },
    "tags": []
   },
   "outputs": [],
   "source": [
    "model =Sequential()\n",
    "\n",
    "#model.add(Input(shape=input_shape)) #It helps model to compile better when u add the input as a \"LAYER\"\n",
    "\n",
    "######## CNN ##########\n",
    "\n",
    "model.add(Conv2D(16,kernel_size=(3,3),activation='relu',padding='same',input_shape=(28,28,1)))\n",
    "\n",
    "model.add(MaxPooling2D(pool_size=(3,3)))\n",
    "model.add(BatchNormalization())\n",
    "model.add(Dropout(0.1))\n",
    "\n",
    "model.add(Conv2D(32,kernel_size=(3,3),activation='relu',padding='same'))\n",
    "model.add(MaxPooling2D(pool_size=(3,3)))\n",
    "model.add(BatchNormalization())\n",
    "model.add(Dropout(0.1))\n",
    "\n",
    "model.add(Flatten())\n",
    "\n",
    "\n",
    "#### ANN #########\n",
    "\n",
    "model.add(Dense(128,activation='relu'))\n",
    "model.add(BatchNormalization())\n",
    "model.add(Dropout(0.2))\n",
    "\n",
    "\n",
    "# output layer \n",
    "\n",
    "model.add(Dense(10,activation='softmax'))\n",
    "\n",
    "model.compile(loss='categorical_crossentropy',optimizer='adam',metrics=['accuracy'])"
   ]
  },
  {
   "cell_type": "markdown",
   "id": "45ef8eb5",
   "metadata": {
    "papermill": {
     "duration": 0.010114,
     "end_time": "2024-05-09T10:41:13.716017",
     "exception": false,
     "start_time": "2024-05-09T10:41:13.705903",
     "status": "completed"
    },
    "tags": []
   },
   "source": [
    "# Model Summary"
   ]
  },
  {
   "cell_type": "code",
   "execution_count": 20,
   "id": "795706b8",
   "metadata": {
    "execution": {
     "iopub.execute_input": "2024-05-09T10:41:13.736647Z",
     "iopub.status.busy": "2024-05-09T10:41:13.736339Z",
     "iopub.status.idle": "2024-05-09T10:41:13.759001Z",
     "shell.execute_reply": "2024-05-09T10:41:13.758138Z"
    },
    "papermill": {
     "duration": 0.035181,
     "end_time": "2024-05-09T10:41:13.760908",
     "exception": false,
     "start_time": "2024-05-09T10:41:13.725727",
     "status": "completed"
    },
    "tags": []
   },
   "outputs": [
    {
     "data": {
      "text/html": [
       "<pre style=\"white-space:pre;overflow-x:auto;line-height:normal;font-family:Menlo,'DejaVu Sans Mono',consolas,'Courier New',monospace\"><span style=\"font-weight: bold\">Model: \"sequential\"</span>\n",
       "</pre>\n"
      ],
      "text/plain": [
       "\u001b[1mModel: \"sequential\"\u001b[0m\n"
      ]
     },
     "metadata": {},
     "output_type": "display_data"
    },
    {
     "data": {
      "text/html": [
       "<pre style=\"white-space:pre;overflow-x:auto;line-height:normal;font-family:Menlo,'DejaVu Sans Mono',consolas,'Courier New',monospace\">┏━━━━━━━━━━━━━━━━━━━━━━━━━━━━━━━━━┳━━━━━━━━━━━━━━━━━━━━━━━━┳━━━━━━━━━━━━━━━┓\n",
       "┃<span style=\"font-weight: bold\"> Layer (type)                    </span>┃<span style=\"font-weight: bold\"> Output Shape           </span>┃<span style=\"font-weight: bold\">       Param # </span>┃\n",
       "┡━━━━━━━━━━━━━━━━━━━━━━━━━━━━━━━━━╇━━━━━━━━━━━━━━━━━━━━━━━━╇━━━━━━━━━━━━━━━┩\n",
       "│ conv2d (<span style=\"color: #0087ff; text-decoration-color: #0087ff\">Conv2D</span>)                 │ (<span style=\"color: #00d7ff; text-decoration-color: #00d7ff\">None</span>, <span style=\"color: #00af00; text-decoration-color: #00af00\">28</span>, <span style=\"color: #00af00; text-decoration-color: #00af00\">28</span>, <span style=\"color: #00af00; text-decoration-color: #00af00\">16</span>)     │           <span style=\"color: #00af00; text-decoration-color: #00af00\">160</span> │\n",
       "├─────────────────────────────────┼────────────────────────┼───────────────┤\n",
       "│ max_pooling2d (<span style=\"color: #0087ff; text-decoration-color: #0087ff\">MaxPooling2D</span>)    │ (<span style=\"color: #00d7ff; text-decoration-color: #00d7ff\">None</span>, <span style=\"color: #00af00; text-decoration-color: #00af00\">9</span>, <span style=\"color: #00af00; text-decoration-color: #00af00\">9</span>, <span style=\"color: #00af00; text-decoration-color: #00af00\">16</span>)       │             <span style=\"color: #00af00; text-decoration-color: #00af00\">0</span> │\n",
       "├─────────────────────────────────┼────────────────────────┼───────────────┤\n",
       "│ batch_normalization             │ (<span style=\"color: #00d7ff; text-decoration-color: #00d7ff\">None</span>, <span style=\"color: #00af00; text-decoration-color: #00af00\">9</span>, <span style=\"color: #00af00; text-decoration-color: #00af00\">9</span>, <span style=\"color: #00af00; text-decoration-color: #00af00\">16</span>)       │            <span style=\"color: #00af00; text-decoration-color: #00af00\">64</span> │\n",
       "│ (<span style=\"color: #0087ff; text-decoration-color: #0087ff\">BatchNormalization</span>)            │                        │               │\n",
       "├─────────────────────────────────┼────────────────────────┼───────────────┤\n",
       "│ dropout (<span style=\"color: #0087ff; text-decoration-color: #0087ff\">Dropout</span>)               │ (<span style=\"color: #00d7ff; text-decoration-color: #00d7ff\">None</span>, <span style=\"color: #00af00; text-decoration-color: #00af00\">9</span>, <span style=\"color: #00af00; text-decoration-color: #00af00\">9</span>, <span style=\"color: #00af00; text-decoration-color: #00af00\">16</span>)       │             <span style=\"color: #00af00; text-decoration-color: #00af00\">0</span> │\n",
       "├─────────────────────────────────┼────────────────────────┼───────────────┤\n",
       "│ conv2d_1 (<span style=\"color: #0087ff; text-decoration-color: #0087ff\">Conv2D</span>)               │ (<span style=\"color: #00d7ff; text-decoration-color: #00d7ff\">None</span>, <span style=\"color: #00af00; text-decoration-color: #00af00\">9</span>, <span style=\"color: #00af00; text-decoration-color: #00af00\">9</span>, <span style=\"color: #00af00; text-decoration-color: #00af00\">32</span>)       │         <span style=\"color: #00af00; text-decoration-color: #00af00\">4,640</span> │\n",
       "├─────────────────────────────────┼────────────────────────┼───────────────┤\n",
       "│ max_pooling2d_1 (<span style=\"color: #0087ff; text-decoration-color: #0087ff\">MaxPooling2D</span>)  │ (<span style=\"color: #00d7ff; text-decoration-color: #00d7ff\">None</span>, <span style=\"color: #00af00; text-decoration-color: #00af00\">3</span>, <span style=\"color: #00af00; text-decoration-color: #00af00\">3</span>, <span style=\"color: #00af00; text-decoration-color: #00af00\">32</span>)       │             <span style=\"color: #00af00; text-decoration-color: #00af00\">0</span> │\n",
       "├─────────────────────────────────┼────────────────────────┼───────────────┤\n",
       "│ batch_normalization_1           │ (<span style=\"color: #00d7ff; text-decoration-color: #00d7ff\">None</span>, <span style=\"color: #00af00; text-decoration-color: #00af00\">3</span>, <span style=\"color: #00af00; text-decoration-color: #00af00\">3</span>, <span style=\"color: #00af00; text-decoration-color: #00af00\">32</span>)       │           <span style=\"color: #00af00; text-decoration-color: #00af00\">128</span> │\n",
       "│ (<span style=\"color: #0087ff; text-decoration-color: #0087ff\">BatchNormalization</span>)            │                        │               │\n",
       "├─────────────────────────────────┼────────────────────────┼───────────────┤\n",
       "│ dropout_1 (<span style=\"color: #0087ff; text-decoration-color: #0087ff\">Dropout</span>)             │ (<span style=\"color: #00d7ff; text-decoration-color: #00d7ff\">None</span>, <span style=\"color: #00af00; text-decoration-color: #00af00\">3</span>, <span style=\"color: #00af00; text-decoration-color: #00af00\">3</span>, <span style=\"color: #00af00; text-decoration-color: #00af00\">32</span>)       │             <span style=\"color: #00af00; text-decoration-color: #00af00\">0</span> │\n",
       "├─────────────────────────────────┼────────────────────────┼───────────────┤\n",
       "│ flatten (<span style=\"color: #0087ff; text-decoration-color: #0087ff\">Flatten</span>)               │ (<span style=\"color: #00d7ff; text-decoration-color: #00d7ff\">None</span>, <span style=\"color: #00af00; text-decoration-color: #00af00\">288</span>)            │             <span style=\"color: #00af00; text-decoration-color: #00af00\">0</span> │\n",
       "├─────────────────────────────────┼────────────────────────┼───────────────┤\n",
       "│ dense (<span style=\"color: #0087ff; text-decoration-color: #0087ff\">Dense</span>)                   │ (<span style=\"color: #00d7ff; text-decoration-color: #00d7ff\">None</span>, <span style=\"color: #00af00; text-decoration-color: #00af00\">128</span>)            │        <span style=\"color: #00af00; text-decoration-color: #00af00\">36,992</span> │\n",
       "├─────────────────────────────────┼────────────────────────┼───────────────┤\n",
       "│ batch_normalization_2           │ (<span style=\"color: #00d7ff; text-decoration-color: #00d7ff\">None</span>, <span style=\"color: #00af00; text-decoration-color: #00af00\">128</span>)            │           <span style=\"color: #00af00; text-decoration-color: #00af00\">512</span> │\n",
       "│ (<span style=\"color: #0087ff; text-decoration-color: #0087ff\">BatchNormalization</span>)            │                        │               │\n",
       "├─────────────────────────────────┼────────────────────────┼───────────────┤\n",
       "│ dropout_2 (<span style=\"color: #0087ff; text-decoration-color: #0087ff\">Dropout</span>)             │ (<span style=\"color: #00d7ff; text-decoration-color: #00d7ff\">None</span>, <span style=\"color: #00af00; text-decoration-color: #00af00\">128</span>)            │             <span style=\"color: #00af00; text-decoration-color: #00af00\">0</span> │\n",
       "├─────────────────────────────────┼────────────────────────┼───────────────┤\n",
       "│ dense_1 (<span style=\"color: #0087ff; text-decoration-color: #0087ff\">Dense</span>)                 │ (<span style=\"color: #00d7ff; text-decoration-color: #00d7ff\">None</span>, <span style=\"color: #00af00; text-decoration-color: #00af00\">10</span>)             │         <span style=\"color: #00af00; text-decoration-color: #00af00\">1,290</span> │\n",
       "└─────────────────────────────────┴────────────────────────┴───────────────┘\n",
       "</pre>\n"
      ],
      "text/plain": [
       "┏━━━━━━━━━━━━━━━━━━━━━━━━━━━━━━━━━┳━━━━━━━━━━━━━━━━━━━━━━━━┳━━━━━━━━━━━━━━━┓\n",
       "┃\u001b[1m \u001b[0m\u001b[1mLayer (type)                   \u001b[0m\u001b[1m \u001b[0m┃\u001b[1m \u001b[0m\u001b[1mOutput Shape          \u001b[0m\u001b[1m \u001b[0m┃\u001b[1m \u001b[0m\u001b[1m      Param #\u001b[0m\u001b[1m \u001b[0m┃\n",
       "┡━━━━━━━━━━━━━━━━━━━━━━━━━━━━━━━━━╇━━━━━━━━━━━━━━━━━━━━━━━━╇━━━━━━━━━━━━━━━┩\n",
       "│ conv2d (\u001b[38;5;33mConv2D\u001b[0m)                 │ (\u001b[38;5;45mNone\u001b[0m, \u001b[38;5;34m28\u001b[0m, \u001b[38;5;34m28\u001b[0m, \u001b[38;5;34m16\u001b[0m)     │           \u001b[38;5;34m160\u001b[0m │\n",
       "├─────────────────────────────────┼────────────────────────┼───────────────┤\n",
       "│ max_pooling2d (\u001b[38;5;33mMaxPooling2D\u001b[0m)    │ (\u001b[38;5;45mNone\u001b[0m, \u001b[38;5;34m9\u001b[0m, \u001b[38;5;34m9\u001b[0m, \u001b[38;5;34m16\u001b[0m)       │             \u001b[38;5;34m0\u001b[0m │\n",
       "├─────────────────────────────────┼────────────────────────┼───────────────┤\n",
       "│ batch_normalization             │ (\u001b[38;5;45mNone\u001b[0m, \u001b[38;5;34m9\u001b[0m, \u001b[38;5;34m9\u001b[0m, \u001b[38;5;34m16\u001b[0m)       │            \u001b[38;5;34m64\u001b[0m │\n",
       "│ (\u001b[38;5;33mBatchNormalization\u001b[0m)            │                        │               │\n",
       "├─────────────────────────────────┼────────────────────────┼───────────────┤\n",
       "│ dropout (\u001b[38;5;33mDropout\u001b[0m)               │ (\u001b[38;5;45mNone\u001b[0m, \u001b[38;5;34m9\u001b[0m, \u001b[38;5;34m9\u001b[0m, \u001b[38;5;34m16\u001b[0m)       │             \u001b[38;5;34m0\u001b[0m │\n",
       "├─────────────────────────────────┼────────────────────────┼───────────────┤\n",
       "│ conv2d_1 (\u001b[38;5;33mConv2D\u001b[0m)               │ (\u001b[38;5;45mNone\u001b[0m, \u001b[38;5;34m9\u001b[0m, \u001b[38;5;34m9\u001b[0m, \u001b[38;5;34m32\u001b[0m)       │         \u001b[38;5;34m4,640\u001b[0m │\n",
       "├─────────────────────────────────┼────────────────────────┼───────────────┤\n",
       "│ max_pooling2d_1 (\u001b[38;5;33mMaxPooling2D\u001b[0m)  │ (\u001b[38;5;45mNone\u001b[0m, \u001b[38;5;34m3\u001b[0m, \u001b[38;5;34m3\u001b[0m, \u001b[38;5;34m32\u001b[0m)       │             \u001b[38;5;34m0\u001b[0m │\n",
       "├─────────────────────────────────┼────────────────────────┼───────────────┤\n",
       "│ batch_normalization_1           │ (\u001b[38;5;45mNone\u001b[0m, \u001b[38;5;34m3\u001b[0m, \u001b[38;5;34m3\u001b[0m, \u001b[38;5;34m32\u001b[0m)       │           \u001b[38;5;34m128\u001b[0m │\n",
       "│ (\u001b[38;5;33mBatchNormalization\u001b[0m)            │                        │               │\n",
       "├─────────────────────────────────┼────────────────────────┼───────────────┤\n",
       "│ dropout_1 (\u001b[38;5;33mDropout\u001b[0m)             │ (\u001b[38;5;45mNone\u001b[0m, \u001b[38;5;34m3\u001b[0m, \u001b[38;5;34m3\u001b[0m, \u001b[38;5;34m32\u001b[0m)       │             \u001b[38;5;34m0\u001b[0m │\n",
       "├─────────────────────────────────┼────────────────────────┼───────────────┤\n",
       "│ flatten (\u001b[38;5;33mFlatten\u001b[0m)               │ (\u001b[38;5;45mNone\u001b[0m, \u001b[38;5;34m288\u001b[0m)            │             \u001b[38;5;34m0\u001b[0m │\n",
       "├─────────────────────────────────┼────────────────────────┼───────────────┤\n",
       "│ dense (\u001b[38;5;33mDense\u001b[0m)                   │ (\u001b[38;5;45mNone\u001b[0m, \u001b[38;5;34m128\u001b[0m)            │        \u001b[38;5;34m36,992\u001b[0m │\n",
       "├─────────────────────────────────┼────────────────────────┼───────────────┤\n",
       "│ batch_normalization_2           │ (\u001b[38;5;45mNone\u001b[0m, \u001b[38;5;34m128\u001b[0m)            │           \u001b[38;5;34m512\u001b[0m │\n",
       "│ (\u001b[38;5;33mBatchNormalization\u001b[0m)            │                        │               │\n",
       "├─────────────────────────────────┼────────────────────────┼───────────────┤\n",
       "│ dropout_2 (\u001b[38;5;33mDropout\u001b[0m)             │ (\u001b[38;5;45mNone\u001b[0m, \u001b[38;5;34m128\u001b[0m)            │             \u001b[38;5;34m0\u001b[0m │\n",
       "├─────────────────────────────────┼────────────────────────┼───────────────┤\n",
       "│ dense_1 (\u001b[38;5;33mDense\u001b[0m)                 │ (\u001b[38;5;45mNone\u001b[0m, \u001b[38;5;34m10\u001b[0m)             │         \u001b[38;5;34m1,290\u001b[0m │\n",
       "└─────────────────────────────────┴────────────────────────┴───────────────┘\n"
      ]
     },
     "metadata": {},
     "output_type": "display_data"
    },
    {
     "data": {
      "text/html": [
       "<pre style=\"white-space:pre;overflow-x:auto;line-height:normal;font-family:Menlo,'DejaVu Sans Mono',consolas,'Courier New',monospace\"><span style=\"font-weight: bold\"> Total params: </span><span style=\"color: #00af00; text-decoration-color: #00af00\">43,786</span> (171.04 KB)\n",
       "</pre>\n"
      ],
      "text/plain": [
       "\u001b[1m Total params: \u001b[0m\u001b[38;5;34m43,786\u001b[0m (171.04 KB)\n"
      ]
     },
     "metadata": {},
     "output_type": "display_data"
    },
    {
     "data": {
      "text/html": [
       "<pre style=\"white-space:pre;overflow-x:auto;line-height:normal;font-family:Menlo,'DejaVu Sans Mono',consolas,'Courier New',monospace\"><span style=\"font-weight: bold\"> Trainable params: </span><span style=\"color: #00af00; text-decoration-color: #00af00\">43,434</span> (169.66 KB)\n",
       "</pre>\n"
      ],
      "text/plain": [
       "\u001b[1m Trainable params: \u001b[0m\u001b[38;5;34m43,434\u001b[0m (169.66 KB)\n"
      ]
     },
     "metadata": {},
     "output_type": "display_data"
    },
    {
     "data": {
      "text/html": [
       "<pre style=\"white-space:pre;overflow-x:auto;line-height:normal;font-family:Menlo,'DejaVu Sans Mono',consolas,'Courier New',monospace\"><span style=\"font-weight: bold\"> Non-trainable params: </span><span style=\"color: #00af00; text-decoration-color: #00af00\">352</span> (1.38 KB)\n",
       "</pre>\n"
      ],
      "text/plain": [
       "\u001b[1m Non-trainable params: \u001b[0m\u001b[38;5;34m352\u001b[0m (1.38 KB)\n"
      ]
     },
     "metadata": {},
     "output_type": "display_data"
    }
   ],
   "source": [
    "model.summary()"
   ]
  },
  {
   "cell_type": "code",
   "execution_count": 21,
   "id": "038e1be1",
   "metadata": {
    "execution": {
     "iopub.execute_input": "2024-05-09T10:41:13.782424Z",
     "iopub.status.busy": "2024-05-09T10:41:13.782104Z",
     "iopub.status.idle": "2024-05-09T10:41:13.787615Z",
     "shell.execute_reply": "2024-05-09T10:41:13.787025Z"
    },
    "papermill": {
     "duration": 0.018475,
     "end_time": "2024-05-09T10:41:13.789710",
     "exception": false,
     "start_time": "2024-05-09T10:41:13.771235",
     "status": "completed"
    },
    "tags": []
   },
   "outputs": [],
   "source": [
    "from tensorflow.keras.callbacks import EarlyStopping"
   ]
  },
  {
   "cell_type": "code",
   "execution_count": 22,
   "id": "789b7c97",
   "metadata": {
    "execution": {
     "iopub.execute_input": "2024-05-09T10:41:13.812462Z",
     "iopub.status.busy": "2024-05-09T10:41:13.811654Z",
     "iopub.status.idle": "2024-05-09T10:41:13.816382Z",
     "shell.execute_reply": "2024-05-09T10:41:13.815325Z"
    },
    "papermill": {
     "duration": 0.018457,
     "end_time": "2024-05-09T10:41:13.819001",
     "exception": false,
     "start_time": "2024-05-09T10:41:13.800544",
     "status": "completed"
    },
    "tags": []
   },
   "outputs": [],
   "source": [
    "early_stop = EarlyStopping(monitor='val_loss',\n",
    "                          min_delta=0,\n",
    "                          mode='auto',\n",
    "                           restore_best_weights=True,\n",
    "                           verbose=1,\n",
    "                           patience=50\n",
    "                          \n",
    "                          )"
   ]
  },
  {
   "cell_type": "code",
   "execution_count": 23,
   "id": "d56d7355",
   "metadata": {
    "execution": {
     "iopub.execute_input": "2024-05-09T10:41:13.842526Z",
     "iopub.status.busy": "2024-05-09T10:41:13.841539Z",
     "iopub.status.idle": "2024-05-09T10:55:17.058345Z",
     "shell.execute_reply": "2024-05-09T10:55:17.057224Z"
    },
    "papermill": {
     "duration": 843.231275,
     "end_time": "2024-05-09T10:55:17.060949",
     "exception": false,
     "start_time": "2024-05-09T10:41:13.829674",
     "status": "completed"
    },
    "tags": []
   },
   "outputs": [
    {
     "name": "stdout",
     "output_type": "stream",
     "text": [
      "Epoch 1/100\n",
      "\u001b[1m106/106\u001b[0m \u001b[32m━━━━━━━━━━━━━━━━━━━━\u001b[0m\u001b[37m\u001b[0m \u001b[1m10s\u001b[0m 78ms/step - accuracy: 0.6986 - loss: 0.9607 - val_accuracy: 0.1050 - val_loss: 2.6713\n",
      "Epoch 2/100\n",
      "\u001b[1m106/106\u001b[0m \u001b[32m━━━━━━━━━━━━━━━━━━━━\u001b[0m\u001b[37m\u001b[0m \u001b[1m8s\u001b[0m 78ms/step - accuracy: 0.9529 - loss: 0.1563 - val_accuracy: 0.2835 - val_loss: 2.4696\n",
      "Epoch 3/100\n",
      "\u001b[1m106/106\u001b[0m \u001b[32m━━━━━━━━━━━━━━━━━━━━\u001b[0m\u001b[37m\u001b[0m \u001b[1m10s\u001b[0m 74ms/step - accuracy: 0.9666 - loss: 0.1090 - val_accuracy: 0.5832 - val_loss: 1.2577\n",
      "Epoch 4/100\n",
      "\u001b[1m106/106\u001b[0m \u001b[32m━━━━━━━━━━━━━━━━━━━━\u001b[0m\u001b[37m\u001b[0m \u001b[1m8s\u001b[0m 75ms/step - accuracy: 0.9734 - loss: 0.0837 - val_accuracy: 0.9182 - val_loss: 0.2841\n",
      "Epoch 5/100\n",
      "\u001b[1m106/106\u001b[0m \u001b[32m━━━━━━━━━━━━━━━━━━━━\u001b[0m\u001b[37m\u001b[0m \u001b[1m8s\u001b[0m 74ms/step - accuracy: 0.9788 - loss: 0.0685 - val_accuracy: 0.9723 - val_loss: 0.0931\n",
      "Epoch 6/100\n",
      "\u001b[1m106/106\u001b[0m \u001b[32m━━━━━━━━━━━━━━━━━━━━\u001b[0m\u001b[37m\u001b[0m \u001b[1m10s\u001b[0m 74ms/step - accuracy: 0.9794 - loss: 0.0664 - val_accuracy: 0.9860 - val_loss: 0.0445\n",
      "Epoch 7/100\n",
      "\u001b[1m106/106\u001b[0m \u001b[32m━━━━━━━━━━━━━━━━━━━━\u001b[0m\u001b[37m\u001b[0m \u001b[1m8s\u001b[0m 74ms/step - accuracy: 0.9824 - loss: 0.0574 - val_accuracy: 0.9882 - val_loss: 0.0379\n",
      "Epoch 8/100\n",
      "\u001b[1m106/106\u001b[0m \u001b[32m━━━━━━━━━━━━━━━━━━━━\u001b[0m\u001b[37m\u001b[0m \u001b[1m8s\u001b[0m 74ms/step - accuracy: 0.9837 - loss: 0.0504 - val_accuracy: 0.9892 - val_loss: 0.0353\n",
      "Epoch 9/100\n",
      "\u001b[1m106/106\u001b[0m \u001b[32m━━━━━━━━━━━━━━━━━━━━\u001b[0m\u001b[37m\u001b[0m \u001b[1m8s\u001b[0m 76ms/step - accuracy: 0.9848 - loss: 0.0485 - val_accuracy: 0.9907 - val_loss: 0.0326\n",
      "Epoch 10/100\n",
      "\u001b[1m106/106\u001b[0m \u001b[32m━━━━━━━━━━━━━━━━━━━━\u001b[0m\u001b[37m\u001b[0m \u001b[1m8s\u001b[0m 73ms/step - accuracy: 0.9846 - loss: 0.0481 - val_accuracy: 0.9913 - val_loss: 0.0304\n",
      "Epoch 11/100\n",
      "\u001b[1m106/106\u001b[0m \u001b[32m━━━━━━━━━━━━━━━━━━━━\u001b[0m\u001b[37m\u001b[0m \u001b[1m8s\u001b[0m 73ms/step - accuracy: 0.9868 - loss: 0.0416 - val_accuracy: 0.9913 - val_loss: 0.0316\n",
      "Epoch 12/100\n",
      "\u001b[1m106/106\u001b[0m \u001b[32m━━━━━━━━━━━━━━━━━━━━\u001b[0m\u001b[37m\u001b[0m \u001b[1m8s\u001b[0m 73ms/step - accuracy: 0.9877 - loss: 0.0364 - val_accuracy: 0.9915 - val_loss: 0.0329\n",
      "Epoch 13/100\n",
      "\u001b[1m106/106\u001b[0m \u001b[32m━━━━━━━━━━━━━━━━━━━━\u001b[0m\u001b[37m\u001b[0m \u001b[1m10s\u001b[0m 74ms/step - accuracy: 0.9882 - loss: 0.0389 - val_accuracy: 0.9917 - val_loss: 0.0301\n",
      "Epoch 14/100\n",
      "\u001b[1m106/106\u001b[0m \u001b[32m━━━━━━━━━━━━━━━━━━━━\u001b[0m\u001b[37m\u001b[0m \u001b[1m8s\u001b[0m 71ms/step - accuracy: 0.9882 - loss: 0.0365 - val_accuracy: 0.9920 - val_loss: 0.0286\n",
      "Epoch 15/100\n",
      "\u001b[1m106/106\u001b[0m \u001b[32m━━━━━━━━━━━━━━━━━━━━\u001b[0m\u001b[37m\u001b[0m \u001b[1m8s\u001b[0m 72ms/step - accuracy: 0.9889 - loss: 0.0337 - val_accuracy: 0.9915 - val_loss: 0.0293\n",
      "Epoch 16/100\n",
      "\u001b[1m106/106\u001b[0m \u001b[32m━━━━━━━━━━━━━━━━━━━━\u001b[0m\u001b[37m\u001b[0m \u001b[1m8s\u001b[0m 72ms/step - accuracy: 0.9896 - loss: 0.0319 - val_accuracy: 0.9902 - val_loss: 0.0298\n",
      "Epoch 17/100\n",
      "\u001b[1m106/106\u001b[0m \u001b[32m━━━━━━━━━━━━━━━━━━━━\u001b[0m\u001b[37m\u001b[0m \u001b[1m8s\u001b[0m 75ms/step - accuracy: 0.9907 - loss: 0.0297 - val_accuracy: 0.9912 - val_loss: 0.0290\n",
      "Epoch 18/100\n",
      "\u001b[1m106/106\u001b[0m \u001b[32m━━━━━━━━━━━━━━━━━━━━\u001b[0m\u001b[37m\u001b[0m \u001b[1m8s\u001b[0m 73ms/step - accuracy: 0.9911 - loss: 0.0284 - val_accuracy: 0.9905 - val_loss: 0.0302\n",
      "Epoch 19/100\n",
      "\u001b[1m106/106\u001b[0m \u001b[32m━━━━━━━━━━━━━━━━━━━━\u001b[0m\u001b[37m\u001b[0m \u001b[1m8s\u001b[0m 73ms/step - accuracy: 0.9915 - loss: 0.0267 - val_accuracy: 0.9912 - val_loss: 0.0329\n",
      "Epoch 20/100\n",
      "\u001b[1m106/106\u001b[0m \u001b[32m━━━━━━━━━━━━━━━━━━━━\u001b[0m\u001b[37m\u001b[0m \u001b[1m8s\u001b[0m 72ms/step - accuracy: 0.9919 - loss: 0.0247 - val_accuracy: 0.9925 - val_loss: 0.0249\n",
      "Epoch 21/100\n",
      "\u001b[1m106/106\u001b[0m \u001b[32m━━━━━━━━━━━━━━━━━━━━\u001b[0m\u001b[37m\u001b[0m \u001b[1m8s\u001b[0m 74ms/step - accuracy: 0.9927 - loss: 0.0233 - val_accuracy: 0.9915 - val_loss: 0.0282\n",
      "Epoch 22/100\n",
      "\u001b[1m106/106\u001b[0m \u001b[32m━━━━━━━━━━━━━━━━━━━━\u001b[0m\u001b[37m\u001b[0m \u001b[1m10s\u001b[0m 72ms/step - accuracy: 0.9920 - loss: 0.0237 - val_accuracy: 0.9933 - val_loss: 0.0270\n",
      "Epoch 23/100\n",
      "\u001b[1m106/106\u001b[0m \u001b[32m━━━━━━━━━━━━━━━━━━━━\u001b[0m\u001b[37m\u001b[0m \u001b[1m10s\u001b[0m 72ms/step - accuracy: 0.9918 - loss: 0.0231 - val_accuracy: 0.9917 - val_loss: 0.0274\n",
      "Epoch 24/100\n",
      "\u001b[1m106/106\u001b[0m \u001b[32m━━━━━━━━━━━━━━━━━━━━\u001b[0m\u001b[37m\u001b[0m \u001b[1m11s\u001b[0m 75ms/step - accuracy: 0.9927 - loss: 0.0220 - val_accuracy: 0.9917 - val_loss: 0.0281\n",
      "Epoch 25/100\n",
      "\u001b[1m106/106\u001b[0m \u001b[32m━━━━━━━━━━━━━━━━━━━━\u001b[0m\u001b[37m\u001b[0m \u001b[1m10s\u001b[0m 74ms/step - accuracy: 0.9927 - loss: 0.0199 - val_accuracy: 0.9933 - val_loss: 0.0280\n",
      "Epoch 26/100\n",
      "\u001b[1m106/106\u001b[0m \u001b[32m━━━━━━━━━━━━━━━━━━━━\u001b[0m\u001b[37m\u001b[0m \u001b[1m8s\u001b[0m 73ms/step - accuracy: 0.9923 - loss: 0.0221 - val_accuracy: 0.9918 - val_loss: 0.0253\n",
      "Epoch 27/100\n",
      "\u001b[1m106/106\u001b[0m \u001b[32m━━━━━━━━━━━━━━━━━━━━\u001b[0m\u001b[37m\u001b[0m \u001b[1m8s\u001b[0m 73ms/step - accuracy: 0.9937 - loss: 0.0195 - val_accuracy: 0.9922 - val_loss: 0.0254\n",
      "Epoch 28/100\n",
      "\u001b[1m106/106\u001b[0m \u001b[32m━━━━━━━━━━━━━━━━━━━━\u001b[0m\u001b[37m\u001b[0m \u001b[1m8s\u001b[0m 75ms/step - accuracy: 0.9926 - loss: 0.0221 - val_accuracy: 0.9928 - val_loss: 0.0261\n",
      "Epoch 29/100\n",
      "\u001b[1m106/106\u001b[0m \u001b[32m━━━━━━━━━━━━━━━━━━━━\u001b[0m\u001b[37m\u001b[0m \u001b[1m8s\u001b[0m 74ms/step - accuracy: 0.9927 - loss: 0.0207 - val_accuracy: 0.9920 - val_loss: 0.0286\n",
      "Epoch 30/100\n",
      "\u001b[1m106/106\u001b[0m \u001b[32m━━━━━━━━━━━━━━━━━━━━\u001b[0m\u001b[37m\u001b[0m \u001b[1m10s\u001b[0m 73ms/step - accuracy: 0.9944 - loss: 0.0187 - val_accuracy: 0.9920 - val_loss: 0.0253\n",
      "Epoch 31/100\n",
      "\u001b[1m106/106\u001b[0m \u001b[32m━━━━━━━━━━━━━━━━━━━━\u001b[0m\u001b[37m\u001b[0m \u001b[1m10s\u001b[0m 75ms/step - accuracy: 0.9937 - loss: 0.0191 - val_accuracy: 0.9918 - val_loss: 0.0287\n",
      "Epoch 32/100\n",
      "\u001b[1m106/106\u001b[0m \u001b[32m━━━━━━━━━━━━━━━━━━━━\u001b[0m\u001b[37m\u001b[0m \u001b[1m8s\u001b[0m 75ms/step - accuracy: 0.9948 - loss: 0.0167 - val_accuracy: 0.9923 - val_loss: 0.0273\n",
      "Epoch 33/100\n",
      "\u001b[1m106/106\u001b[0m \u001b[32m━━━━━━━━━━━━━━━━━━━━\u001b[0m\u001b[37m\u001b[0m \u001b[1m8s\u001b[0m 73ms/step - accuracy: 0.9947 - loss: 0.0160 - val_accuracy: 0.9925 - val_loss: 0.0269\n",
      "Epoch 34/100\n",
      "\u001b[1m106/106\u001b[0m \u001b[32m━━━━━━━━━━━━━━━━━━━━\u001b[0m\u001b[37m\u001b[0m \u001b[1m8s\u001b[0m 74ms/step - accuracy: 0.9946 - loss: 0.0162 - val_accuracy: 0.9927 - val_loss: 0.0274\n",
      "Epoch 35/100\n",
      "\u001b[1m106/106\u001b[0m \u001b[32m━━━━━━━━━━━━━━━━━━━━\u001b[0m\u001b[37m\u001b[0m \u001b[1m8s\u001b[0m 77ms/step - accuracy: 0.9944 - loss: 0.0158 - val_accuracy: 0.9918 - val_loss: 0.0303\n",
      "Epoch 36/100\n",
      "\u001b[1m106/106\u001b[0m \u001b[32m━━━━━━━━━━━━━━━━━━━━\u001b[0m\u001b[37m\u001b[0m \u001b[1m8s\u001b[0m 74ms/step - accuracy: 0.9952 - loss: 0.0153 - val_accuracy: 0.9923 - val_loss: 0.0280\n",
      "Epoch 37/100\n",
      "\u001b[1m106/106\u001b[0m \u001b[32m━━━━━━━━━━━━━━━━━━━━\u001b[0m\u001b[37m\u001b[0m \u001b[1m8s\u001b[0m 73ms/step - accuracy: 0.9955 - loss: 0.0143 - val_accuracy: 0.9937 - val_loss: 0.0257\n",
      "Epoch 38/100\n",
      "\u001b[1m106/106\u001b[0m \u001b[32m━━━━━━━━━━━━━━━━━━━━\u001b[0m\u001b[37m\u001b[0m \u001b[1m10s\u001b[0m 73ms/step - accuracy: 0.9943 - loss: 0.0175 - val_accuracy: 0.9935 - val_loss: 0.0261\n",
      "Epoch 39/100\n",
      "\u001b[1m106/106\u001b[0m \u001b[32m━━━━━━━━━━━━━━━━━━━━\u001b[0m\u001b[37m\u001b[0m \u001b[1m8s\u001b[0m 75ms/step - accuracy: 0.9948 - loss: 0.0150 - val_accuracy: 0.9935 - val_loss: 0.0251\n",
      "Epoch 40/100\n",
      "\u001b[1m106/106\u001b[0m \u001b[32m━━━━━━━━━━━━━━━━━━━━\u001b[0m\u001b[37m\u001b[0m \u001b[1m8s\u001b[0m 73ms/step - accuracy: 0.9950 - loss: 0.0143 - val_accuracy: 0.9918 - val_loss: 0.0307\n",
      "Epoch 41/100\n",
      "\u001b[1m106/106\u001b[0m \u001b[32m━━━━━━━━━━━━━━━━━━━━\u001b[0m\u001b[37m\u001b[0m \u001b[1m10s\u001b[0m 73ms/step - accuracy: 0.9953 - loss: 0.0140 - val_accuracy: 0.9922 - val_loss: 0.0271\n",
      "Epoch 42/100\n",
      "\u001b[1m106/106\u001b[0m \u001b[32m━━━━━━━━━━━━━━━━━━━━\u001b[0m\u001b[37m\u001b[0m \u001b[1m10s\u001b[0m 74ms/step - accuracy: 0.9953 - loss: 0.0134 - val_accuracy: 0.9935 - val_loss: 0.0254\n",
      "Epoch 43/100\n",
      "\u001b[1m106/106\u001b[0m \u001b[32m━━━━━━━━━━━━━━━━━━━━\u001b[0m\u001b[37m\u001b[0m \u001b[1m8s\u001b[0m 73ms/step - accuracy: 0.9949 - loss: 0.0150 - val_accuracy: 0.9925 - val_loss: 0.0264\n",
      "Epoch 44/100\n",
      "\u001b[1m106/106\u001b[0m \u001b[32m━━━━━━━━━━━━━━━━━━━━\u001b[0m\u001b[37m\u001b[0m \u001b[1m8s\u001b[0m 73ms/step - accuracy: 0.9952 - loss: 0.0139 - val_accuracy: 0.9928 - val_loss: 0.0276\n",
      "Epoch 45/100\n",
      "\u001b[1m106/106\u001b[0m \u001b[32m━━━━━━━━━━━━━━━━━━━━\u001b[0m\u001b[37m\u001b[0m \u001b[1m8s\u001b[0m 74ms/step - accuracy: 0.9957 - loss: 0.0125 - val_accuracy: 0.9938 - val_loss: 0.0262\n",
      "Epoch 46/100\n",
      "\u001b[1m106/106\u001b[0m \u001b[32m━━━━━━━━━━━━━━━━━━━━\u001b[0m\u001b[37m\u001b[0m \u001b[1m8s\u001b[0m 76ms/step - accuracy: 0.9966 - loss: 0.0110 - val_accuracy: 0.9925 - val_loss: 0.0263\n",
      "Epoch 47/100\n",
      "\u001b[1m106/106\u001b[0m \u001b[32m━━━━━━━━━━━━━━━━━━━━\u001b[0m\u001b[37m\u001b[0m \u001b[1m8s\u001b[0m 75ms/step - accuracy: 0.9957 - loss: 0.0116 - val_accuracy: 0.9947 - val_loss: 0.0230\n",
      "Epoch 48/100\n",
      "\u001b[1m106/106\u001b[0m \u001b[32m━━━━━━━━━━━━━━━━━━━━\u001b[0m\u001b[37m\u001b[0m \u001b[1m8s\u001b[0m 73ms/step - accuracy: 0.9957 - loss: 0.0120 - val_accuracy: 0.9927 - val_loss: 0.0278\n",
      "Epoch 49/100\n",
      "\u001b[1m106/106\u001b[0m \u001b[32m━━━━━━━━━━━━━━━━━━━━\u001b[0m\u001b[37m\u001b[0m \u001b[1m8s\u001b[0m 73ms/step - accuracy: 0.9958 - loss: 0.0123 - val_accuracy: 0.9937 - val_loss: 0.0258\n",
      "Epoch 50/100\n",
      "\u001b[1m106/106\u001b[0m \u001b[32m━━━━━━━━━━━━━━━━━━━━\u001b[0m\u001b[37m\u001b[0m \u001b[1m8s\u001b[0m 75ms/step - accuracy: 0.9959 - loss: 0.0125 - val_accuracy: 0.9938 - val_loss: 0.0253\n",
      "Epoch 51/100\n",
      "\u001b[1m106/106\u001b[0m \u001b[32m━━━━━━━━━━━━━━━━━━━━\u001b[0m\u001b[37m\u001b[0m \u001b[1m8s\u001b[0m 74ms/step - accuracy: 0.9965 - loss: 0.0107 - val_accuracy: 0.9935 - val_loss: 0.0273\n",
      "Epoch 52/100\n",
      "\u001b[1m106/106\u001b[0m \u001b[32m━━━━━━━━━━━━━━━━━━━━\u001b[0m\u001b[37m\u001b[0m \u001b[1m8s\u001b[0m 74ms/step - accuracy: 0.9954 - loss: 0.0126 - val_accuracy: 0.9930 - val_loss: 0.0266\n",
      "Epoch 53/100\n",
      "\u001b[1m106/106\u001b[0m \u001b[32m━━━━━━━━━━━━━━━━━━━━\u001b[0m\u001b[37m\u001b[0m \u001b[1m8s\u001b[0m 72ms/step - accuracy: 0.9956 - loss: 0.0131 - val_accuracy: 0.9915 - val_loss: 0.0311\n",
      "Epoch 54/100\n",
      "\u001b[1m106/106\u001b[0m \u001b[32m━━━━━━━━━━━━━━━━━━━━\u001b[0m\u001b[37m\u001b[0m \u001b[1m8s\u001b[0m 78ms/step - accuracy: 0.9962 - loss: 0.0113 - val_accuracy: 0.9930 - val_loss: 0.0264\n",
      "Epoch 55/100\n",
      "\u001b[1m106/106\u001b[0m \u001b[32m━━━━━━━━━━━━━━━━━━━━\u001b[0m\u001b[37m\u001b[0m \u001b[1m10s\u001b[0m 74ms/step - accuracy: 0.9964 - loss: 0.0099 - val_accuracy: 0.9942 - val_loss: 0.0249\n",
      "Epoch 56/100\n",
      "\u001b[1m106/106\u001b[0m \u001b[32m━━━━━━━━━━━━━━━━━━━━\u001b[0m\u001b[37m\u001b[0m \u001b[1m10s\u001b[0m 73ms/step - accuracy: 0.9958 - loss: 0.0109 - val_accuracy: 0.9930 - val_loss: 0.0282\n",
      "Epoch 57/100\n",
      "\u001b[1m106/106\u001b[0m \u001b[32m━━━━━━━━━━━━━━━━━━━━\u001b[0m\u001b[37m\u001b[0m \u001b[1m10s\u001b[0m 73ms/step - accuracy: 0.9969 - loss: 0.0093 - val_accuracy: 0.9938 - val_loss: 0.0238\n",
      "Epoch 58/100\n",
      "\u001b[1m106/106\u001b[0m \u001b[32m━━━━━━━━━━━━━━━━━━━━\u001b[0m\u001b[37m\u001b[0m \u001b[1m10s\u001b[0m 74ms/step - accuracy: 0.9958 - loss: 0.0122 - val_accuracy: 0.9932 - val_loss: 0.0276\n",
      "Epoch 59/100\n",
      "\u001b[1m106/106\u001b[0m \u001b[32m━━━━━━━━━━━━━━━━━━━━\u001b[0m\u001b[37m\u001b[0m \u001b[1m10s\u001b[0m 73ms/step - accuracy: 0.9969 - loss: 0.0100 - val_accuracy: 0.9943 - val_loss: 0.0244\n",
      "Epoch 60/100\n",
      "\u001b[1m106/106\u001b[0m \u001b[32m━━━━━━━━━━━━━━━━━━━━\u001b[0m\u001b[37m\u001b[0m \u001b[1m8s\u001b[0m 73ms/step - accuracy: 0.9960 - loss: 0.0113 - val_accuracy: 0.9943 - val_loss: 0.0264\n",
      "Epoch 61/100\n",
      "\u001b[1m106/106\u001b[0m \u001b[32m━━━━━━━━━━━━━━━━━━━━\u001b[0m\u001b[37m\u001b[0m \u001b[1m11s\u001b[0m 77ms/step - accuracy: 0.9969 - loss: 0.0091 - val_accuracy: 0.9935 - val_loss: 0.0269\n",
      "Epoch 62/100\n",
      "\u001b[1m106/106\u001b[0m \u001b[32m━━━━━━━━━━━━━━━━━━━━\u001b[0m\u001b[37m\u001b[0m \u001b[1m10s\u001b[0m 76ms/step - accuracy: 0.9966 - loss: 0.0102 - val_accuracy: 0.9942 - val_loss: 0.0256\n",
      "Epoch 63/100\n",
      "\u001b[1m106/106\u001b[0m \u001b[32m━━━━━━━━━━━━━━━━━━━━\u001b[0m\u001b[37m\u001b[0m \u001b[1m10s\u001b[0m 75ms/step - accuracy: 0.9969 - loss: 0.0096 - val_accuracy: 0.9933 - val_loss: 0.0281\n",
      "Epoch 64/100\n",
      "\u001b[1m106/106\u001b[0m \u001b[32m━━━━━━━━━━━━━━━━━━━━\u001b[0m\u001b[37m\u001b[0m \u001b[1m10s\u001b[0m 77ms/step - accuracy: 0.9961 - loss: 0.0110 - val_accuracy: 0.9927 - val_loss: 0.0272\n",
      "Epoch 65/100\n",
      "\u001b[1m106/106\u001b[0m \u001b[32m━━━━━━━━━━━━━━━━━━━━\u001b[0m\u001b[37m\u001b[0m \u001b[1m10s\u001b[0m 74ms/step - accuracy: 0.9963 - loss: 0.0095 - val_accuracy: 0.9930 - val_loss: 0.0288\n",
      "Epoch 66/100\n",
      "\u001b[1m106/106\u001b[0m \u001b[32m━━━━━━━━━━━━━━━━━━━━\u001b[0m\u001b[37m\u001b[0m \u001b[1m8s\u001b[0m 74ms/step - accuracy: 0.9971 - loss: 0.0091 - val_accuracy: 0.9927 - val_loss: 0.0321\n",
      "Epoch 67/100\n",
      "\u001b[1m106/106\u001b[0m \u001b[32m━━━━━━━━━━━━━━━━━━━━\u001b[0m\u001b[37m\u001b[0m \u001b[1m8s\u001b[0m 76ms/step - accuracy: 0.9971 - loss: 0.0082 - val_accuracy: 0.9932 - val_loss: 0.0275\n",
      "Epoch 68/100\n",
      "\u001b[1m106/106\u001b[0m \u001b[32m━━━━━━━━━━━━━━━━━━━━\u001b[0m\u001b[37m\u001b[0m \u001b[1m10s\u001b[0m 73ms/step - accuracy: 0.9961 - loss: 0.0107 - val_accuracy: 0.9942 - val_loss: 0.0271\n",
      "Epoch 69/100\n",
      "\u001b[1m106/106\u001b[0m \u001b[32m━━━━━━━━━━━━━━━━━━━━\u001b[0m\u001b[37m\u001b[0m \u001b[1m11s\u001b[0m 76ms/step - accuracy: 0.9972 - loss: 0.0081 - val_accuracy: 0.9930 - val_loss: 0.0273\n",
      "Epoch 70/100\n",
      "\u001b[1m106/106\u001b[0m \u001b[32m━━━━━━━━━━━━━━━━━━━━\u001b[0m\u001b[37m\u001b[0m \u001b[1m11s\u001b[0m 79ms/step - accuracy: 0.9971 - loss: 0.0092 - val_accuracy: 0.9935 - val_loss: 0.0288\n",
      "Epoch 71/100\n",
      "\u001b[1m106/106\u001b[0m \u001b[32m━━━━━━━━━━━━━━━━━━━━\u001b[0m\u001b[37m\u001b[0m \u001b[1m10s\u001b[0m 75ms/step - accuracy: 0.9966 - loss: 0.0094 - val_accuracy: 0.9947 - val_loss: 0.0265\n",
      "Epoch 72/100\n",
      "\u001b[1m106/106\u001b[0m \u001b[32m━━━━━━━━━━━━━━━━━━━━\u001b[0m\u001b[37m\u001b[0m \u001b[1m10s\u001b[0m 72ms/step - accuracy: 0.9968 - loss: 0.0090 - val_accuracy: 0.9942 - val_loss: 0.0265\n",
      "Epoch 73/100\n",
      "\u001b[1m106/106\u001b[0m \u001b[32m━━━━━━━━━━━━━━━━━━━━\u001b[0m\u001b[37m\u001b[0m \u001b[1m8s\u001b[0m 73ms/step - accuracy: 0.9967 - loss: 0.0094 - val_accuracy: 0.9935 - val_loss: 0.0274\n",
      "Epoch 74/100\n",
      "\u001b[1m106/106\u001b[0m \u001b[32m━━━━━━━━━━━━━━━━━━━━\u001b[0m\u001b[37m\u001b[0m \u001b[1m8s\u001b[0m 75ms/step - accuracy: 0.9965 - loss: 0.0094 - val_accuracy: 0.9945 - val_loss: 0.0265\n",
      "Epoch 75/100\n",
      "\u001b[1m106/106\u001b[0m \u001b[32m━━━━━━━━━━━━━━━━━━━━\u001b[0m\u001b[37m\u001b[0m \u001b[1m8s\u001b[0m 73ms/step - accuracy: 0.9975 - loss: 0.0080 - val_accuracy: 0.9940 - val_loss: 0.0273\n",
      "Epoch 76/100\n",
      "\u001b[1m106/106\u001b[0m \u001b[32m━━━━━━━━━━━━━━━━━━━━\u001b[0m\u001b[37m\u001b[0m \u001b[1m8s\u001b[0m 73ms/step - accuracy: 0.9969 - loss: 0.0088 - val_accuracy: 0.9940 - val_loss: 0.0264\n",
      "Epoch 77/100\n",
      "\u001b[1m106/106\u001b[0m \u001b[32m━━━━━━━━━━━━━━━━━━━━\u001b[0m\u001b[37m\u001b[0m \u001b[1m8s\u001b[0m 74ms/step - accuracy: 0.9972 - loss: 0.0078 - val_accuracy: 0.9932 - val_loss: 0.0299\n",
      "Epoch 78/100\n",
      "\u001b[1m106/106\u001b[0m \u001b[32m━━━━━━━━━━━━━━━━━━━━\u001b[0m\u001b[37m\u001b[0m \u001b[1m8s\u001b[0m 76ms/step - accuracy: 0.9971 - loss: 0.0080 - val_accuracy: 0.9942 - val_loss: 0.0272\n",
      "Epoch 79/100\n",
      "\u001b[1m106/106\u001b[0m \u001b[32m━━━━━━━━━━━━━━━━━━━━\u001b[0m\u001b[37m\u001b[0m \u001b[1m8s\u001b[0m 73ms/step - accuracy: 0.9969 - loss: 0.0091 - val_accuracy: 0.9935 - val_loss: 0.0267\n",
      "Epoch 80/100\n",
      "\u001b[1m106/106\u001b[0m \u001b[32m━━━━━━━━━━━━━━━━━━━━\u001b[0m\u001b[37m\u001b[0m \u001b[1m10s\u001b[0m 73ms/step - accuracy: 0.9979 - loss: 0.0069 - val_accuracy: 0.9930 - val_loss: 0.0326\n",
      "Epoch 81/100\n",
      "\u001b[1m106/106\u001b[0m \u001b[32m━━━━━━━━━━━━━━━━━━━━\u001b[0m\u001b[37m\u001b[0m \u001b[1m8s\u001b[0m 75ms/step - accuracy: 0.9971 - loss: 0.0082 - val_accuracy: 0.9938 - val_loss: 0.0265\n",
      "Epoch 82/100\n",
      "\u001b[1m106/106\u001b[0m \u001b[32m━━━━━━━━━━━━━━━━━━━━\u001b[0m\u001b[37m\u001b[0m \u001b[1m8s\u001b[0m 74ms/step - accuracy: 0.9969 - loss: 0.0084 - val_accuracy: 0.9942 - val_loss: 0.0300\n",
      "Epoch 83/100\n",
      "\u001b[1m106/106\u001b[0m \u001b[32m━━━━━━━━━━━━━━━━━━━━\u001b[0m\u001b[37m\u001b[0m \u001b[1m8s\u001b[0m 72ms/step - accuracy: 0.9973 - loss: 0.0080 - val_accuracy: 0.9938 - val_loss: 0.0286\n",
      "Epoch 84/100\n",
      "\u001b[1m106/106\u001b[0m \u001b[32m━━━━━━━━━━━━━━━━━━━━\u001b[0m\u001b[37m\u001b[0m \u001b[1m10s\u001b[0m 73ms/step - accuracy: 0.9967 - loss: 0.0089 - val_accuracy: 0.9932 - val_loss: 0.0275\n",
      "Epoch 85/100\n",
      "\u001b[1m106/106\u001b[0m \u001b[32m━━━━━━━━━━━━━━━━━━━━\u001b[0m\u001b[37m\u001b[0m \u001b[1m8s\u001b[0m 78ms/step - accuracy: 0.9976 - loss: 0.0070 - val_accuracy: 0.9933 - val_loss: 0.0275\n",
      "Epoch 86/100\n",
      "\u001b[1m106/106\u001b[0m \u001b[32m━━━━━━━━━━━━━━━━━━━━\u001b[0m\u001b[37m\u001b[0m \u001b[1m8s\u001b[0m 73ms/step - accuracy: 0.9974 - loss: 0.0070 - val_accuracy: 0.9937 - val_loss: 0.0313\n",
      "Epoch 87/100\n",
      "\u001b[1m106/106\u001b[0m \u001b[32m━━━━━━━━━━━━━━━━━━━━\u001b[0m\u001b[37m\u001b[0m \u001b[1m10s\u001b[0m 72ms/step - accuracy: 0.9969 - loss: 0.0085 - val_accuracy: 0.9950 - val_loss: 0.0254\n",
      "Epoch 88/100\n",
      "\u001b[1m106/106\u001b[0m \u001b[32m━━━━━━━━━━━━━━━━━━━━\u001b[0m\u001b[37m\u001b[0m \u001b[1m11s\u001b[0m 75ms/step - accuracy: 0.9971 - loss: 0.0081 - val_accuracy: 0.9943 - val_loss: 0.0283\n",
      "Epoch 89/100\n",
      "\u001b[1m106/106\u001b[0m \u001b[32m━━━━━━━━━━━━━━━━━━━━\u001b[0m\u001b[37m\u001b[0m \u001b[1m8s\u001b[0m 74ms/step - accuracy: 0.9970 - loss: 0.0087 - val_accuracy: 0.9942 - val_loss: 0.0273\n",
      "Epoch 90/100\n",
      "\u001b[1m106/106\u001b[0m \u001b[32m━━━━━━━━━━━━━━━━━━━━\u001b[0m\u001b[37m\u001b[0m \u001b[1m8s\u001b[0m 74ms/step - accuracy: 0.9973 - loss: 0.0077 - val_accuracy: 0.9952 - val_loss: 0.0253\n",
      "Epoch 91/100\n",
      "\u001b[1m106/106\u001b[0m \u001b[32m━━━━━━━━━━━━━━━━━━━━\u001b[0m\u001b[37m\u001b[0m \u001b[1m8s\u001b[0m 74ms/step - accuracy: 0.9976 - loss: 0.0073 - val_accuracy: 0.9943 - val_loss: 0.0278\n",
      "Epoch 92/100\n",
      "\u001b[1m106/106\u001b[0m \u001b[32m━━━━━━━━━━━━━━━━━━━━\u001b[0m\u001b[37m\u001b[0m \u001b[1m8s\u001b[0m 75ms/step - accuracy: 0.9975 - loss: 0.0072 - val_accuracy: 0.9938 - val_loss: 0.0289\n",
      "Epoch 93/100\n",
      "\u001b[1m106/106\u001b[0m \u001b[32m━━━━━━━━━━━━━━━━━━━━\u001b[0m\u001b[37m\u001b[0m \u001b[1m10s\u001b[0m 74ms/step - accuracy: 0.9969 - loss: 0.0087 - val_accuracy: 0.9937 - val_loss: 0.0285\n",
      "Epoch 94/100\n",
      "\u001b[1m106/106\u001b[0m \u001b[32m━━━━━━━━━━━━━━━━━━━━\u001b[0m\u001b[37m\u001b[0m \u001b[1m8s\u001b[0m 74ms/step - accuracy: 0.9971 - loss: 0.0078 - val_accuracy: 0.9927 - val_loss: 0.0288\n",
      "Epoch 95/100\n",
      "\u001b[1m106/106\u001b[0m \u001b[32m━━━━━━━━━━━━━━━━━━━━\u001b[0m\u001b[37m\u001b[0m \u001b[1m8s\u001b[0m 77ms/step - accuracy: 0.9976 - loss: 0.0072 - val_accuracy: 0.9952 - val_loss: 0.0270\n",
      "Epoch 96/100\n",
      "\u001b[1m106/106\u001b[0m \u001b[32m━━━━━━━━━━━━━━━━━━━━\u001b[0m\u001b[37m\u001b[0m \u001b[1m8s\u001b[0m 76ms/step - accuracy: 0.9976 - loss: 0.0070 - val_accuracy: 0.9940 - val_loss: 0.0283\n",
      "Epoch 97/100\n",
      "\u001b[1m106/106\u001b[0m \u001b[32m━━━━━━━━━━━━━━━━━━━━\u001b[0m\u001b[37m\u001b[0m \u001b[1m10s\u001b[0m 73ms/step - accuracy: 0.9973 - loss: 0.0088 - val_accuracy: 0.9937 - val_loss: 0.0290\n",
      "Epoch 97: early stopping\n",
      "Restoring model weights from the end of the best epoch: 47.\n"
     ]
    },
    {
     "data": {
      "text/plain": [
       "<keras.src.callbacks.history.History at 0x7d508c3bb220>"
      ]
     },
     "execution_count": 23,
     "metadata": {},
     "output_type": "execute_result"
    }
   ],
   "source": [
    "model.fit(X_train,y_train,validation_split=0.1,batch_size=512,epochs=100,verbose=1,callbacks=[early_stop])"
   ]
  },
  {
   "cell_type": "code",
   "execution_count": 24,
   "id": "4e57d770",
   "metadata": {
    "execution": {
     "iopub.execute_input": "2024-05-09T10:55:18.358003Z",
     "iopub.status.busy": "2024-05-09T10:55:18.357026Z",
     "iopub.status.idle": "2024-05-09T10:55:18.366634Z",
     "shell.execute_reply": "2024-05-09T10:55:18.365981Z"
    },
    "papermill": {
     "duration": 0.631499,
     "end_time": "2024-05-09T10:55:18.368380",
     "exception": false,
     "start_time": "2024-05-09T10:55:17.736881",
     "status": "completed"
    },
    "tags": []
   },
   "outputs": [
    {
     "data": {
      "text/plain": [
       "{'accuracy': [0.8474814891815186,\n",
       "  0.9557222127914429,\n",
       "  0.9682592749595642,\n",
       "  0.9739999771118164,\n",
       "  0.9780370593070984,\n",
       "  0.9797037243843079,\n",
       "  0.9821666479110718,\n",
       "  0.983222246170044,\n",
       "  0.9849073886871338,\n",
       "  0.9856111407279968,\n",
       "  0.9867777824401855,\n",
       "  0.9871296286582947,\n",
       "  0.9881481528282166,\n",
       "  0.988277792930603,\n",
       "  0.9886666536331177,\n",
       "  0.9894258975982666,\n",
       "  0.9903518557548523,\n",
       "  0.9907962679862976,\n",
       "  0.9906851649284363,\n",
       "  0.9910740852355957,\n",
       "  0.9920740723609924,\n",
       "  0.9915555715560913,\n",
       "  0.9920185208320618,\n",
       "  0.9926851987838745,\n",
       "  0.9924629926681519,\n",
       "  0.992555558681488,\n",
       "  0.9935926198959351,\n",
       "  0.9926111102104187,\n",
       "  0.9929259419441223,\n",
       "  0.9938703775405884,\n",
       "  0.9936110973358154,\n",
       "  0.9944815039634705,\n",
       "  0.9939814805984497,\n",
       "  0.9947037100791931,\n",
       "  0.9940184950828552,\n",
       "  0.99485182762146,\n",
       "  0.9948333501815796,\n",
       "  0.994185209274292,\n",
       "  0.9947962760925293,\n",
       "  0.9949629902839661,\n",
       "  0.9954259395599365,\n",
       "  0.9950000047683716,\n",
       "  0.9950370192527771,\n",
       "  0.9950370192527771,\n",
       "  0.995722234249115,\n",
       "  0.9960185289382935,\n",
       "  0.9956481456756592,\n",
       "  0.9953148365020752,\n",
       "  0.9961481690406799,\n",
       "  0.9957407116889954,\n",
       "  0.996222198009491,\n",
       "  0.9956666827201843,\n",
       "  0.9956851601600647,\n",
       "  0.9959074258804321,\n",
       "  0.9963703751564026,\n",
       "  0.9960185289382935,\n",
       "  0.996222198009491,\n",
       "  0.9959074258804321,\n",
       "  0.9965000152587891,\n",
       "  0.9961481690406799,\n",
       "  0.9966111183166504,\n",
       "  0.9966111183166504,\n",
       "  0.9961666464805603,\n",
       "  0.9963333606719971,\n",
       "  0.996222198009491,\n",
       "  0.9968703985214233,\n",
       "  0.996925950050354,\n",
       "  0.9963518381118774,\n",
       "  0.9969815015792847,\n",
       "  0.996925950050354,\n",
       "  0.9966852068901062,\n",
       "  0.9967963099479675,\n",
       "  0.9967963099479675,\n",
       "  0.996833324432373,\n",
       "  0.9971296191215515,\n",
       "  0.9969629645347595,\n",
       "  0.9972222447395325,\n",
       "  0.9970370531082153,\n",
       "  0.9969074130058289,\n",
       "  0.9974814653396606,\n",
       "  0.9972222447395325,\n",
       "  0.9969074130058289,\n",
       "  0.9971481561660767,\n",
       "  0.9966852068901062,\n",
       "  0.9973888993263245,\n",
       "  0.9971296191215515,\n",
       "  0.9969815015792847,\n",
       "  0.9971296191215515,\n",
       "  0.9971851706504822,\n",
       "  0.9974074363708496,\n",
       "  0.9976851940155029,\n",
       "  0.9974074363708496,\n",
       "  0.9971481561660767,\n",
       "  0.9970370531082153,\n",
       "  0.9976851940155029,\n",
       "  0.9976481199264526,\n",
       "  0.9972222447395325],\n",
       " 'loss': [0.48665696382522583,\n",
       "  0.14231622219085693,\n",
       "  0.10244565457105637,\n",
       "  0.0830039530992508,\n",
       "  0.06987366080284119,\n",
       "  0.06450455635786057,\n",
       "  0.05662344768643379,\n",
       "  0.05267638340592384,\n",
       "  0.048005420714616776,\n",
       "  0.046348586678504944,\n",
       "  0.04189406707882881,\n",
       "  0.03892623633146286,\n",
       "  0.03768680617213249,\n",
       "  0.036013729870319366,\n",
       "  0.03357541561126709,\n",
       "  0.03231951966881752,\n",
       "  0.029892848804593086,\n",
       "  0.029548287391662598,\n",
       "  0.028543904423713684,\n",
       "  0.026570061221718788,\n",
       "  0.024231936782598495,\n",
       "  0.025104621425271034,\n",
       "  0.024062270298600197,\n",
       "  0.022724173963069916,\n",
       "  0.021315600723028183,\n",
       "  0.022564858198165894,\n",
       "  0.020020607858896255,\n",
       "  0.02096400037407875,\n",
       "  0.020282994955778122,\n",
       "  0.019540663808584213,\n",
       "  0.018746746703982353,\n",
       "  0.017017245292663574,\n",
       "  0.017968514934182167,\n",
       "  0.016356052830815315,\n",
       "  0.01721169799566269,\n",
       "  0.01571466214954853,\n",
       "  0.01595591939985752,\n",
       "  0.017639990895986557,\n",
       "  0.01519632339477539,\n",
       "  0.015397188253700733,\n",
       "  0.014093354344367981,\n",
       "  0.01432652585208416,\n",
       "  0.014426938258111477,\n",
       "  0.014566526748239994,\n",
       "  0.012381686829030514,\n",
       "  0.011526386253535748,\n",
       "  0.012132054194808006,\n",
       "  0.013016055338084698,\n",
       "  0.01214141771197319,\n",
       "  0.012830112129449844,\n",
       "  0.01132955588400364,\n",
       "  0.012521113269031048,\n",
       "  0.012665128335356712,\n",
       "  0.011802545748651028,\n",
       "  0.010865206830203533,\n",
       "  0.011150121688842773,\n",
       "  0.010743270628154278,\n",
       "  0.01202656514942646,\n",
       "  0.01024572178721428,\n",
       "  0.011271224357187748,\n",
       "  0.009669695980846882,\n",
       "  0.010435371659696102,\n",
       "  0.010793766938149929,\n",
       "  0.011333168484270573,\n",
       "  0.009977289475500584,\n",
       "  0.009224782697856426,\n",
       "  0.00883008074015379,\n",
       "  0.01016143150627613,\n",
       "  0.00878309365361929,\n",
       "  0.00922702718526125,\n",
       "  0.009495954029262066,\n",
       "  0.009247695095837116,\n",
       "  0.009033096954226494,\n",
       "  0.009539755061268806,\n",
       "  0.008636929094791412,\n",
       "  0.009032373316586018,\n",
       "  0.008138136938214302,\n",
       "  0.00821374636143446,\n",
       "  0.00850975513458252,\n",
       "  0.007930826395750046,\n",
       "  0.008085084147751331,\n",
       "  0.008735655806958675,\n",
       "  0.007990929298102856,\n",
       "  0.008988660760223866,\n",
       "  0.00802018865942955,\n",
       "  0.008337383158504963,\n",
       "  0.008527297526597977,\n",
       "  0.008517993614077568,\n",
       "  0.008725356310606003,\n",
       "  0.0074204085394740105,\n",
       "  0.00718466704711318,\n",
       "  0.007632970344275236,\n",
       "  0.007922152057290077,\n",
       "  0.007777191232889891,\n",
       "  0.006880422588437796,\n",
       "  0.007321686949580908,\n",
       "  0.008260045200586319],\n",
       " 'val_accuracy': [0.10499999672174454,\n",
       "  0.28349998593330383,\n",
       "  0.5831666588783264,\n",
       "  0.9181666374206543,\n",
       "  0.9723333120346069,\n",
       "  0.9860000014305115,\n",
       "  0.9881666898727417,\n",
       "  0.9891666769981384,\n",
       "  0.9906666874885559,\n",
       "  0.9913333058357239,\n",
       "  0.9913333058357239,\n",
       "  0.9915000200271606,\n",
       "  0.9916666746139526,\n",
       "  0.9919999837875366,\n",
       "  0.9915000200271606,\n",
       "  0.9901666641235352,\n",
       "  0.9911666512489319,\n",
       "  0.9904999732971191,\n",
       "  0.9911666512489319,\n",
       "  0.9925000071525574,\n",
       "  0.9915000200271606,\n",
       "  0.9933333396911621,\n",
       "  0.9916666746139526,\n",
       "  0.9916666746139526,\n",
       "  0.9933333396911621,\n",
       "  0.9918333292007446,\n",
       "  0.9921666383743286,\n",
       "  0.9928333163261414,\n",
       "  0.9919999837875366,\n",
       "  0.9919999837875366,\n",
       "  0.9918333292007446,\n",
       "  0.9923333525657654,\n",
       "  0.9925000071525574,\n",
       "  0.9926666617393494,\n",
       "  0.9918333292007446,\n",
       "  0.9923333525657654,\n",
       "  0.9936666488647461,\n",
       "  0.9934999942779541,\n",
       "  0.9934999942779541,\n",
       "  0.9918333292007446,\n",
       "  0.9921666383743286,\n",
       "  0.9934999942779541,\n",
       "  0.9925000071525574,\n",
       "  0.9928333163261414,\n",
       "  0.9938333630561829,\n",
       "  0.9925000071525574,\n",
       "  0.9946666955947876,\n",
       "  0.9926666617393494,\n",
       "  0.9936666488647461,\n",
       "  0.9938333630561829,\n",
       "  0.9934999942779541,\n",
       "  0.9929999709129333,\n",
       "  0.9915000200271606,\n",
       "  0.9929999709129333,\n",
       "  0.9941666722297668,\n",
       "  0.9929999709129333,\n",
       "  0.9938333630561829,\n",
       "  0.9931666851043701,\n",
       "  0.9943333268165588,\n",
       "  0.9943333268165588,\n",
       "  0.9934999942779541,\n",
       "  0.9941666722297668,\n",
       "  0.9933333396911621,\n",
       "  0.9926666617393494,\n",
       "  0.9929999709129333,\n",
       "  0.9926666617393494,\n",
       "  0.9931666851043701,\n",
       "  0.9941666722297668,\n",
       "  0.9929999709129333,\n",
       "  0.9934999942779541,\n",
       "  0.9946666955947876,\n",
       "  0.9941666722297668,\n",
       "  0.9934999942779541,\n",
       "  0.9944999814033508,\n",
       "  0.9940000176429749,\n",
       "  0.9940000176429749,\n",
       "  0.9931666851043701,\n",
       "  0.9941666722297668,\n",
       "  0.9934999942779541,\n",
       "  0.9929999709129333,\n",
       "  0.9938333630561829,\n",
       "  0.9941666722297668,\n",
       "  0.9938333630561829,\n",
       "  0.9931666851043701,\n",
       "  0.9933333396911621,\n",
       "  0.9936666488647461,\n",
       "  0.9950000047683716,\n",
       "  0.9943333268165588,\n",
       "  0.9941666722297668,\n",
       "  0.9951666593551636,\n",
       "  0.9943333268165588,\n",
       "  0.9938333630561829,\n",
       "  0.9936666488647461,\n",
       "  0.9926666617393494,\n",
       "  0.9951666593551636,\n",
       "  0.9940000176429749,\n",
       "  0.9936666488647461],\n",
       " 'val_loss': [2.671333074569702,\n",
       "  2.469569206237793,\n",
       "  1.2577497959136963,\n",
       "  0.28410080075263977,\n",
       "  0.0930669829249382,\n",
       "  0.044461190700531006,\n",
       "  0.037941135466098785,\n",
       "  0.03528987616300583,\n",
       "  0.032602667808532715,\n",
       "  0.030381061136722565,\n",
       "  0.03158998861908913,\n",
       "  0.03286794200539589,\n",
       "  0.030128933489322662,\n",
       "  0.028570998460054398,\n",
       "  0.029330428689718246,\n",
       "  0.02979535236954689,\n",
       "  0.02900417149066925,\n",
       "  0.030207162722945213,\n",
       "  0.032923828810453415,\n",
       "  0.024938838556408882,\n",
       "  0.028241297230124474,\n",
       "  0.02695254608988762,\n",
       "  0.027410492300987244,\n",
       "  0.028127921745181084,\n",
       "  0.028041845187544823,\n",
       "  0.025322677567601204,\n",
       "  0.02538052573800087,\n",
       "  0.026080060750246048,\n",
       "  0.02858850173652172,\n",
       "  0.02527630887925625,\n",
       "  0.028700485825538635,\n",
       "  0.027294281870126724,\n",
       "  0.026917658746242523,\n",
       "  0.02736755833029747,\n",
       "  0.030327819287776947,\n",
       "  0.028001366183161736,\n",
       "  0.025670774281024933,\n",
       "  0.026131002232432365,\n",
       "  0.02506280317902565,\n",
       "  0.030738607048988342,\n",
       "  0.027127772569656372,\n",
       "  0.02538878843188286,\n",
       "  0.026387469843029976,\n",
       "  0.027619995176792145,\n",
       "  0.02620326727628708,\n",
       "  0.026339545845985413,\n",
       "  0.02300497703254223,\n",
       "  0.027825800701975822,\n",
       "  0.025835128501057625,\n",
       "  0.025329681113362312,\n",
       "  0.027331706136465073,\n",
       "  0.026591014117002487,\n",
       "  0.03113427758216858,\n",
       "  0.026399677619338036,\n",
       "  0.02489791065454483,\n",
       "  0.02820649743080139,\n",
       "  0.02377777174115181,\n",
       "  0.02759528160095215,\n",
       "  0.02442031353712082,\n",
       "  0.026406940072774887,\n",
       "  0.026942480355501175,\n",
       "  0.02563498355448246,\n",
       "  0.028099525719881058,\n",
       "  0.027158360928297043,\n",
       "  0.02884037233889103,\n",
       "  0.03209683299064636,\n",
       "  0.02748613804578781,\n",
       "  0.0270779300481081,\n",
       "  0.027250101789832115,\n",
       "  0.02875579334795475,\n",
       "  0.026534978300333023,\n",
       "  0.026510344818234444,\n",
       "  0.027418162673711777,\n",
       "  0.026533696800470352,\n",
       "  0.027331039309501648,\n",
       "  0.026436874642968178,\n",
       "  0.029856229200959206,\n",
       "  0.02718610130250454,\n",
       "  0.02669413574039936,\n",
       "  0.03262293338775635,\n",
       "  0.026518329977989197,\n",
       "  0.030016055330634117,\n",
       "  0.02861716039478779,\n",
       "  0.027470707893371582,\n",
       "  0.02745029143989086,\n",
       "  0.03131113946437836,\n",
       "  0.02543978951871395,\n",
       "  0.028314918279647827,\n",
       "  0.02734655700623989,\n",
       "  0.02526581846177578,\n",
       "  0.027819272130727768,\n",
       "  0.028861520811915398,\n",
       "  0.028458217158913612,\n",
       "  0.028755687177181244,\n",
       "  0.02699110470712185,\n",
       "  0.02828526310622692,\n",
       "  0.02897096984088421]}"
      ]
     },
     "execution_count": 24,
     "metadata": {},
     "output_type": "execute_result"
    }
   ],
   "source": [
    "model.history.history"
   ]
  },
  {
   "cell_type": "code",
   "execution_count": 25,
   "id": "0c006adf",
   "metadata": {
    "execution": {
     "iopub.execute_input": "2024-05-09T10:55:19.672227Z",
     "iopub.status.busy": "2024-05-09T10:55:19.670950Z",
     "iopub.status.idle": "2024-05-09T10:55:19.694449Z",
     "shell.execute_reply": "2024-05-09T10:55:19.693521Z"
    },
    "papermill": {
     "duration": 0.647798,
     "end_time": "2024-05-09T10:55:19.696256",
     "exception": false,
     "start_time": "2024-05-09T10:55:19.048458",
     "status": "completed"
    },
    "tags": []
   },
   "outputs": [
    {
     "data": {
      "text/html": [
       "<div>\n",
       "<style scoped>\n",
       "    .dataframe tbody tr th:only-of-type {\n",
       "        vertical-align: middle;\n",
       "    }\n",
       "\n",
       "    .dataframe tbody tr th {\n",
       "        vertical-align: top;\n",
       "    }\n",
       "\n",
       "    .dataframe thead th {\n",
       "        text-align: right;\n",
       "    }\n",
       "</style>\n",
       "<table border=\"1\" class=\"dataframe\">\n",
       "  <thead>\n",
       "    <tr style=\"text-align: right;\">\n",
       "      <th></th>\n",
       "      <th>accuracy</th>\n",
       "      <th>loss</th>\n",
       "      <th>val_accuracy</th>\n",
       "      <th>val_loss</th>\n",
       "    </tr>\n",
       "  </thead>\n",
       "  <tbody>\n",
       "    <tr>\n",
       "      <th>4</th>\n",
       "      <td>0.978037</td>\n",
       "      <td>0.069874</td>\n",
       "      <td>0.972333</td>\n",
       "      <td>0.093067</td>\n",
       "    </tr>\n",
       "    <tr>\n",
       "      <th>6</th>\n",
       "      <td>0.982167</td>\n",
       "      <td>0.056623</td>\n",
       "      <td>0.988167</td>\n",
       "      <td>0.037941</td>\n",
       "    </tr>\n",
       "    <tr>\n",
       "      <th>8</th>\n",
       "      <td>0.984907</td>\n",
       "      <td>0.048005</td>\n",
       "      <td>0.990667</td>\n",
       "      <td>0.032603</td>\n",
       "    </tr>\n",
       "    <tr>\n",
       "      <th>10</th>\n",
       "      <td>0.986778</td>\n",
       "      <td>0.041894</td>\n",
       "      <td>0.991333</td>\n",
       "      <td>0.031590</td>\n",
       "    </tr>\n",
       "    <tr>\n",
       "      <th>12</th>\n",
       "      <td>0.988148</td>\n",
       "      <td>0.037687</td>\n",
       "      <td>0.991667</td>\n",
       "      <td>0.030129</td>\n",
       "    </tr>\n",
       "    <tr>\n",
       "      <th>14</th>\n",
       "      <td>0.988667</td>\n",
       "      <td>0.033575</td>\n",
       "      <td>0.991500</td>\n",
       "      <td>0.029330</td>\n",
       "    </tr>\n",
       "    <tr>\n",
       "      <th>16</th>\n",
       "      <td>0.990352</td>\n",
       "      <td>0.029893</td>\n",
       "      <td>0.991167</td>\n",
       "      <td>0.029004</td>\n",
       "    </tr>\n",
       "    <tr>\n",
       "      <th>18</th>\n",
       "      <td>0.990685</td>\n",
       "      <td>0.028544</td>\n",
       "      <td>0.991167</td>\n",
       "      <td>0.032924</td>\n",
       "    </tr>\n",
       "  </tbody>\n",
       "</table>\n",
       "</div>"
      ],
      "text/plain": [
       "    accuracy      loss  val_accuracy  val_loss\n",
       "4   0.978037  0.069874      0.972333  0.093067\n",
       "6   0.982167  0.056623      0.988167  0.037941\n",
       "8   0.984907  0.048005      0.990667  0.032603\n",
       "10  0.986778  0.041894      0.991333  0.031590\n",
       "12  0.988148  0.037687      0.991667  0.030129\n",
       "14  0.988667  0.033575      0.991500  0.029330\n",
       "16  0.990352  0.029893      0.991167  0.029004\n",
       "18  0.990685  0.028544      0.991167  0.032924"
      ]
     },
     "execution_count": 25,
     "metadata": {},
     "output_type": "execute_result"
    }
   ],
   "source": [
    "summary=pd.DataFrame(model.history.history)\n",
    "summary.head(20)[4:20:2]"
   ]
  },
  {
   "cell_type": "code",
   "execution_count": 26,
   "id": "a6894ec8",
   "metadata": {
    "execution": {
     "iopub.execute_input": "2024-05-09T10:55:20.989460Z",
     "iopub.status.busy": "2024-05-09T10:55:20.989129Z",
     "iopub.status.idle": "2024-05-09T10:55:22.339010Z",
     "shell.execute_reply": "2024-05-09T10:55:22.338157Z"
    },
    "papermill": {
     "duration": 1.975368,
     "end_time": "2024-05-09T10:55:22.341012",
     "exception": false,
     "start_time": "2024-05-09T10:55:20.365644",
     "status": "completed"
    },
    "tags": []
   },
   "outputs": [
    {
     "name": "stdout",
     "output_type": "stream",
     "text": [
      "\u001b[1m313/313\u001b[0m \u001b[32m━━━━━━━━━━━━━━━━━━━━\u001b[0m\u001b[37m\u001b[0m \u001b[1m1s\u001b[0m 4ms/step - accuracy: 0.9906 - loss: 0.0261\n"
     ]
    },
    {
     "data": {
      "text/plain": [
       "[0.018871402367949486, 0.9930999875068665]"
      ]
     },
     "execution_count": 26,
     "metadata": {},
     "output_type": "execute_result"
    }
   ],
   "source": [
    "model.evaluate(X_test,y_test)"
   ]
  },
  {
   "cell_type": "code",
   "execution_count": 27,
   "id": "e65a3a28",
   "metadata": {
    "execution": {
     "iopub.execute_input": "2024-05-09T10:55:23.661053Z",
     "iopub.status.busy": "2024-05-09T10:55:23.659864Z",
     "iopub.status.idle": "2024-05-09T10:55:23.858190Z",
     "shell.execute_reply": "2024-05-09T10:55:23.857289Z"
    },
    "papermill": {
     "duration": 0.876993,
     "end_time": "2024-05-09T10:55:23.860568",
     "exception": false,
     "start_time": "2024-05-09T10:55:22.983575",
     "status": "completed"
    },
    "tags": []
   },
   "outputs": [
    {
     "data": {
      "text/plain": [
       "<matplotlib.legend.Legend at 0x7d508c3ba950>"
      ]
     },
     "execution_count": 27,
     "metadata": {},
     "output_type": "execute_result"
    },
    {
     "data": {
      "image/png": "[encoded data removed]",
      "text/plain": [
       "<Figure size 1200x500 with 1 Axes>"
      ]
     },
     "metadata": {},
     "output_type": "display_data"
    }
   ],
   "source": [
    "plt.figure(figsize=(12,5))\n",
    "plt.plot(summary.accuracy)\n",
    "plt.plot(summary.val_accuracy)\n",
    "plt.xlabel('Epoch')\n",
    "plt.ylabel('Accuracy')\n",
    "plt.legend('labels')"
   ]
  },
  {
   "cell_type": "code",
   "execution_count": 28,
   "id": "a5871bad",
   "metadata": {
    "execution": {
     "iopub.execute_input": "2024-05-09T10:55:25.116273Z",
     "iopub.status.busy": "2024-05-09T10:55:25.115870Z",
     "iopub.status.idle": "2024-05-09T10:55:25.312841Z",
     "shell.execute_reply": "2024-05-09T10:55:25.312116Z"
    },
    "papermill": {
     "duration": 0.834226,
     "end_time": "2024-05-09T10:55:25.314537",
     "exception": false,
     "start_time": "2024-05-09T10:55:24.480311",
     "status": "completed"
    },
    "tags": []
   },
   "outputs": [
    {
     "data": {
      "text/plain": [
       "(0.95, 1.0)"
      ]
     },
     "execution_count": 28,
     "metadata": {},
     "output_type": "execute_result"
    },
    {
     "data": {
      "image/png": "[encoded data removed]",
      "text/plain": [
       "<Figure size 1000x600 with 1 Axes>"
      ]
     },
     "metadata": {},
     "output_type": "display_data"
    }
   ],
   "source": [
    "plt.figure(figsize=(10,6))\n",
    "plt.plot(summary.accuracy)        \n",
    "plt.plot(summary.val_accuracy)\n",
    "plt.ylabel(\"Accuracy\")\n",
    "plt.xlabel(\"Epoch\")\n",
    "plt.legend('labels');\n",
    "\n",
    "plt.ylim(0.95,1) #                                                                    "
   ]
  },
  {
   "cell_type": "code",
   "execution_count": 29,
   "id": "ef619337",
   "metadata": {
    "execution": {
     "iopub.execute_input": "2024-05-09T10:55:26.619070Z",
     "iopub.status.busy": "2024-05-09T10:55:26.618435Z",
     "iopub.status.idle": "2024-05-09T10:55:28.151352Z",
     "shell.execute_reply": "2024-05-09T10:55:28.150623Z"
    },
    "papermill": {
     "duration": 2.160037,
     "end_time": "2024-05-09T10:55:28.153257",
     "exception": false,
     "start_time": "2024-05-09T10:55:25.993220",
     "status": "completed"
    },
    "tags": []
   },
   "outputs": [
    {
     "name": "stdout",
     "output_type": "stream",
     "text": [
      "\u001b[1m313/313\u001b[0m \u001b[32m━━━━━━━━━━━━━━━━━━━━\u001b[0m\u001b[37m\u001b[0m \u001b[1m1s\u001b[0m 4ms/step\n"
     ]
    },
    {
     "data": {
      "text/plain": [
       "array([[1.91349540e-11, 1.24350654e-08, 3.15414961e-09, ...,\n",
       "        9.99999940e-01, 2.91125977e-12, 1.84013356e-08],\n",
       "       [2.52282639e-09, 3.80444405e-08, 9.99999940e-01, ...,\n",
       "        4.69126626e-10, 1.06731693e-10, 9.64783184e-11],\n",
       "       [1.81277560e-09, 9.99999821e-01, 9.26885374e-11, ...,\n",
       "        7.78980649e-08, 3.00232977e-10, 5.11640452e-11],\n",
       "       ...,\n",
       "       [3.80454631e-15, 4.06587319e-10, 1.16206695e-14, ...,\n",
       "        1.13082162e-10, 6.20987844e-11, 2.40135001e-09],\n",
       "       [9.90831722e-12, 1.68257525e-13, 6.60824368e-13, ...,\n",
       "        1.02013309e-12, 8.62175682e-08, 4.66661172e-12],\n",
       "       [3.10319660e-06, 2.36743585e-08, 1.73879507e-05, ...,\n",
       "        1.98899963e-09, 3.98247448e-06, 1.83682509e-08]], dtype=float32)"
      ]
     },
     "execution_count": 29,
     "metadata": {},
     "output_type": "execute_result"
    }
   ],
   "source": [
    "pred = model.predict(X_test)\n",
    "pred"
   ]
  },
  {
   "cell_type": "code",
   "execution_count": 30,
   "id": "0f81f3c2",
   "metadata": {
    "execution": {
     "iopub.execute_input": "2024-05-09T10:55:29.453706Z",
     "iopub.status.busy": "2024-05-09T10:55:29.453360Z",
     "iopub.status.idle": "2024-05-09T10:55:29.460087Z",
     "shell.execute_reply": "2024-05-09T10:55:29.459083Z"
    },
    "papermill": {
     "duration": 0.632982,
     "end_time": "2024-05-09T10:55:29.461920",
     "exception": false,
     "start_time": "2024-05-09T10:55:28.828938",
     "status": "completed"
    },
    "tags": []
   },
   "outputs": [
    {
     "data": {
      "text/plain": [
       "array([1.9134954e-11, 1.2435065e-08, 3.1541496e-09, 1.3863132e-09,\n",
       "       1.4231164e-09, 9.8639681e-12, 1.9738727e-13, 9.9999994e-01,\n",
       "       2.9112598e-12, 1.8401336e-08], dtype=float32)"
      ]
     },
     "execution_count": 30,
     "metadata": {},
     "output_type": "execute_result"
    }
   ],
   "source": [
    "pred[0]"
   ]
  },
  {
   "cell_type": "code",
   "execution_count": 31,
   "id": "43cf5d72",
   "metadata": {
    "execution": {
     "iopub.execute_input": "2024-05-09T10:55:30.776273Z",
     "iopub.status.busy": "2024-05-09T10:55:30.775979Z",
     "iopub.status.idle": "2024-05-09T10:55:30.780762Z",
     "shell.execute_reply": "2024-05-09T10:55:30.779746Z"
    },
    "papermill": {
     "duration": 0.637216,
     "end_time": "2024-05-09T10:55:30.782912",
     "exception": false,
     "start_time": "2024-05-09T10:55:30.145696",
     "status": "completed"
    },
    "tags": []
   },
   "outputs": [],
   "source": [
    "predictions = np.argmax(pred,axis=1)"
   ]
  },
  {
   "cell_type": "code",
   "execution_count": 32,
   "id": "424c4c25",
   "metadata": {
    "execution": {
     "iopub.execute_input": "2024-05-09T10:55:32.101007Z",
     "iopub.status.busy": "2024-05-09T10:55:32.100154Z",
     "iopub.status.idle": "2024-05-09T10:55:32.108056Z",
     "shell.execute_reply": "2024-05-09T10:55:32.107140Z"
    },
    "papermill": {
     "duration": 0.643395,
     "end_time": "2024-05-09T10:55:32.109739",
     "exception": false,
     "start_time": "2024-05-09T10:55:31.466344",
     "status": "completed"
    },
    "tags": []
   },
   "outputs": [
    {
     "data": {
      "text/plain": [
       "array([7, 2, 1, ..., 4, 5, 6])"
      ]
     },
     "execution_count": 32,
     "metadata": {},
     "output_type": "execute_result"
    }
   ],
   "source": [
    "predictions"
   ]
  },
  {
   "cell_type": "code",
   "execution_count": 33,
   "id": "d6715682",
   "metadata": {
    "execution": {
     "iopub.execute_input": "2024-05-09T10:55:33.428207Z",
     "iopub.status.busy": "2024-05-09T10:55:33.427762Z",
     "iopub.status.idle": "2024-05-09T10:55:33.432231Z",
     "shell.execute_reply": "2024-05-09T10:55:33.431637Z"
    },
    "papermill": {
     "duration": 0.636238,
     "end_time": "2024-05-09T10:55:33.434761",
     "exception": false,
     "start_time": "2024-05-09T10:55:32.798523",
     "status": "completed"
    },
    "tags": []
   },
   "outputs": [
    {
     "name": "stdout",
     "output_type": "stream",
     "text": [
      "[7 2 1 0 4 1 4 9 5 9 0 6 9 0 1 5 9 7 3 4 9 6 6 5 4 0 7 4 0 1 3 1 3 4 7 2 7\n",
      " 1 2 1 1 7 4 2 3 5 1 2 4 4 6 3 5 5 6 0 4 1 9 5 7 8 9 3 7 4 6 4 3 0 7 0 2 9\n",
      " 1 7 3 2 9 7 7 6 2 7 8 4 7 3 6 1 3 6 9 3 1 4 1 7 6 9]\n"
     ]
    }
   ],
   "source": [
    "print(predictions[:100])"
   ]
  },
  {
   "cell_type": "markdown",
   "id": "3bc16f60",
   "metadata": {
    "papermill": {
     "duration": 0.695946,
     "end_time": "2024-05-09T10:55:34.752660",
     "exception": false,
     "start_time": "2024-05-09T10:55:34.056714",
     "status": "completed"
    },
    "tags": []
   },
   "source": []
  },
  {
   "cell_type": "code",
   "execution_count": null,
   "id": "0a0eb4ba",
   "metadata": {
    "papermill": {
     "duration": 0.697014,
     "end_time": "2024-05-09T10:55:36.109227",
     "exception": false,
     "start_time": "2024-05-09T10:55:35.412213",
     "status": "completed"
    },
    "tags": []
   },
   "outputs": [],
   "source": []
  }
 ],
 "metadata": {
  "kaggle": {
   "accelerator": "none",
   "dataSources": [
    {
     "databundleVersionId": 861823,
     "sourceId": 3004,
     "sourceType": "competition"
    }
   ],
   "dockerImageVersionId": 30699,
   "isGpuEnabled": false,
   "isInternetEnabled": true,
   "language": "python",
   "sourceType": "notebook"
  },
  "kernelspec": {
   "display_name": "Python 3",
   "language": "python",
   "name": "python3"
  },
  "language_info": {
   "codemirror_mode": {
    "name": "ipython",
    "version": 3
   },
   "file_extension": ".py",
   "mimetype": "text/x-python",
   "name": "python",
   "nbconvert_exporter": "python",
   "pygments_lexer": "ipython3",
   "version": "3.10.13"
  },
  "papermill": {
   "default_parameters": {},
   "duration": 882.45578,
   "end_time": "2024-05-09T10:55:38.248800",
   "environment_variables": {},
   "exception": null,
   "input_path": "__notebook__.ipynb",
   "output_path": "__notebook__.ipynb",
   "parameters": {},
   "start_time": "2024-05-09T10:40:55.793020",
   "version": "2.5.0"
  }
 },
 "nbformat": 4,
 "nbformat_minor": 5
}
