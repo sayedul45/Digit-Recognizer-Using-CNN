{
 "cells": [
  {
   "cell_type": "code",
   "execution_count": 1,
   "id": "b10ede04",
   "metadata": {
    "execution": {
     "iopub.execute_input": "2024-05-09T10:33:29.818923Z",
     "iopub.status.busy": "2024-05-09T10:33:29.818460Z",
     "iopub.status.idle": "2024-05-09T10:33:31.875209Z",
     "shell.execute_reply": "2024-05-09T10:33:31.874267Z"
    },
    "papermill": {
     "duration": 2.071892,
     "end_time": "2024-05-09T10:33:31.877897",
     "exception": false,
     "start_time": "2024-05-09T10:33:29.806005",
     "status": "completed"
    },
    "tags": []
   },
   "outputs": [],
   "source": [
    "import numpy as np\n",
    "import pandas as pd\n",
    "import seaborn as sns\n",
    "import matplotlib.pyplot as plt\n",
    "import warnings\n",
    "warnings.filterwarnings('ignore')\n"
   ]
  },
  {
   "cell_type": "markdown",
   "id": "9a68a2d8",
   "metadata": {
    "papermill": {
     "duration": 0.009193,
     "end_time": "2024-05-09T10:33:31.896659",
     "exception": false,
     "start_time": "2024-05-09T10:33:31.887466",
     "status": "completed"
    },
    "tags": []
   },
   "source": [
    "# Load the data"
   ]
  },
  {
   "cell_type": "code",
   "execution_count": 2,
   "id": "7458fb10",
   "metadata": {
    "execution": {
     "iopub.execute_input": "2024-05-09T10:33:31.917023Z",
     "iopub.status.busy": "2024-05-09T10:33:31.916535Z",
     "iopub.status.idle": "2024-05-09T10:33:38.265294Z",
     "shell.execute_reply": "2024-05-09T10:33:38.264390Z"
    },
    "papermill": {
     "duration": 6.361901,
     "end_time": "2024-05-09T10:33:38.267893",
     "exception": false,
     "start_time": "2024-05-09T10:33:31.905992",
     "status": "completed"
    },
    "tags": []
   },
   "outputs": [],
   "source": [
    "train=pd.read_csv('/kaggle/input/digit-recognizer/train.csv')\n",
    "test=pd.read_csv('/kaggle/input/digit-recognizer/test.csv')"
   ]
  },
  {
   "cell_type": "code",
   "execution_count": 3,
   "id": "efedf917",
   "metadata": {
    "execution": {
     "iopub.execute_input": "2024-05-09T10:33:38.293697Z",
     "iopub.status.busy": "2024-05-09T10:33:38.292810Z",
     "iopub.status.idle": "2024-05-09T10:33:38.325210Z",
     "shell.execute_reply": "2024-05-09T10:33:38.324116Z"
    },
    "papermill": {
     "duration": 0.049757,
     "end_time": "2024-05-09T10:33:38.327339",
     "exception": false,
     "start_time": "2024-05-09T10:33:38.277582",
     "status": "completed"
    },
    "tags": []
   },
   "outputs": [
    {
     "name": "stdout",
     "output_type": "stream",
     "text": [
      "(42000, 785)\n"
     ]
    },
    {
     "data": {
      "text/html": [
       "<div>\n",
       "<style scoped>\n",
       "    .dataframe tbody tr th:only-of-type {\n",
       "        vertical-align: middle;\n",
       "    }\n",
       "\n",
       "    .dataframe tbody tr th {\n",
       "        vertical-align: top;\n",
       "    }\n",
       "\n",
       "    .dataframe thead th {\n",
       "        text-align: right;\n",
       "    }\n",
       "</style>\n",
       "<table border=\"1\" class=\"dataframe\">\n",
       "  <thead>\n",
       "    <tr style=\"text-align: right;\">\n",
       "      <th></th>\n",
       "      <th>label</th>\n",
       "      <th>pixel0</th>\n",
       "      <th>pixel1</th>\n",
       "      <th>pixel2</th>\n",
       "      <th>pixel3</th>\n",
       "      <th>pixel4</th>\n",
       "      <th>pixel5</th>\n",
       "      <th>pixel6</th>\n",
       "      <th>pixel7</th>\n",
       "      <th>pixel8</th>\n",
       "      <th>...</th>\n",
       "      <th>pixel774</th>\n",
       "      <th>pixel775</th>\n",
       "      <th>pixel776</th>\n",
       "      <th>pixel777</th>\n",
       "      <th>pixel778</th>\n",
       "      <th>pixel779</th>\n",
       "      <th>pixel780</th>\n",
       "      <th>pixel781</th>\n",
       "      <th>pixel782</th>\n",
       "      <th>pixel783</th>\n",
       "    </tr>\n",
       "  </thead>\n",
       "  <tbody>\n",
       "    <tr>\n",
       "      <th>0</th>\n",
       "      <td>1</td>\n",
       "      <td>0</td>\n",
       "      <td>0</td>\n",
       "      <td>0</td>\n",
       "      <td>0</td>\n",
       "      <td>0</td>\n",
       "      <td>0</td>\n",
       "      <td>0</td>\n",
       "      <td>0</td>\n",
       "      <td>0</td>\n",
       "      <td>...</td>\n",
       "      <td>0</td>\n",
       "      <td>0</td>\n",
       "      <td>0</td>\n",
       "      <td>0</td>\n",
       "      <td>0</td>\n",
       "      <td>0</td>\n",
       "      <td>0</td>\n",
       "      <td>0</td>\n",
       "      <td>0</td>\n",
       "      <td>0</td>\n",
       "    </tr>\n",
       "    <tr>\n",
       "      <th>1</th>\n",
       "      <td>0</td>\n",
       "      <td>0</td>\n",
       "      <td>0</td>\n",
       "      <td>0</td>\n",
       "      <td>0</td>\n",
       "      <td>0</td>\n",
       "      <td>0</td>\n",
       "      <td>0</td>\n",
       "      <td>0</td>\n",
       "      <td>0</td>\n",
       "      <td>...</td>\n",
       "      <td>0</td>\n",
       "      <td>0</td>\n",
       "      <td>0</td>\n",
       "      <td>0</td>\n",
       "      <td>0</td>\n",
       "      <td>0</td>\n",
       "      <td>0</td>\n",
       "      <td>0</td>\n",
       "      <td>0</td>\n",
       "      <td>0</td>\n",
       "    </tr>\n",
       "    <tr>\n",
       "      <th>2</th>\n",
       "      <td>1</td>\n",
       "      <td>0</td>\n",
       "      <td>0</td>\n",
       "      <td>0</td>\n",
       "      <td>0</td>\n",
       "      <td>0</td>\n",
       "      <td>0</td>\n",
       "      <td>0</td>\n",
       "      <td>0</td>\n",
       "      <td>0</td>\n",
       "      <td>...</td>\n",
       "      <td>0</td>\n",
       "      <td>0</td>\n",
       "      <td>0</td>\n",
       "      <td>0</td>\n",
       "      <td>0</td>\n",
       "      <td>0</td>\n",
       "      <td>0</td>\n",
       "      <td>0</td>\n",
       "      <td>0</td>\n",
       "      <td>0</td>\n",
       "    </tr>\n",
       "    <tr>\n",
       "      <th>3</th>\n",
       "      <td>4</td>\n",
       "      <td>0</td>\n",
       "      <td>0</td>\n",
       "      <td>0</td>\n",
       "      <td>0</td>\n",
       "      <td>0</td>\n",
       "      <td>0</td>\n",
       "      <td>0</td>\n",
       "      <td>0</td>\n",
       "      <td>0</td>\n",
       "      <td>...</td>\n",
       "      <td>0</td>\n",
       "      <td>0</td>\n",
       "      <td>0</td>\n",
       "      <td>0</td>\n",
       "      <td>0</td>\n",
       "      <td>0</td>\n",
       "      <td>0</td>\n",
       "      <td>0</td>\n",
       "      <td>0</td>\n",
       "      <td>0</td>\n",
       "    </tr>\n",
       "    <tr>\n",
       "      <th>4</th>\n",
       "      <td>0</td>\n",
       "      <td>0</td>\n",
       "      <td>0</td>\n",
       "      <td>0</td>\n",
       "      <td>0</td>\n",
       "      <td>0</td>\n",
       "      <td>0</td>\n",
       "      <td>0</td>\n",
       "      <td>0</td>\n",
       "      <td>0</td>\n",
       "      <td>...</td>\n",
       "      <td>0</td>\n",
       "      <td>0</td>\n",
       "      <td>0</td>\n",
       "      <td>0</td>\n",
       "      <td>0</td>\n",
       "      <td>0</td>\n",
       "      <td>0</td>\n",
       "      <td>0</td>\n",
       "      <td>0</td>\n",
       "      <td>0</td>\n",
       "    </tr>\n",
       "    <tr>\n",
       "      <th>5</th>\n",
       "      <td>0</td>\n",
       "      <td>0</td>\n",
       "      <td>0</td>\n",
       "      <td>0</td>\n",
       "      <td>0</td>\n",
       "      <td>0</td>\n",
       "      <td>0</td>\n",
       "      <td>0</td>\n",
       "      <td>0</td>\n",
       "      <td>0</td>\n",
       "      <td>...</td>\n",
       "      <td>0</td>\n",
       "      <td>0</td>\n",
       "      <td>0</td>\n",
       "      <td>0</td>\n",
       "      <td>0</td>\n",
       "      <td>0</td>\n",
       "      <td>0</td>\n",
       "      <td>0</td>\n",
       "      <td>0</td>\n",
       "      <td>0</td>\n",
       "    </tr>\n",
       "    <tr>\n",
       "      <th>6</th>\n",
       "      <td>7</td>\n",
       "      <td>0</td>\n",
       "      <td>0</td>\n",
       "      <td>0</td>\n",
       "      <td>0</td>\n",
       "      <td>0</td>\n",
       "      <td>0</td>\n",
       "      <td>0</td>\n",
       "      <td>0</td>\n",
       "      <td>0</td>\n",
       "      <td>...</td>\n",
       "      <td>0</td>\n",
       "      <td>0</td>\n",
       "      <td>0</td>\n",
       "      <td>0</td>\n",
       "      <td>0</td>\n",
       "      <td>0</td>\n",
       "      <td>0</td>\n",
       "      <td>0</td>\n",
       "      <td>0</td>\n",
       "      <td>0</td>\n",
       "    </tr>\n",
       "    <tr>\n",
       "      <th>7</th>\n",
       "      <td>3</td>\n",
       "      <td>0</td>\n",
       "      <td>0</td>\n",
       "      <td>0</td>\n",
       "      <td>0</td>\n",
       "      <td>0</td>\n",
       "      <td>0</td>\n",
       "      <td>0</td>\n",
       "      <td>0</td>\n",
       "      <td>0</td>\n",
       "      <td>...</td>\n",
       "      <td>0</td>\n",
       "      <td>0</td>\n",
       "      <td>0</td>\n",
       "      <td>0</td>\n",
       "      <td>0</td>\n",
       "      <td>0</td>\n",
       "      <td>0</td>\n",
       "      <td>0</td>\n",
       "      <td>0</td>\n",
       "      <td>0</td>\n",
       "    </tr>\n",
       "    <tr>\n",
       "      <th>8</th>\n",
       "      <td>5</td>\n",
       "      <td>0</td>\n",
       "      <td>0</td>\n",
       "      <td>0</td>\n",
       "      <td>0</td>\n",
       "      <td>0</td>\n",
       "      <td>0</td>\n",
       "      <td>0</td>\n",
       "      <td>0</td>\n",
       "      <td>0</td>\n",
       "      <td>...</td>\n",
       "      <td>0</td>\n",
       "      <td>0</td>\n",
       "      <td>0</td>\n",
       "      <td>0</td>\n",
       "      <td>0</td>\n",
       "      <td>0</td>\n",
       "      <td>0</td>\n",
       "      <td>0</td>\n",
       "      <td>0</td>\n",
       "      <td>0</td>\n",
       "    </tr>\n",
       "    <tr>\n",
       "      <th>9</th>\n",
       "      <td>3</td>\n",
       "      <td>0</td>\n",
       "      <td>0</td>\n",
       "      <td>0</td>\n",
       "      <td>0</td>\n",
       "      <td>0</td>\n",
       "      <td>0</td>\n",
       "      <td>0</td>\n",
       "      <td>0</td>\n",
       "      <td>0</td>\n",
       "      <td>...</td>\n",
       "      <td>0</td>\n",
       "      <td>0</td>\n",
       "      <td>0</td>\n",
       "      <td>0</td>\n",
       "      <td>0</td>\n",
       "      <td>0</td>\n",
       "      <td>0</td>\n",
       "      <td>0</td>\n",
       "      <td>0</td>\n",
       "      <td>0</td>\n",
       "    </tr>\n",
       "  </tbody>\n",
       "</table>\n",
       "<p>10 rows × 785 columns</p>\n",
       "</div>"
      ],
      "text/plain": [
       "   label  pixel0  pixel1  pixel2  pixel3  pixel4  pixel5  pixel6  pixel7  \\\n",
       "0      1       0       0       0       0       0       0       0       0   \n",
       "1      0       0       0       0       0       0       0       0       0   \n",
       "2      1       0       0       0       0       0       0       0       0   \n",
       "3      4       0       0       0       0       0       0       0       0   \n",
       "4      0       0       0       0       0       0       0       0       0   \n",
       "5      0       0       0       0       0       0       0       0       0   \n",
       "6      7       0       0       0       0       0       0       0       0   \n",
       "7      3       0       0       0       0       0       0       0       0   \n",
       "8      5       0       0       0       0       0       0       0       0   \n",
       "9      3       0       0       0       0       0       0       0       0   \n",
       "\n",
       "   pixel8  ...  pixel774  pixel775  pixel776  pixel777  pixel778  pixel779  \\\n",
       "0       0  ...         0         0         0         0         0         0   \n",
       "1       0  ...         0         0         0         0         0         0   \n",
       "2       0  ...         0         0         0         0         0         0   \n",
       "3       0  ...         0         0         0         0         0         0   \n",
       "4       0  ...         0         0         0         0         0         0   \n",
       "5       0  ...         0         0         0         0         0         0   \n",
       "6       0  ...         0         0         0         0         0         0   \n",
       "7       0  ...         0         0         0         0         0         0   \n",
       "8       0  ...         0         0         0         0         0         0   \n",
       "9       0  ...         0         0         0         0         0         0   \n",
       "\n",
       "   pixel780  pixel781  pixel782  pixel783  \n",
       "0         0         0         0         0  \n",
       "1         0         0         0         0  \n",
       "2         0         0         0         0  \n",
       "3         0         0         0         0  \n",
       "4         0         0         0         0  \n",
       "5         0         0         0         0  \n",
       "6         0         0         0         0  \n",
       "7         0         0         0         0  \n",
       "8         0         0         0         0  \n",
       "9         0         0         0         0  \n",
       "\n",
       "[10 rows x 785 columns]"
      ]
     },
     "execution_count": 3,
     "metadata": {},
     "output_type": "execute_result"
    }
   ],
   "source": [
    "print(train.shape)\n",
    "train.head(10)"
   ]
  },
  {
   "cell_type": "markdown",
   "id": "d5366fec",
   "metadata": {
    "papermill": {
     "duration": 0.009923,
     "end_time": "2024-05-09T10:33:38.346990",
     "exception": false,
     "start_time": "2024-05-09T10:33:38.337067",
     "status": "completed"
    },
    "tags": []
   },
   "source": [
    "**Put the labels into y_train**"
   ]
  },
  {
   "cell_type": "code",
   "execution_count": 4,
   "id": "29deb55c",
   "metadata": {
    "execution": {
     "iopub.execute_input": "2024-05-09T10:33:38.369083Z",
     "iopub.status.busy": "2024-05-09T10:33:38.367981Z",
     "iopub.status.idle": "2024-05-09T10:33:38.455905Z",
     "shell.execute_reply": "2024-05-09T10:33:38.454673Z"
    },
    "papermill": {
     "duration": 0.101598,
     "end_time": "2024-05-09T10:33:38.458605",
     "exception": false,
     "start_time": "2024-05-09T10:33:38.357007",
     "status": "completed"
    },
    "tags": []
   },
   "outputs": [],
   "source": [
    "y_train=train['label']\n",
    "X_train=train.drop('label',axis=1,inplace=True)"
   ]
  },
  {
   "cell_type": "code",
   "execution_count": 5,
   "id": "ebde8949",
   "metadata": {
    "execution": {
     "iopub.execute_input": "2024-05-09T10:33:38.481691Z",
     "iopub.status.busy": "2024-05-09T10:33:38.481291Z",
     "iopub.status.idle": "2024-05-09T10:33:38.585999Z",
     "shell.execute_reply": "2024-05-09T10:33:38.584808Z"
    },
    "papermill": {
     "duration": 0.119725,
     "end_time": "2024-05-09T10:33:38.588769",
     "exception": false,
     "start_time": "2024-05-09T10:33:38.469044",
     "status": "completed"
    },
    "tags": []
   },
   "outputs": [],
   "source": [
    "X_train=train.copy()"
   ]
  },
  {
   "cell_type": "code",
   "execution_count": 6,
   "id": "6dfbfb00",
   "metadata": {
    "execution": {
     "iopub.execute_input": "2024-05-09T10:33:38.611727Z",
     "iopub.status.busy": "2024-05-09T10:33:38.610808Z",
     "iopub.status.idle": "2024-05-09T10:33:38.891788Z",
     "shell.execute_reply": "2024-05-09T10:33:38.890734Z"
    },
    "papermill": {
     "duration": 0.295158,
     "end_time": "2024-05-09T10:33:38.894226",
     "exception": false,
     "start_time": "2024-05-09T10:33:38.599068",
     "status": "completed"
    },
    "tags": []
   },
   "outputs": [
    {
     "data": {
      "image/png": "[encoded data removed]",
      "text/plain": [
       "<Figure size 640x480 with 1 Axes>"
      ]
     },
     "metadata": {},
     "output_type": "display_data"
    }
   ],
   "source": [
    "img=X_train.iloc[6].to_numpy()\n",
    "img=img.reshape(28,28)\n",
    "plt.imshow(img,cmap='gray')\n",
    "plt.title(X_train.iloc[8,0])\n",
    "plt.axis('off')\n",
    "plt.show()"
   ]
  },
  {
   "cell_type": "code",
   "execution_count": 7,
   "id": "f35bf5a3",
   "metadata": {
    "execution": {
     "iopub.execute_input": "2024-05-09T10:33:38.916657Z",
     "iopub.status.busy": "2024-05-09T10:33:38.916291Z",
     "iopub.status.idle": "2024-05-09T10:33:38.923264Z",
     "shell.execute_reply": "2024-05-09T10:33:38.922117Z"
    },
    "papermill": {
     "duration": 0.021005,
     "end_time": "2024-05-09T10:33:38.925658",
     "exception": false,
     "start_time": "2024-05-09T10:33:38.904653",
     "status": "completed"
    },
    "tags": []
   },
   "outputs": [
    {
     "data": {
      "text/plain": [
       "0"
      ]
     },
     "execution_count": 7,
     "metadata": {},
     "output_type": "execute_result"
    }
   ],
   "source": [
    "X_train.iloc[0,0]"
   ]
  },
  {
   "cell_type": "code",
   "execution_count": 8,
   "id": "d3dbe47c",
   "metadata": {
    "execution": {
     "iopub.execute_input": "2024-05-09T10:33:38.949462Z",
     "iopub.status.busy": "2024-05-09T10:33:38.948551Z",
     "iopub.status.idle": "2024-05-09T10:33:39.018926Z",
     "shell.execute_reply": "2024-05-09T10:33:39.018019Z"
    },
    "papermill": {
     "duration": 0.084978,
     "end_time": "2024-05-09T10:33:39.021618",
     "exception": false,
     "start_time": "2024-05-09T10:33:38.936640",
     "status": "completed"
    },
    "tags": []
   },
   "outputs": [],
   "source": [
    "X_train/=255"
   ]
  },
  {
   "cell_type": "code",
   "execution_count": 9,
   "id": "5e755759",
   "metadata": {
    "execution": {
     "iopub.execute_input": "2024-05-09T10:33:39.044289Z",
     "iopub.status.busy": "2024-05-09T10:33:39.043877Z",
     "iopub.status.idle": "2024-05-09T10:33:39.049808Z",
     "shell.execute_reply": "2024-05-09T10:33:39.048802Z"
    },
    "papermill": {
     "duration": 0.020081,
     "end_time": "2024-05-09T10:33:39.052237",
     "exception": false,
     "start_time": "2024-05-09T10:33:39.032156",
     "status": "completed"
    },
    "tags": []
   },
   "outputs": [
    {
     "name": "stdout",
     "output_type": "stream",
     "text": [
      "X_train Shape :  (42000, 28, 28, 1)\n"
     ]
    }
   ],
   "source": [
    "X_train=X_train.values.reshape(-1,28,28,1)\n",
    "print('X_train Shape : ',X_train.shape)"
   ]
  },
  {
   "cell_type": "code",
   "execution_count": 10,
   "id": "5799becb",
   "metadata": {
    "execution": {
     "iopub.execute_input": "2024-05-09T10:33:39.075199Z",
     "iopub.status.busy": "2024-05-09T10:33:39.074795Z",
     "iopub.status.idle": "2024-05-09T10:33:51.770041Z",
     "shell.execute_reply": "2024-05-09T10:33:51.768911Z"
    },
    "papermill": {
     "duration": 12.710177,
     "end_time": "2024-05-09T10:33:51.772964",
     "exception": false,
     "start_time": "2024-05-09T10:33:39.062787",
     "status": "completed"
    },
    "tags": []
   },
   "outputs": [
    {
     "name": "stderr",
     "output_type": "stream",
     "text": [
      "2024-05-09 10:33:40.971158: E external/local_xla/xla/stream_executor/cuda/cuda_dnn.cc:9261] Unable to register cuDNN factory: Attempting to register factory for plugin cuDNN when one has already been registered\n",
      "2024-05-09 10:33:40.971267: E external/local_xla/xla/stream_executor/cuda/cuda_fft.cc:607] Unable to register cuFFT factory: Attempting to register factory for plugin cuFFT when one has already been registered\n",
      "2024-05-09 10:33:41.098407: E external/local_xla/xla/stream_executor/cuda/cuda_blas.cc:1515] Unable to register cuBLAS factory: Attempting to register factory for plugin cuBLAS when one has already been registered\n"
     ]
    }
   ],
   "source": [
    "# One hot encoding \n",
    "\n",
    "from keras.utils import to_categorical\n",
    "y_train=to_categorical(y_train,num_classes=10)"
   ]
  },
  {
   "cell_type": "markdown",
   "id": "76af4f6d",
   "metadata": {
    "papermill": {
     "duration": 0.010154,
     "end_time": "2024-05-09T10:33:51.794419",
     "exception": false,
     "start_time": "2024-05-09T10:33:51.784265",
     "status": "completed"
    },
    "tags": []
   },
   "source": [
    "# Train and Val set split"
   ]
  },
  {
   "cell_type": "code",
   "execution_count": 11,
   "id": "b916721e",
   "metadata": {
    "execution": {
     "iopub.execute_input": "2024-05-09T10:33:51.818397Z",
     "iopub.status.busy": "2024-05-09T10:33:51.817166Z",
     "iopub.status.idle": "2024-05-09T10:33:52.439872Z",
     "shell.execute_reply": "2024-05-09T10:33:52.438932Z"
    },
    "papermill": {
     "duration": 0.637555,
     "end_time": "2024-05-09T10:33:52.442535",
     "exception": false,
     "start_time": "2024-05-09T10:33:51.804980",
     "status": "completed"
    },
    "tags": []
   },
   "outputs": [],
   "source": [
    "from sklearn.model_selection import train_test_split\n",
    "X_train,X_val,y_train,y_val=train_test_split(X_train,y_train,test_size=0.2,random_state=42)"
   ]
  },
  {
   "cell_type": "code",
   "execution_count": 12,
   "id": "9b63ed3b",
   "metadata": {
    "execution": {
     "iopub.execute_input": "2024-05-09T10:33:52.464565Z",
     "iopub.status.busy": "2024-05-09T10:33:52.464121Z",
     "iopub.status.idle": "2024-05-09T10:33:52.470085Z",
     "shell.execute_reply": "2024-05-09T10:33:52.468906Z"
    },
    "papermill": {
     "duration": 0.019659,
     "end_time": "2024-05-09T10:33:52.472573",
     "exception": false,
     "start_time": "2024-05-09T10:33:52.452914",
     "status": "completed"
    },
    "tags": []
   },
   "outputs": [
    {
     "name": "stdout",
     "output_type": "stream",
     "text": [
      "X_train Shape :  (33600, 28, 28, 1)\n",
      "X_test Shape :  (8400, 28, 28, 1)\n",
      "y_train Shape :  (33600, 10)\n",
      "y_test Shape :  (8400, 10)\n"
     ]
    }
   ],
   "source": [
    "print(\"X_train Shape : \",X_train.shape)\n",
    "print(\"X_test Shape : \",X_val.shape)\n",
    "print(\"y_train Shape : \",y_train.shape)\n",
    "print('y_test Shape : ',y_val.shape)"
   ]
  },
  {
   "cell_type": "markdown",
   "id": "591cc28e",
   "metadata": {
    "papermill": {
     "duration": 0.010422,
     "end_time": "2024-05-09T10:33:52.493357",
     "exception": false,
     "start_time": "2024-05-09T10:33:52.482935",
     "status": "completed"
    },
    "tags": []
   },
   "source": [
    "# CNN Model"
   ]
  },
  {
   "cell_type": "code",
   "execution_count": 13,
   "id": "aa64e2d7",
   "metadata": {
    "execution": {
     "iopub.execute_input": "2024-05-09T10:33:52.515580Z",
     "iopub.status.busy": "2024-05-09T10:33:52.515215Z",
     "iopub.status.idle": "2024-05-09T10:33:53.253763Z",
     "shell.execute_reply": "2024-05-09T10:33:53.252907Z"
    },
    "papermill": {
     "duration": 0.752861,
     "end_time": "2024-05-09T10:33:53.256354",
     "exception": false,
     "start_time": "2024-05-09T10:33:52.503493",
     "status": "completed"
    },
    "tags": []
   },
   "outputs": [],
   "source": [
    "from tensorflow.keras.models import Sequential\n",
    "from tensorflow.keras.layers import Conv2D,MaxPool2D,Dropout,Flatten , Dense\n",
    "\n",
    "\n",
    "model=Sequential([\n",
    "    \n",
    "    \n",
    "    # First Convolution Block\n",
    "    Conv2D(filters=8,kernel_size=(5,5),padding='same',activation='relu',input_shape=(28,28,1)),\n",
    "    \n",
    "    MaxPool2D(pool_size=(2,2)),\n",
    "    \n",
    "    # Second Convolution Block\n",
    "    \n",
    "    Conv2D(filters=16,kernel_size=(3,3),padding='same',activation='relu'),\n",
    "    \n",
    "    MaxPool2D(pool_size=(2,2),strides=(2,2)),\n",
    "    \n",
    "    \n",
    "    # Fully Connected Layers \n",
    "    \n",
    "    Flatten(),\n",
    "    \n",
    "    Dense(256,activation='relu'),\n",
    "    \n",
    "    Dense(10,activation='softmax')\n",
    "      \n",
    "    \n",
    "])"
   ]
  },
  {
   "cell_type": "markdown",
   "id": "875f7674",
   "metadata": {
    "papermill": {
     "duration": 0.010144,
     "end_time": "2024-05-09T10:33:53.277176",
     "exception": false,
     "start_time": "2024-05-09T10:33:53.267032",
     "status": "completed"
    },
    "tags": []
   },
   "source": [
    "# Compile The Model"
   ]
  },
  {
   "cell_type": "code",
   "execution_count": 14,
   "id": "6908aeba",
   "metadata": {
    "execution": {
     "iopub.execute_input": "2024-05-09T10:33:53.299641Z",
     "iopub.status.busy": "2024-05-09T10:33:53.299288Z",
     "iopub.status.idle": "2024-05-09T10:33:53.314896Z",
     "shell.execute_reply": "2024-05-09T10:33:53.314094Z"
    },
    "papermill": {
     "duration": 0.029355,
     "end_time": "2024-05-09T10:33:53.317146",
     "exception": false,
     "start_time": "2024-05-09T10:33:53.287791",
     "status": "completed"
    },
    "tags": []
   },
   "outputs": [],
   "source": [
    "from keras.optimizers import Adam\n",
    "\n",
    "optimizer=Adam()\n",
    "\n",
    "model.compile(optimizer=optimizer,loss='categorical_crossentropy',metrics=['accuracy'])"
   ]
  },
  {
   "cell_type": "markdown",
   "id": "388f1b43",
   "metadata": {
    "papermill": {
     "duration": 0.010002,
     "end_time": "2024-05-09T10:33:53.337704",
     "exception": false,
     "start_time": "2024-05-09T10:33:53.327702",
     "status": "completed"
    },
    "tags": []
   },
   "source": [
    "# Train the Model"
   ]
  },
  {
   "cell_type": "code",
   "execution_count": 15,
   "id": "28e94041",
   "metadata": {
    "execution": {
     "iopub.execute_input": "2024-05-09T10:33:53.358768Z",
     "iopub.status.busy": "2024-05-09T10:33:53.358425Z",
     "iopub.status.idle": "2024-05-09T10:33:53.447338Z",
     "shell.execute_reply": "2024-05-09T10:33:53.446181Z"
    },
    "papermill": {
     "duration": 0.102735,
     "end_time": "2024-05-09T10:33:53.450153",
     "exception": false,
     "start_time": "2024-05-09T10:33:53.347418",
     "status": "completed"
    },
    "tags": []
   },
   "outputs": [],
   "source": [
    "from tensorflow.keras.preprocessing.image import ImageDataGenerator\n",
    "\n",
    "datagen=ImageDataGenerator()\n",
    "\n",
    "datagen.fit(X_train)"
   ]
  },
  {
   "cell_type": "code",
   "execution_count": 16,
   "id": "0b64d105",
   "metadata": {
    "execution": {
     "iopub.execute_input": "2024-05-09T10:33:53.474922Z",
     "iopub.status.busy": "2024-05-09T10:33:53.473932Z",
     "iopub.status.idle": "2024-05-09T10:33:53.521807Z",
     "shell.execute_reply": "2024-05-09T10:33:53.520721Z"
    },
    "papermill": {
     "duration": 0.0631,
     "end_time": "2024-05-09T10:33:53.524556",
     "exception": false,
     "start_time": "2024-05-09T10:33:53.461456",
     "status": "completed"
    },
    "tags": []
   },
   "outputs": [],
   "source": [
    "train_data=datagen.flow(X_train,y_train,batch_size=250)"
   ]
  },
  {
   "cell_type": "markdown",
   "id": "471349a2",
   "metadata": {
    "papermill": {
     "duration": 0.009957,
     "end_time": "2024-05-09T10:33:53.544978",
     "exception": false,
     "start_time": "2024-05-09T10:33:53.535021",
     "status": "completed"
    },
    "tags": []
   },
   "source": [
    "**Fit the Model**"
   ]
  },
  {
   "cell_type": "code",
   "execution_count": 17,
   "id": "9f98a5c6",
   "metadata": {
    "execution": {
     "iopub.execute_input": "2024-05-09T10:33:53.568003Z",
     "iopub.status.busy": "2024-05-09T10:33:53.567630Z",
     "iopub.status.idle": "2024-05-09T10:34:14.959032Z",
     "shell.execute_reply": "2024-05-09T10:34:14.958162Z"
    },
    "papermill": {
     "duration": 21.40607,
     "end_time": "2024-05-09T10:34:14.961417",
     "exception": false,
     "start_time": "2024-05-09T10:33:53.555347",
     "status": "completed"
    },
    "tags": []
   },
   "outputs": [
    {
     "name": "stdout",
     "output_type": "stream",
     "text": [
      "Epoch 1/10\n"
     ]
    },
    {
     "name": "stderr",
     "output_type": "stream",
     "text": [
      "2024-05-09 10:33:56.481723: E external/local_xla/xla/service/gpu/buffer_comparator.cc:1137] Difference at 10374: 6.65852, expected 5.86115\n",
      "2024-05-09 10:33:56.481855: E external/local_xla/xla/service/gpu/buffer_comparator.cc:1137] Difference at 19613: 6.66338, expected 5.86602\n",
      "2024-05-09 10:33:56.481897: E external/local_xla/xla/service/gpu/buffer_comparator.cc:1137] Difference at 22736: 6.69502, expected 5.89765\n",
      "2024-05-09 10:33:56.481910: E external/local_xla/xla/service/gpu/buffer_comparator.cc:1137] Difference at 22918: 6.8586, expected 6.06124\n",
      "2024-05-09 10:33:56.481927: E external/local_xla/xla/service/gpu/buffer_comparator.cc:1137] Difference at 23702: 7.27675, expected 6.44553\n",
      "2024-05-09 10:33:56.481956: E external/local_xla/xla/service/gpu/buffer_comparator.cc:1137] Difference at 25885: 6.96377, expected 6.16641\n",
      "2024-05-09 10:33:56.481969: E external/local_xla/xla/service/gpu/buffer_comparator.cc:1137] Difference at 26054: 6.61684, expected 5.81948\n",
      "2024-05-09 10:33:56.481988: E external/local_xla/xla/service/gpu/buffer_comparator.cc:1137] Difference at 26838: 6.75681, expected 5.92559\n",
      "2024-05-09 10:33:56.482176: E external/local_xla/xla/service/gpu/buffer_comparator.cc:1137] Difference at 35280: 6.65763, expected 5.86026\n",
      "2024-05-09 10:33:56.482248: E external/local_xla/xla/service/gpu/buffer_comparator.cc:1137] Difference at 35293: 6.46234, expected 5.66497\n",
      "2024-05-09 10:33:56.482692: E external/local_xla/xla/service/gpu/conv_algorithm_picker.cc:705] Results mismatch between different convolution algorithms. This is likely a bug/unexpected loss of precision in cudnn.\n",
      "(f32[250,16,14,14]{3,2,1,0}, u8[0]{0}) custom-call(f32[250,8,14,14]{3,2,1,0}, f32[16,8,3,3]{3,2,1,0}, f32[16]{0}), window={size=3x3 pad=1_1x1_1}, dim_labels=bf01_oi01->bf01, custom_call_target=\"__cudnn$convBiasActivationForward\", backend_config={\"conv_result_scale\":1,\"activation_mode\":\"kRelu\",\"side_input_scale\":0,\"leakyrelu_alpha\":0} for eng20{k2=2,k4=1,k5=1,k6=0,k7=0} vs eng15{k5=1,k6=0,k7=1,k10=1}\n",
      "2024-05-09 10:33:56.482728: E external/local_xla/xla/service/gpu/conv_algorithm_picker.cc:270] Device: Tesla P100-PCIE-16GB\n",
      "2024-05-09 10:33:56.482742: E external/local_xla/xla/service/gpu/conv_algorithm_picker.cc:271] Platform: Compute Capability 6.0\n",
      "2024-05-09 10:33:56.482753: E external/local_xla/xla/service/gpu/conv_algorithm_picker.cc:272] Driver: 12020 (535.129.3)\n",
      "2024-05-09 10:33:56.482764: E external/local_xla/xla/service/gpu/conv_algorithm_picker.cc:273] Runtime: <undefined>\n",
      "2024-05-09 10:33:56.482780: E external/local_xla/xla/service/gpu/conv_algorithm_picker.cc:280] cudnn version: 8.9.0\n",
      "2024-05-09 10:33:56.541312: E external/local_xla/xla/service/gpu/buffer_comparator.cc:1137] Difference at 10374: 6.65852, expected 5.86115\n",
      "2024-05-09 10:33:56.541420: E external/local_xla/xla/service/gpu/buffer_comparator.cc:1137] Difference at 19613: 6.66338, expected 5.86602\n",
      "2024-05-09 10:33:56.541443: E external/local_xla/xla/service/gpu/buffer_comparator.cc:1137] Difference at 22736: 6.69502, expected 5.89765\n",
      "2024-05-09 10:33:56.541451: E external/local_xla/xla/service/gpu/buffer_comparator.cc:1137] Difference at 22918: 6.8586, expected 6.06124\n",
      "2024-05-09 10:33:56.541462: E external/local_xla/xla/service/gpu/buffer_comparator.cc:1137] Difference at 23702: 7.27675, expected 6.44553\n",
      "2024-05-09 10:33:56.541478: E external/local_xla/xla/service/gpu/buffer_comparator.cc:1137] Difference at 25885: 6.96377, expected 6.16641\n",
      "2024-05-09 10:33:56.541487: E external/local_xla/xla/service/gpu/buffer_comparator.cc:1137] Difference at 26054: 6.61684, expected 5.81948\n",
      "2024-05-09 10:33:56.541497: E external/local_xla/xla/service/gpu/buffer_comparator.cc:1137] Difference at 26838: 6.75681, expected 5.92559\n",
      "2024-05-09 10:33:56.541583: E external/local_xla/xla/service/gpu/buffer_comparator.cc:1137] Difference at 35280: 6.65763, expected 5.86026\n",
      "2024-05-09 10:33:56.541607: E external/local_xla/xla/service/gpu/buffer_comparator.cc:1137] Difference at 35293: 6.46234, expected 5.66497\n",
      "2024-05-09 10:33:56.542045: E external/local_xla/xla/service/gpu/conv_algorithm_picker.cc:705] Results mismatch between different convolution algorithms. This is likely a bug/unexpected loss of precision in cudnn.\n",
      "(f32[250,16,14,14]{3,2,1,0}, u8[0]{0}) custom-call(f32[250,8,14,14]{3,2,1,0}, f32[16,8,3,3]{3,2,1,0}, f32[16]{0}), window={size=3x3 pad=1_1x1_1}, dim_labels=bf01_oi01->bf01, custom_call_target=\"__cudnn$convBiasActivationForward\", backend_config={\"conv_result_scale\":1,\"activation_mode\":\"kRelu\",\"side_input_scale\":0,\"leakyrelu_alpha\":0} for eng20{k2=2,k4=1,k5=1,k6=0,k7=0} vs eng15{k5=1,k6=0,k7=1,k10=1}\n",
      "2024-05-09 10:33:56.542081: E external/local_xla/xla/service/gpu/conv_algorithm_picker.cc:270] Device: Tesla P100-PCIE-16GB\n",
      "2024-05-09 10:33:56.542093: E external/local_xla/xla/service/gpu/conv_algorithm_picker.cc:271] Platform: Compute Capability 6.0\n",
      "2024-05-09 10:33:56.542103: E external/local_xla/xla/service/gpu/conv_algorithm_picker.cc:272] Driver: 12020 (535.129.3)\n",
      "2024-05-09 10:33:56.542113: E external/local_xla/xla/service/gpu/conv_algorithm_picker.cc:273] Runtime: <undefined>\n",
      "2024-05-09 10:33:56.542152: E external/local_xla/xla/service/gpu/conv_algorithm_picker.cc:280] cudnn version: 8.9.0\n"
     ]
    },
    {
     "name": "stdout",
     "output_type": "stream",
     "text": [
      "\u001b[1m 14/134\u001b[0m \u001b[32m━━\u001b[0m\u001b[37m━━━━━━━━━━━━━━━━━━\u001b[0m \u001b[1m1s\u001b[0m 13ms/step - accuracy: 0.3676 - loss: 2.0365"
     ]
    },
    {
     "name": "stderr",
     "output_type": "stream",
     "text": [
      "WARNING: All log messages before absl::InitializeLog() is called are written to STDERR\n",
      "I0000 00:00:1715250838.244822      68 device_compiler.h:186] Compiled cluster using XLA!  This line is logged at most once for the lifetime of the process.\n"
     ]
    },
    {
     "name": "stdout",
     "output_type": "stream",
     "text": [
      "\u001b[1m104/134\u001b[0m \u001b[32m━━━━━━━━━━━━━━━\u001b[0m\u001b[37m━━━━━\u001b[0m \u001b[1m0s\u001b[0m 13ms/step - accuracy: 0.7071 - loss: 1.0537"
     ]
    },
    {
     "name": "stderr",
     "output_type": "stream",
     "text": [
      "2024-05-09 10:33:59.898750: E external/local_xla/xla/service/gpu/buffer_comparator.cc:1137] Difference at 13: 7.81811, expected 6.909\n",
      "2024-05-09 10:33:59.898837: E external/local_xla/xla/service/gpu/buffer_comparator.cc:1137] Difference at 2561: 7.39072, expected 6.4956\n",
      "2024-05-09 10:33:59.898848: E external/local_xla/xla/service/gpu/buffer_comparator.cc:1137] Difference at 2744: 8.56832, expected 7.57264\n",
      "2024-05-09 10:33:59.898857: E external/local_xla/xla/service/gpu/buffer_comparator.cc:1137] Difference at 2757: 6.95863, expected 5.96295\n",
      "2024-05-09 10:33:59.898891: E external/local_xla/xla/service/gpu/buffer_comparator.cc:1137] Difference at 8833: 7.31098, expected 6.41586\n",
      "2024-05-09 10:33:59.898901: E external/local_xla/xla/service/gpu/buffer_comparator.cc:1137] Difference at 9029: 7.82559, expected 6.82991\n",
      "2024-05-09 10:33:59.898911: E external/local_xla/xla/service/gpu/buffer_comparator.cc:1137] Difference at 9603: 7.88599, expected 6.97688\n",
      "2024-05-09 10:33:59.898930: E external/local_xla/xla/service/gpu/buffer_comparator.cc:1137] Difference at 12165: 8.17617, expected 7.18049\n",
      "2024-05-09 10:33:59.898939: E external/local_xla/xla/service/gpu/buffer_comparator.cc:1137] Difference at 12334: 7.7922, expected 6.79652\n",
      "2024-05-09 10:33:59.898966: E external/local_xla/xla/service/gpu/buffer_comparator.cc:1137] Difference at 12347: 8.46304, expected 7.46736\n",
      "2024-05-09 10:33:59.898985: E external/local_xla/xla/service/gpu/conv_algorithm_picker.cc:705] Results mismatch between different convolution algorithms. This is likely a bug/unexpected loss of precision in cudnn.\n",
      "(f32[100,16,14,14]{3,2,1,0}, u8[0]{0}) custom-call(f32[100,8,14,14]{3,2,1,0}, f32[16,8,3,3]{3,2,1,0}, f32[16]{0}), window={size=3x3 pad=1_1x1_1}, dim_labels=bf01_oi01->bf01, custom_call_target=\"__cudnn$convBiasActivationForward\", backend_config={\"conv_result_scale\":1,\"activation_mode\":\"kRelu\",\"side_input_scale\":0,\"leakyrelu_alpha\":0} for eng12{k11=2} vs eng15{k5=1,k6=0,k7=1,k10=1}\n",
      "2024-05-09 10:33:59.898999: E external/local_xla/xla/service/gpu/conv_algorithm_picker.cc:270] Device: Tesla P100-PCIE-16GB\n",
      "2024-05-09 10:33:59.899009: E external/local_xla/xla/service/gpu/conv_algorithm_picker.cc:271] Platform: Compute Capability 6.0\n",
      "2024-05-09 10:33:59.899022: E external/local_xla/xla/service/gpu/conv_algorithm_picker.cc:272] Driver: 12020 (535.129.3)\n",
      "2024-05-09 10:33:59.899033: E external/local_xla/xla/service/gpu/conv_algorithm_picker.cc:273] Runtime: <undefined>\n",
      "2024-05-09 10:33:59.899056: E external/local_xla/xla/service/gpu/conv_algorithm_picker.cc:280] cudnn version: 8.9.0\n",
      "2024-05-09 10:33:59.932358: E external/local_xla/xla/service/gpu/buffer_comparator.cc:1137] Difference at 13: 7.81811, expected 6.909\n",
      "2024-05-09 10:33:59.932423: E external/local_xla/xla/service/gpu/buffer_comparator.cc:1137] Difference at 2561: 7.39072, expected 6.4956\n",
      "2024-05-09 10:33:59.932434: E external/local_xla/xla/service/gpu/buffer_comparator.cc:1137] Difference at 2744: 8.56832, expected 7.57264\n",
      "2024-05-09 10:33:59.932442: E external/local_xla/xla/service/gpu/buffer_comparator.cc:1137] Difference at 2757: 6.95863, expected 5.96295\n",
      "2024-05-09 10:33:59.932477: E external/local_xla/xla/service/gpu/buffer_comparator.cc:1137] Difference at 8833: 7.31098, expected 6.41586\n",
      "2024-05-09 10:33:59.932486: E external/local_xla/xla/service/gpu/buffer_comparator.cc:1137] Difference at 9029: 7.82559, expected 6.82991\n",
      "2024-05-09 10:33:59.932496: E external/local_xla/xla/service/gpu/buffer_comparator.cc:1137] Difference at 9603: 7.88599, expected 6.97688\n",
      "2024-05-09 10:33:59.932515: E external/local_xla/xla/service/gpu/buffer_comparator.cc:1137] Difference at 12165: 8.17617, expected 7.18049\n",
      "2024-05-09 10:33:59.932524: E external/local_xla/xla/service/gpu/buffer_comparator.cc:1137] Difference at 12334: 7.7922, expected 6.79652\n",
      "2024-05-09 10:33:59.932539: E external/local_xla/xla/service/gpu/buffer_comparator.cc:1137] Difference at 12347: 8.46304, expected 7.46736\n",
      "2024-05-09 10:33:59.932555: E external/local_xla/xla/service/gpu/conv_algorithm_picker.cc:705] Results mismatch between different convolution algorithms. This is likely a bug/unexpected loss of precision in cudnn.\n",
      "(f32[100,16,14,14]{3,2,1,0}, u8[0]{0}) custom-call(f32[100,8,14,14]{3,2,1,0}, f32[16,8,3,3]{3,2,1,0}, f32[16]{0}), window={size=3x3 pad=1_1x1_1}, dim_labels=bf01_oi01->bf01, custom_call_target=\"__cudnn$convBiasActivationForward\", backend_config={\"conv_result_scale\":1,\"activation_mode\":\"kRelu\",\"side_input_scale\":0,\"leakyrelu_alpha\":0} for eng12{k11=2} vs eng15{k5=1,k6=0,k7=1,k10=1}\n",
      "2024-05-09 10:33:59.932563: E external/local_xla/xla/service/gpu/conv_algorithm_picker.cc:270] Device: Tesla P100-PCIE-16GB\n",
      "2024-05-09 10:33:59.932571: E external/local_xla/xla/service/gpu/conv_algorithm_picker.cc:271] Platform: Compute Capability 6.0\n",
      "2024-05-09 10:33:59.932578: E external/local_xla/xla/service/gpu/conv_algorithm_picker.cc:272] Driver: 12020 (535.129.3)\n",
      "2024-05-09 10:33:59.932586: E external/local_xla/xla/service/gpu/conv_algorithm_picker.cc:273] Runtime: <undefined>\n",
      "2024-05-09 10:33:59.932602: E external/local_xla/xla/service/gpu/conv_algorithm_picker.cc:280] cudnn version: 8.9.0\n"
     ]
    },
    {
     "name": "stdout",
     "output_type": "stream",
     "text": [
      "\u001b[1m128/134\u001b[0m \u001b[32m━━━━━━━━━━━━━━━━━━━\u001b[0m\u001b[37m━\u001b[0m \u001b[1m0s\u001b[0m 25ms/step - accuracy: 0.7344 - loss: 0.9560"
     ]
    },
    {
     "name": "stderr",
     "output_type": "stream",
     "text": [
      "2024-05-09 10:34:01.921805: E external/local_xla/xla/service/gpu/buffer_comparator.cc:1137] Difference at 4998: 7.36267, expected 6.52074\n",
      "2024-05-09 10:34:01.921888: E external/local_xla/xla/service/gpu/buffer_comparator.cc:1137] Difference at 8231: 7.26224, expected 6.42031\n",
      "2024-05-09 10:34:01.921914: E external/local_xla/xla/service/gpu/buffer_comparator.cc:1137] Difference at 11354: 7.40711, expected 6.56518\n",
      "2024-05-09 10:34:01.921923: E external/local_xla/xla/service/gpu/buffer_comparator.cc:1137] Difference at 11367: 7.27901, expected 6.43708\n",
      "2024-05-09 10:34:01.921976: E external/local_xla/xla/service/gpu/buffer_comparator.cc:1137] Difference at 20775: 7.1319, expected 6.28998\n",
      "2024-05-09 10:34:01.921998: E external/local_xla/xla/service/gpu/buffer_comparator.cc:1137] Difference at 23716: 6.89077, expected 6.04884\n",
      "2024-05-09 10:34:01.922007: E external/local_xla/xla/service/gpu/buffer_comparator.cc:1137] Difference at 23729: 7.15251, expected 6.31059\n",
      "2024-05-09 10:34:01.922018: E external/local_xla/xla/service/gpu/buffer_comparator.cc:1137] Difference at 24290: 6.99296, expected 6.16005\n",
      "2024-05-09 10:34:01.922041: E external/local_xla/xla/service/gpu/buffer_comparator.cc:1137] Difference at 27426: 6.99817, expected 6.16525\n",
      "2024-05-09 10:34:01.922114: E external/local_xla/xla/service/gpu/buffer_comparator.cc:1137] Difference at 36273: 6.37599, expected 5.53406\n",
      "2024-05-09 10:34:01.922158: E external/local_xla/xla/service/gpu/conv_algorithm_picker.cc:705] Results mismatch between different convolution algorithms. This is likely a bug/unexpected loss of precision in cudnn.\n",
      "(f32[32,16,14,14]{3,2,1,0}, u8[0]{0}) custom-call(f32[32,8,14,14]{3,2,1,0}, f32[16,8,3,3]{3,2,1,0}, f32[16]{0}), window={size=3x3 pad=1_1x1_1}, dim_labels=bf01_oi01->bf01, custom_call_target=\"__cudnn$convBiasActivationForward\", backend_config={\"conv_result_scale\":1,\"activation_mode\":\"kRelu\",\"side_input_scale\":0,\"leakyrelu_alpha\":0} for eng20{k2=2,k4=1,k5=1,k6=0,k7=0} vs eng15{k5=1,k6=0,k7=1,k10=1}\n",
      "2024-05-09 10:34:01.922173: E external/local_xla/xla/service/gpu/conv_algorithm_picker.cc:270] Device: Tesla P100-PCIE-16GB\n",
      "2024-05-09 10:34:01.922187: E external/local_xla/xla/service/gpu/conv_algorithm_picker.cc:271] Platform: Compute Capability 6.0\n",
      "2024-05-09 10:34:01.922198: E external/local_xla/xla/service/gpu/conv_algorithm_picker.cc:272] Driver: 12020 (535.129.3)\n",
      "2024-05-09 10:34:01.922210: E external/local_xla/xla/service/gpu/conv_algorithm_picker.cc:273] Runtime: <undefined>\n",
      "2024-05-09 10:34:01.922230: E external/local_xla/xla/service/gpu/conv_algorithm_picker.cc:280] cudnn version: 8.9.0\n",
      "2024-05-09 10:34:01.953246: E external/local_xla/xla/service/gpu/buffer_comparator.cc:1137] Difference at 4998: 7.36267, expected 6.52074\n",
      "2024-05-09 10:34:01.953314: E external/local_xla/xla/service/gpu/buffer_comparator.cc:1137] Difference at 8231: 7.26224, expected 6.42031\n",
      "2024-05-09 10:34:01.953340: E external/local_xla/xla/service/gpu/buffer_comparator.cc:1137] Difference at 11354: 7.40711, expected 6.56518\n",
      "2024-05-09 10:34:01.953349: E external/local_xla/xla/service/gpu/buffer_comparator.cc:1137] Difference at 11367: 7.27901, expected 6.43708\n",
      "2024-05-09 10:34:01.953402: E external/local_xla/xla/service/gpu/buffer_comparator.cc:1137] Difference at 20775: 7.1319, expected 6.28998\n",
      "2024-05-09 10:34:01.953424: E external/local_xla/xla/service/gpu/buffer_comparator.cc:1137] Difference at 23716: 6.89077, expected 6.04884\n",
      "2024-05-09 10:34:01.953433: E external/local_xla/xla/service/gpu/buffer_comparator.cc:1137] Difference at 23729: 7.15251, expected 6.31059\n",
      "2024-05-09 10:34:01.953444: E external/local_xla/xla/service/gpu/buffer_comparator.cc:1137] Difference at 24290: 6.99296, expected 6.16005\n",
      "2024-05-09 10:34:01.953467: E external/local_xla/xla/service/gpu/buffer_comparator.cc:1137] Difference at 27426: 6.99817, expected 6.16525\n",
      "2024-05-09 10:34:01.953526: E external/local_xla/xla/service/gpu/buffer_comparator.cc:1137] Difference at 36273: 6.37599, expected 5.53406\n",
      "2024-05-09 10:34:01.953543: E external/local_xla/xla/service/gpu/conv_algorithm_picker.cc:705] Results mismatch between different convolution algorithms. This is likely a bug/unexpected loss of precision in cudnn.\n",
      "(f32[32,16,14,14]{3,2,1,0}, u8[0]{0}) custom-call(f32[32,8,14,14]{3,2,1,0}, f32[16,8,3,3]{3,2,1,0}, f32[16]{0}), window={size=3x3 pad=1_1x1_1}, dim_labels=bf01_oi01->bf01, custom_call_target=\"__cudnn$convBiasActivationForward\", backend_config={\"conv_result_scale\":1,\"activation_mode\":\"kRelu\",\"side_input_scale\":0,\"leakyrelu_alpha\":0} for eng20{k2=2,k4=1,k5=1,k6=0,k7=0} vs eng15{k5=1,k6=0,k7=1,k10=1}\n",
      "2024-05-09 10:34:01.953553: E external/local_xla/xla/service/gpu/conv_algorithm_picker.cc:270] Device: Tesla P100-PCIE-16GB\n",
      "2024-05-09 10:34:01.953566: E external/local_xla/xla/service/gpu/conv_algorithm_picker.cc:271] Platform: Compute Capability 6.0\n",
      "2024-05-09 10:34:01.953579: E external/local_xla/xla/service/gpu/conv_algorithm_picker.cc:272] Driver: 12020 (535.129.3)\n",
      "2024-05-09 10:34:01.953593: E external/local_xla/xla/service/gpu/conv_algorithm_picker.cc:273] Runtime: <undefined>\n",
      "2024-05-09 10:34:01.953626: E external/local_xla/xla/service/gpu/conv_algorithm_picker.cc:280] cudnn version: 8.9.0\n",
      "2024-05-09 10:34:02.864962: E external/local_xla/xla/service/gpu/buffer_comparator.cc:1137] Difference at 13: 7.30551, expected 6.36806\n",
      "2024-05-09 10:34:02.865029: E external/local_xla/xla/service/gpu/buffer_comparator.cc:1137] Difference at 1973: 8.33335, expected 7.34001\n",
      "2024-05-09 10:34:02.865041: E external/local_xla/xla/service/gpu/buffer_comparator.cc:1137] Difference at 2142: 8.75894, expected 7.7656\n",
      "2024-05-09 10:34:02.865051: E external/local_xla/xla/service/gpu/buffer_comparator.cc:1137] Difference at 2155: 8.43053, expected 7.43718\n",
      "2024-05-09 10:34:02.865062: E external/local_xla/xla/service/gpu/buffer_comparator.cc:1137] Difference at 2757: 6.20741, expected 5.45455\n",
      "2024-05-09 10:34:02.865072: E external/local_xla/xla/service/gpu/buffer_comparator.cc:1137] Difference at 2940: 8.01755, expected 7.07772\n",
      "2024-05-09 10:34:02.865080: E external/local_xla/xla/service/gpu/buffer_comparator.cc:1137] Difference at 2953: 7.71607, expected 6.77624\n",
      "2024-05-09 10:34:02.865098: E external/local_xla/xla/service/gpu/buffer_comparator.cc:1137] Difference at 4886: 6.26881, expected 5.50983\n",
      "2024-05-09 10:34:02.865108: E external/local_xla/xla/service/gpu/buffer_comparator.cc:1137] Difference at 5278: 8.16133, expected 7.16799\n",
      "2024-05-09 10:34:02.865117: E external/local_xla/xla/service/gpu/buffer_comparator.cc:1137] Difference at 5291: 8.01543, expected 7.02208\n",
      "2024-05-09 10:34:02.865156: E external/local_xla/xla/service/gpu/conv_algorithm_picker.cc:705] Results mismatch between different convolution algorithms. This is likely a bug/unexpected loss of precision in cudnn.\n",
      "(f32[16,16,14,14]{3,2,1,0}, u8[0]{0}) custom-call(f32[16,8,14,14]{3,2,1,0}, f32[16,8,3,3]{3,2,1,0}, f32[16]{0}), window={size=3x3 pad=1_1x1_1}, dim_labels=bf01_oi01->bf01, custom_call_target=\"__cudnn$convBiasActivationForward\", backend_config={\"conv_result_scale\":1,\"activation_mode\":\"kRelu\",\"side_input_scale\":0,\"leakyrelu_alpha\":0} for eng20{k2=2,k4=1,k5=1,k6=0,k7=0} vs eng15{k5=1,k6=0,k7=1,k10=1}\n",
      "2024-05-09 10:34:02.865176: E external/local_xla/xla/service/gpu/conv_algorithm_picker.cc:270] Device: Tesla P100-PCIE-16GB\n",
      "2024-05-09 10:34:02.865191: E external/local_xla/xla/service/gpu/conv_algorithm_picker.cc:271] Platform: Compute Capability 6.0\n",
      "2024-05-09 10:34:02.865205: E external/local_xla/xla/service/gpu/conv_algorithm_picker.cc:272] Driver: 12020 (535.129.3)\n",
      "2024-05-09 10:34:02.865217: E external/local_xla/xla/service/gpu/conv_algorithm_picker.cc:273] Runtime: <undefined>\n",
      "2024-05-09 10:34:02.865236: E external/local_xla/xla/service/gpu/conv_algorithm_picker.cc:280] cudnn version: 8.9.0\n",
      "2024-05-09 10:34:02.896519: E external/local_xla/xla/service/gpu/buffer_comparator.cc:1137] Difference at 13: 7.30551, expected 6.36806\n",
      "2024-05-09 10:34:02.896583: E external/local_xla/xla/service/gpu/buffer_comparator.cc:1137] Difference at 1973: 8.33335, expected 7.34001\n",
      "2024-05-09 10:34:02.896595: E external/local_xla/xla/service/gpu/buffer_comparator.cc:1137] Difference at 2142: 8.75894, expected 7.7656\n",
      "2024-05-09 10:34:02.896604: E external/local_xla/xla/service/gpu/buffer_comparator.cc:1137] Difference at 2155: 8.43053, expected 7.43718\n",
      "2024-05-09 10:34:02.896616: E external/local_xla/xla/service/gpu/buffer_comparator.cc:1137] Difference at 2757: 6.20741, expected 5.45455\n",
      "2024-05-09 10:34:02.896625: E external/local_xla/xla/service/gpu/buffer_comparator.cc:1137] Difference at 2940: 8.01755, expected 7.07772\n",
      "2024-05-09 10:34:02.896634: E external/local_xla/xla/service/gpu/buffer_comparator.cc:1137] Difference at 2953: 7.71607, expected 6.77624\n",
      "2024-05-09 10:34:02.896653: E external/local_xla/xla/service/gpu/buffer_comparator.cc:1137] Difference at 4886: 6.26881, expected 5.50983\n",
      "2024-05-09 10:34:02.896663: E external/local_xla/xla/service/gpu/buffer_comparator.cc:1137] Difference at 5278: 8.16133, expected 7.16799\n",
      "2024-05-09 10:34:02.896672: E external/local_xla/xla/service/gpu/buffer_comparator.cc:1137] Difference at 5291: 8.01543, expected 7.02208\n",
      "2024-05-09 10:34:02.896689: E external/local_xla/xla/service/gpu/conv_algorithm_picker.cc:705] Results mismatch between different convolution algorithms. This is likely a bug/unexpected loss of precision in cudnn.\n",
      "(f32[16,16,14,14]{3,2,1,0}, u8[0]{0}) custom-call(f32[16,8,14,14]{3,2,1,0}, f32[16,8,3,3]{3,2,1,0}, f32[16]{0}), window={size=3x3 pad=1_1x1_1}, dim_labels=bf01_oi01->bf01, custom_call_target=\"__cudnn$convBiasActivationForward\", backend_config={\"conv_result_scale\":1,\"activation_mode\":\"kRelu\",\"side_input_scale\":0,\"leakyrelu_alpha\":0} for eng20{k2=2,k4=1,k5=1,k6=0,k7=0} vs eng15{k5=1,k6=0,k7=1,k10=1}\n",
      "2024-05-09 10:34:02.896698: E external/local_xla/xla/service/gpu/conv_algorithm_picker.cc:270] Device: Tesla P100-PCIE-16GB\n",
      "2024-05-09 10:34:02.896706: E external/local_xla/xla/service/gpu/conv_algorithm_picker.cc:271] Platform: Compute Capability 6.0\n",
      "2024-05-09 10:34:02.896713: E external/local_xla/xla/service/gpu/conv_algorithm_picker.cc:272] Driver: 12020 (535.129.3)\n",
      "2024-05-09 10:34:02.896721: E external/local_xla/xla/service/gpu/conv_algorithm_picker.cc:273] Runtime: <undefined>\n",
      "2024-05-09 10:34:02.896733: E external/local_xla/xla/service/gpu/conv_algorithm_picker.cc:280] cudnn version: 8.9.0\n"
     ]
    },
    {
     "name": "stdout",
     "output_type": "stream",
     "text": [
      "\u001b[1m134/134\u001b[0m \u001b[32m━━━━━━━━━━━━━━━━━━━━\u001b[0m\u001b[37m\u001b[0m \u001b[1m10s\u001b[0m 38ms/step - accuracy: 0.7411 - loss: 0.9319 - val_accuracy: 0.9449 - val_loss: 0.1906\n",
      "Epoch 2/10\n",
      "\u001b[1m134/134\u001b[0m \u001b[32m━━━━━━━━━━━━━━━━━━━━\u001b[0m\u001b[37m\u001b[0m \u001b[1m0s\u001b[0m 3ms/step - accuracy: 0.9440 - loss: 0.1895 - val_accuracy: 0.9444 - val_loss: 0.1907\n",
      "Epoch 3/10\n",
      "\u001b[1m134/134\u001b[0m \u001b[32m━━━━━━━━━━━━━━━━━━━━\u001b[0m\u001b[37m\u001b[0m \u001b[1m2s\u001b[0m 17ms/step - accuracy: 0.9572 - loss: 0.1439 - val_accuracy: 0.9574 - val_loss: 0.1443\n",
      "Epoch 4/10\n",
      "\u001b[1m134/134\u001b[0m \u001b[32m━━━━━━━━━━━━━━━━━━━━\u001b[0m\u001b[37m\u001b[0m \u001b[1m0s\u001b[0m 4ms/step - accuracy: 0.9800 - loss: 0.1052 - val_accuracy: 0.9574 - val_loss: 0.1427\n",
      "Epoch 5/10\n",
      "\u001b[1m134/134\u001b[0m \u001b[32m━━━━━━━━━━━━━━━━━━━━\u001b[0m\u001b[37m\u001b[0m \u001b[1m2s\u001b[0m 17ms/step - accuracy: 0.9720 - loss: 0.0907 - val_accuracy: 0.9667 - val_loss: 0.1036\n",
      "Epoch 6/10\n",
      "\u001b[1m134/134\u001b[0m \u001b[32m━━━━━━━━━━━━━━━━━━━━\u001b[0m\u001b[37m\u001b[0m \u001b[1m0s\u001b[0m 3ms/step - accuracy: 0.9840 - loss: 0.0773 - val_accuracy: 0.9661 - val_loss: 0.1079\n",
      "Epoch 7/10\n",
      "\u001b[1m134/134\u001b[0m \u001b[32m━━━━━━━━━━━━━━━━━━━━\u001b[0m\u001b[37m\u001b[0m \u001b[1m2s\u001b[0m 17ms/step - accuracy: 0.9794 - loss: 0.0694 - val_accuracy: 0.9767 - val_loss: 0.0768\n",
      "Epoch 8/10\n",
      "\u001b[1m134/134\u001b[0m \u001b[32m━━━━━━━━━━━━━━━━━━━━\u001b[0m\u001b[37m\u001b[0m \u001b[1m0s\u001b[0m 3ms/step - accuracy: 0.9800 - loss: 0.0526 - val_accuracy: 0.9765 - val_loss: 0.0755\n",
      "Epoch 9/10\n",
      "\u001b[1m134/134\u001b[0m \u001b[32m━━━━━━━━━━━━━━━━━━━━\u001b[0m\u001b[37m\u001b[0m \u001b[1m2s\u001b[0m 17ms/step - accuracy: 0.9840 - loss: 0.0521 - val_accuracy: 0.9704 - val_loss: 0.0950\n",
      "Epoch 10/10\n",
      "\u001b[1m134/134\u001b[0m \u001b[32m━━━━━━━━━━━━━━━━━━━━\u001b[0m\u001b[37m\u001b[0m \u001b[1m0s\u001b[0m 3ms/step - accuracy: 0.9960 - loss: 0.0234 - val_accuracy: 0.9714 - val_loss: 0.0885\n"
     ]
    }
   ],
   "source": [
    "history= model.fit(train_data,epochs=10,validation_data=(X_val,y_val),steps_per_epoch=X_train.shape[0]//250)"
   ]
  },
  {
   "cell_type": "code",
   "execution_count": 18,
   "id": "22dd1e5e",
   "metadata": {
    "execution": {
     "iopub.execute_input": "2024-05-09T10:34:15.021858Z",
     "iopub.status.busy": "2024-05-09T10:34:15.021442Z",
     "iopub.status.idle": "2024-05-09T10:34:15.028353Z",
     "shell.execute_reply": "2024-05-09T10:34:15.027367Z"
    },
    "papermill": {
     "duration": 0.039979,
     "end_time": "2024-05-09T10:34:15.030797",
     "exception": false,
     "start_time": "2024-05-09T10:34:14.990818",
     "status": "completed"
    },
    "tags": []
   },
   "outputs": [
    {
     "data": {
      "text/plain": [
       "[0.8650375008583069,\n",
       " 0.9440000057220459,\n",
       " 0.9609895348548889,\n",
       " 0.9800000190734863,\n",
       " 0.9738830327987671,\n",
       " 0.984000027179718,\n",
       " 0.9803898334503174,\n",
       " 0.9800000190734863,\n",
       " 0.9840179681777954,\n",
       " 0.9959999918937683]"
      ]
     },
     "execution_count": 18,
     "metadata": {},
     "output_type": "execute_result"
    }
   ],
   "source": [
    "history.history['accuracy']"
   ]
  },
  {
   "cell_type": "code",
   "execution_count": 19,
   "id": "35412d31",
   "metadata": {
    "execution": {
     "iopub.execute_input": "2024-05-09T10:34:15.088324Z",
     "iopub.status.busy": "2024-05-09T10:34:15.087261Z",
     "iopub.status.idle": "2024-05-09T10:34:15.094042Z",
     "shell.execute_reply": "2024-05-09T10:34:15.093067Z"
    },
    "papermill": {
     "duration": 0.037323,
     "end_time": "2024-05-09T10:34:15.096172",
     "exception": false,
     "start_time": "2024-05-09T10:34:15.058849",
     "status": "completed"
    },
    "tags": []
   },
   "outputs": [
    {
     "data": {
      "text/plain": [
       "[0.9448809623718262,\n",
       " 0.9444047808647156,\n",
       " 0.9573809504508972,\n",
       " 0.9573809504508972,\n",
       " 0.9666666388511658,\n",
       " 0.9660714268684387,\n",
       " 0.9766666889190674,\n",
       " 0.9765475988388062,\n",
       " 0.9703571200370789,\n",
       " 0.9714285731315613]"
      ]
     },
     "execution_count": 19,
     "metadata": {},
     "output_type": "execute_result"
    }
   ],
   "source": [
    "history.history['val_accuracy']"
   ]
  },
  {
   "cell_type": "code",
   "execution_count": 20,
   "id": "fb14751f",
   "metadata": {
    "execution": {
     "iopub.execute_input": "2024-05-09T10:34:15.152683Z",
     "iopub.status.busy": "2024-05-09T10:34:15.151781Z",
     "iopub.status.idle": "2024-05-09T10:34:15.158362Z",
     "shell.execute_reply": "2024-05-09T10:34:15.157580Z"
    },
    "papermill": {
     "duration": 0.037843,
     "end_time": "2024-05-09T10:34:15.160549",
     "exception": false,
     "start_time": "2024-05-09T10:34:15.122706",
     "status": "completed"
    },
    "tags": []
   },
   "outputs": [
    {
     "data": {
      "text/plain": [
       "[0.4863834083080292,\n",
       " 0.18951712548732758,\n",
       " 0.12666146457195282,\n",
       " 0.10522960126399994,\n",
       " 0.08428490161895752,\n",
       " 0.07733238488435745,\n",
       " 0.06500028818845749,\n",
       " 0.05264804884791374,\n",
       " 0.05183719843626022,\n",
       " 0.0233756136149168]"
      ]
     },
     "execution_count": 20,
     "metadata": {},
     "output_type": "execute_result"
    }
   ],
   "source": [
    "history.history['loss']"
   ]
  },
  {
   "cell_type": "markdown",
   "id": "366db81e",
   "metadata": {
    "papermill": {
     "duration": 0.028102,
     "end_time": "2024-05-09T10:34:15.215585",
     "exception": false,
     "start_time": "2024-05-09T10:34:15.187483",
     "status": "completed"
    },
    "tags": []
   },
   "source": [
    "# Plot Results"
   ]
  },
  {
   "cell_type": "code",
   "execution_count": 21,
   "id": "853297b4",
   "metadata": {
    "execution": {
     "iopub.execute_input": "2024-05-09T10:34:15.273366Z",
     "iopub.status.busy": "2024-05-09T10:34:15.272536Z",
     "iopub.status.idle": "2024-05-09T10:34:15.837178Z",
     "shell.execute_reply": "2024-05-09T10:34:15.836191Z"
    },
    "papermill": {
     "duration": 0.595517,
     "end_time": "2024-05-09T10:34:15.839349",
     "exception": false,
     "start_time": "2024-05-09T10:34:15.243832",
     "status": "completed"
    },
    "tags": []
   },
   "outputs": [
    {
     "data": {
      "image/png": "[encoded data removed]",
      "text/plain": [
       "<Figure size 1200x1000 with 2 Axes>"
      ]
     },
     "metadata": {},
     "output_type": "display_data"
    }
   ],
   "source": [
    "\n",
    "plt.figure(figsize=(12,10))\n",
    "plt.subplot(2,2,1)\n",
    "plt.plot(history.history['accuracy'])\n",
    "plt.plot(history.history['val_accuracy'])\n",
    "plt.title('Model Accuracy')\n",
    "plt.xlabel('Epoch')\n",
    "plt.ylabel('Accuracy')\n",
    "plt.legend(['Train','Validation'],loc='best')\n",
    "\n",
    "\n",
    "plt.subplot(2,2,2)\n",
    "plt.plot(history.history['loss'])\n",
    "plt.plot(history.history['val_loss'])\n",
    "plt.title('Model Loss')\n",
    "plt.xlabel('Epoch')\n",
    "plt.ylabel('Loss')\n",
    "plt.legend(['train','Validation'],loc='best')\n",
    "\n",
    "plt.show()"
   ]
  },
  {
   "cell_type": "markdown",
   "id": "5aa0c2e6",
   "metadata": {
    "papermill": {
     "duration": 0.028543,
     "end_time": "2024-05-09T10:34:15.896062",
     "exception": false,
     "start_time": "2024-05-09T10:34:15.867519",
     "status": "completed"
    },
    "tags": []
   },
   "source": [
    "# Results"
   ]
  },
  {
   "cell_type": "code",
   "execution_count": 22,
   "id": "9bdb25f1",
   "metadata": {
    "execution": {
     "iopub.execute_input": "2024-05-09T10:34:15.957392Z",
     "iopub.status.busy": "2024-05-09T10:34:15.956992Z",
     "iopub.status.idle": "2024-05-09T10:34:18.087649Z",
     "shell.execute_reply": "2024-05-09T10:34:18.086576Z"
    },
    "papermill": {
     "duration": 2.164295,
     "end_time": "2024-05-09T10:34:18.090663",
     "exception": false,
     "start_time": "2024-05-09T10:34:15.926368",
     "status": "completed"
    },
    "tags": []
   },
   "outputs": [
    {
     "name": "stdout",
     "output_type": "stream",
     "text": [
      "\u001b[1m263/263\u001b[0m \u001b[32m━━━━━━━━━━━━━━━━━━━━\u001b[0m\u001b[37m\u001b[0m \u001b[1m1s\u001b[0m 3ms/step\n"
     ]
    },
    {
     "data": {
      "image/png": "[encoded data removed]",
      "text/plain": [
       "<Figure size 1000x1000 with 2 Axes>"
      ]
     },
     "metadata": {},
     "output_type": "display_data"
    }
   ],
   "source": [
    "from sklearn.metrics import confusion_matrix\n",
    "\n",
    "# predict the values from validation dataset\n",
    "y_pred = model.predict(X_val)\n",
    "\n",
    "# convert prediction class to one vector \n",
    "y_pred_classes = np.argmax(y_pred,axis=1)\n",
    "\n",
    "# Convert the validation observations to one hot vectors \n",
    "y_true = np.argmax(y_val,axis=1)\n",
    "\n",
    "# Compute Confusion Matrix\n",
    "cm = confusion_matrix(y_true,y_pred_classes)\n",
    "\n",
    "fig ,ax = plt.subplots(figsize=(10,10))\n",
    "\n",
    "sns.heatmap(cm,annot=True,cmap='icefire',linewidths=0.01,linecolor='gray',fmt='0.1f',ax=ax)\n",
    "\n",
    "plt.title('Confusion Matrix')\n",
    "plt.xlabel('Predicted Label')\n",
    "plt.ylabel('Actual Label')\n",
    "fig.show()"
   ]
  },
  {
   "cell_type": "code",
   "execution_count": 23,
   "id": "f4ad7f4b",
   "metadata": {
    "execution": {
     "iopub.execute_input": "2024-05-09T10:34:18.155315Z",
     "iopub.status.busy": "2024-05-09T10:34:18.154610Z",
     "iopub.status.idle": "2024-05-09T10:34:18.162260Z",
     "shell.execute_reply": "2024-05-09T10:34:18.161103Z"
    },
    "papermill": {
     "duration": 0.042473,
     "end_time": "2024-05-09T10:34:18.164658",
     "exception": false,
     "start_time": "2024-05-09T10:34:18.122185",
     "status": "completed"
    },
    "tags": []
   },
   "outputs": [
    {
     "name": "stdout",
     "output_type": "stream",
     "text": [
      "The score of  this model is : 97.14%\n"
     ]
    }
   ],
   "source": [
    "from sklearn.metrics import accuracy_score\n",
    "score = accuracy_score(y_true,y_pred_classes)*100\n",
    "print(f'The score of  this model is : {score:0.2f}%')"
   ]
  },
  {
   "cell_type": "code",
   "execution_count": null,
   "id": "6f6cdf78",
   "metadata": {
    "papermill": {
     "duration": 0.031812,
     "end_time": "2024-05-09T10:34:18.231609",
     "exception": false,
     "start_time": "2024-05-09T10:34:18.199797",
     "status": "completed"
    },
    "tags": []
   },
   "outputs": [],
   "source": []
  }
 ],
 "metadata": {
  "kaggle": {
   "accelerator": "gpu",
   "dataSources": [
    {
     "databundleVersionId": 861823,
     "sourceId": 3004,
     "sourceType": "competition"
    }
   ],
   "dockerImageVersionId": 30699,
   "isGpuEnabled": true,
   "isInternetEnabled": true,
   "language": "python",
   "sourceType": "notebook"
  },
  "kernelspec": {
   "display_name": "Python 3",
   "language": "python",
   "name": "python3"
  },
  "language_info": {
   "codemirror_mode": {
    "name": "ipython",
    "version": 3
   },
   "file_extension": ".py",
   "mimetype": "text/x-python",
   "name": "python",
   "nbconvert_exporter": "python",
   "pygments_lexer": "ipython3",
   "version": "3.10.13"
  },
  "papermill": {
   "default_parameters": {},
   "duration": 54.407088,
   "end_time": "2024-05-09T10:34:21.022636",
   "environment_variables": {},
   "exception": null,
   "input_path": "__notebook__.ipynb",
   "output_path": "__notebook__.ipynb",
   "parameters": {},
   "start_time": "2024-05-09T10:33:26.615548",
   "version": "2.5.0"
  }
 },
 "nbformat": 4,
 "nbformat_minor": 5
}
