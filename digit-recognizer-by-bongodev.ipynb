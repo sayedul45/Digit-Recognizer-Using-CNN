{
 "cells": [
  {
   "cell_type": "code",
   "execution_count": 1,
   "id": "9dff81ff",
   "metadata": {
    "execution": {
     "iopub.execute_input": "2024-05-10T03:46:18.031562Z",
     "iopub.status.busy": "2024-05-10T03:46:18.031210Z",
     "iopub.status.idle": "2024-05-10T03:46:20.031683Z",
     "shell.execute_reply": "2024-05-10T03:46:20.030695Z"
    },
    "papermill": {
     "duration": 2.019011,
     "end_time": "2024-05-10T03:46:20.034330",
     "exception": false,
     "start_time": "2024-05-10T03:46:18.015319",
     "status": "completed"
    },
    "tags": []
   },
   "outputs": [],
   "source": [
    "import numpy as np\n",
    "import pandas as pd\n",
    "import seaborn as sns\n",
    "import matplotlib.pyplot as plt\n",
    "import warnings\n",
    "warnings.filterwarnings('ignore')\n"
   ]
  },
  {
   "cell_type": "markdown",
   "id": "d526c8b0",
   "metadata": {
    "papermill": {
     "duration": 0.012393,
     "end_time": "2024-05-10T03:46:20.059765",
     "exception": false,
     "start_time": "2024-05-10T03:46:20.047372",
     "status": "completed"
    },
    "tags": []
   },
   "source": [
    "# Load the data"
   ]
  },
  {
   "cell_type": "code",
   "execution_count": 2,
   "id": "23d00fa2",
   "metadata": {
    "execution": {
     "iopub.execute_input": "2024-05-10T03:46:20.087808Z",
     "iopub.status.busy": "2024-05-10T03:46:20.087319Z",
     "iopub.status.idle": "2024-05-10T03:46:26.038711Z",
     "shell.execute_reply": "2024-05-10T03:46:26.037737Z"
    },
    "papermill": {
     "duration": 5.969093,
     "end_time": "2024-05-10T03:46:26.041565",
     "exception": false,
     "start_time": "2024-05-10T03:46:20.072472",
     "status": "completed"
    },
    "tags": []
   },
   "outputs": [],
   "source": [
    "train=pd.read_csv('/kaggle/input/digit-recognizer/train.csv')\n",
    "test=pd.read_csv('/kaggle/input/digit-recognizer/test.csv')\n",
    "sample=pd.read_csv('/kaggle/input/digit-recognizer/sample_submission.csv')"
   ]
  },
  {
   "cell_type": "code",
   "execution_count": 3,
   "id": "747afab0",
   "metadata": {
    "execution": {
     "iopub.execute_input": "2024-05-10T03:46:26.072537Z",
     "iopub.status.busy": "2024-05-10T03:46:26.072184Z",
     "iopub.status.idle": "2024-05-10T03:46:26.093940Z",
     "shell.execute_reply": "2024-05-10T03:46:26.092805Z"
    },
    "papermill": {
     "duration": 0.039171,
     "end_time": "2024-05-10T03:46:26.096154",
     "exception": false,
     "start_time": "2024-05-10T03:46:26.056983",
     "status": "completed"
    },
    "tags": []
   },
   "outputs": [
    {
     "data": {
      "text/html": [
       "<div>\n",
       "<style scoped>\n",
       "    .dataframe tbody tr th:only-of-type {\n",
       "        vertical-align: middle;\n",
       "    }\n",
       "\n",
       "    .dataframe tbody tr th {\n",
       "        vertical-align: top;\n",
       "    }\n",
       "\n",
       "    .dataframe thead th {\n",
       "        text-align: right;\n",
       "    }\n",
       "</style>\n",
       "<table border=\"1\" class=\"dataframe\">\n",
       "  <thead>\n",
       "    <tr style=\"text-align: right;\">\n",
       "      <th></th>\n",
       "      <th>ImageId</th>\n",
       "      <th>Label</th>\n",
       "    </tr>\n",
       "  </thead>\n",
       "  <tbody>\n",
       "    <tr>\n",
       "      <th>0</th>\n",
       "      <td>1</td>\n",
       "      <td>0</td>\n",
       "    </tr>\n",
       "    <tr>\n",
       "      <th>1</th>\n",
       "      <td>2</td>\n",
       "      <td>0</td>\n",
       "    </tr>\n",
       "    <tr>\n",
       "      <th>2</th>\n",
       "      <td>3</td>\n",
       "      <td>0</td>\n",
       "    </tr>\n",
       "    <tr>\n",
       "      <th>3</th>\n",
       "      <td>4</td>\n",
       "      <td>0</td>\n",
       "    </tr>\n",
       "    <tr>\n",
       "      <th>4</th>\n",
       "      <td>5</td>\n",
       "      <td>0</td>\n",
       "    </tr>\n",
       "    <tr>\n",
       "      <th>...</th>\n",
       "      <td>...</td>\n",
       "      <td>...</td>\n",
       "    </tr>\n",
       "    <tr>\n",
       "      <th>27995</th>\n",
       "      <td>27996</td>\n",
       "      <td>0</td>\n",
       "    </tr>\n",
       "    <tr>\n",
       "      <th>27996</th>\n",
       "      <td>27997</td>\n",
       "      <td>0</td>\n",
       "    </tr>\n",
       "    <tr>\n",
       "      <th>27997</th>\n",
       "      <td>27998</td>\n",
       "      <td>0</td>\n",
       "    </tr>\n",
       "    <tr>\n",
       "      <th>27998</th>\n",
       "      <td>27999</td>\n",
       "      <td>0</td>\n",
       "    </tr>\n",
       "    <tr>\n",
       "      <th>27999</th>\n",
       "      <td>28000</td>\n",
       "      <td>0</td>\n",
       "    </tr>\n",
       "  </tbody>\n",
       "</table>\n",
       "<p>28000 rows × 2 columns</p>\n",
       "</div>"
      ],
      "text/plain": [
       "       ImageId  Label\n",
       "0            1      0\n",
       "1            2      0\n",
       "2            3      0\n",
       "3            4      0\n",
       "4            5      0\n",
       "...        ...    ...\n",
       "27995    27996      0\n",
       "27996    27997      0\n",
       "27997    27998      0\n",
       "27998    27999      0\n",
       "27999    28000      0\n",
       "\n",
       "[28000 rows x 2 columns]"
      ]
     },
     "execution_count": 3,
     "metadata": {},
     "output_type": "execute_result"
    }
   ],
   "source": [
    "sample"
   ]
  },
  {
   "cell_type": "code",
   "execution_count": 4,
   "id": "e9089814",
   "metadata": {
    "execution": {
     "iopub.execute_input": "2024-05-10T03:46:26.126142Z",
     "iopub.status.busy": "2024-05-10T03:46:26.125851Z",
     "iopub.status.idle": "2024-05-10T03:46:26.149677Z",
     "shell.execute_reply": "2024-05-10T03:46:26.148635Z"
    },
    "papermill": {
     "duration": 0.040531,
     "end_time": "2024-05-10T03:46:26.151835",
     "exception": false,
     "start_time": "2024-05-10T03:46:26.111304",
     "status": "completed"
    },
    "tags": []
   },
   "outputs": [
    {
     "data": {
      "text/html": [
       "<div>\n",
       "<style scoped>\n",
       "    .dataframe tbody tr th:only-of-type {\n",
       "        vertical-align: middle;\n",
       "    }\n",
       "\n",
       "    .dataframe tbody tr th {\n",
       "        vertical-align: top;\n",
       "    }\n",
       "\n",
       "    .dataframe thead th {\n",
       "        text-align: right;\n",
       "    }\n",
       "</style>\n",
       "<table border=\"1\" class=\"dataframe\">\n",
       "  <thead>\n",
       "    <tr style=\"text-align: right;\">\n",
       "      <th></th>\n",
       "      <th>pixel0</th>\n",
       "      <th>pixel1</th>\n",
       "      <th>pixel2</th>\n",
       "      <th>pixel3</th>\n",
       "      <th>pixel4</th>\n",
       "      <th>pixel5</th>\n",
       "      <th>pixel6</th>\n",
       "      <th>pixel7</th>\n",
       "      <th>pixel8</th>\n",
       "      <th>pixel9</th>\n",
       "      <th>...</th>\n",
       "      <th>pixel774</th>\n",
       "      <th>pixel775</th>\n",
       "      <th>pixel776</th>\n",
       "      <th>pixel777</th>\n",
       "      <th>pixel778</th>\n",
       "      <th>pixel779</th>\n",
       "      <th>pixel780</th>\n",
       "      <th>pixel781</th>\n",
       "      <th>pixel782</th>\n",
       "      <th>pixel783</th>\n",
       "    </tr>\n",
       "  </thead>\n",
       "  <tbody>\n",
       "    <tr>\n",
       "      <th>0</th>\n",
       "      <td>0</td>\n",
       "      <td>0</td>\n",
       "      <td>0</td>\n",
       "      <td>0</td>\n",
       "      <td>0</td>\n",
       "      <td>0</td>\n",
       "      <td>0</td>\n",
       "      <td>0</td>\n",
       "      <td>0</td>\n",
       "      <td>0</td>\n",
       "      <td>...</td>\n",
       "      <td>0</td>\n",
       "      <td>0</td>\n",
       "      <td>0</td>\n",
       "      <td>0</td>\n",
       "      <td>0</td>\n",
       "      <td>0</td>\n",
       "      <td>0</td>\n",
       "      <td>0</td>\n",
       "      <td>0</td>\n",
       "      <td>0</td>\n",
       "    </tr>\n",
       "    <tr>\n",
       "      <th>1</th>\n",
       "      <td>0</td>\n",
       "      <td>0</td>\n",
       "      <td>0</td>\n",
       "      <td>0</td>\n",
       "      <td>0</td>\n",
       "      <td>0</td>\n",
       "      <td>0</td>\n",
       "      <td>0</td>\n",
       "      <td>0</td>\n",
       "      <td>0</td>\n",
       "      <td>...</td>\n",
       "      <td>0</td>\n",
       "      <td>0</td>\n",
       "      <td>0</td>\n",
       "      <td>0</td>\n",
       "      <td>0</td>\n",
       "      <td>0</td>\n",
       "      <td>0</td>\n",
       "      <td>0</td>\n",
       "      <td>0</td>\n",
       "      <td>0</td>\n",
       "    </tr>\n",
       "    <tr>\n",
       "      <th>2</th>\n",
       "      <td>0</td>\n",
       "      <td>0</td>\n",
       "      <td>0</td>\n",
       "      <td>0</td>\n",
       "      <td>0</td>\n",
       "      <td>0</td>\n",
       "      <td>0</td>\n",
       "      <td>0</td>\n",
       "      <td>0</td>\n",
       "      <td>0</td>\n",
       "      <td>...</td>\n",
       "      <td>0</td>\n",
       "      <td>0</td>\n",
       "      <td>0</td>\n",
       "      <td>0</td>\n",
       "      <td>0</td>\n",
       "      <td>0</td>\n",
       "      <td>0</td>\n",
       "      <td>0</td>\n",
       "      <td>0</td>\n",
       "      <td>0</td>\n",
       "    </tr>\n",
       "    <tr>\n",
       "      <th>3</th>\n",
       "      <td>0</td>\n",
       "      <td>0</td>\n",
       "      <td>0</td>\n",
       "      <td>0</td>\n",
       "      <td>0</td>\n",
       "      <td>0</td>\n",
       "      <td>0</td>\n",
       "      <td>0</td>\n",
       "      <td>0</td>\n",
       "      <td>0</td>\n",
       "      <td>...</td>\n",
       "      <td>0</td>\n",
       "      <td>0</td>\n",
       "      <td>0</td>\n",
       "      <td>0</td>\n",
       "      <td>0</td>\n",
       "      <td>0</td>\n",
       "      <td>0</td>\n",
       "      <td>0</td>\n",
       "      <td>0</td>\n",
       "      <td>0</td>\n",
       "    </tr>\n",
       "    <tr>\n",
       "      <th>4</th>\n",
       "      <td>0</td>\n",
       "      <td>0</td>\n",
       "      <td>0</td>\n",
       "      <td>0</td>\n",
       "      <td>0</td>\n",
       "      <td>0</td>\n",
       "      <td>0</td>\n",
       "      <td>0</td>\n",
       "      <td>0</td>\n",
       "      <td>0</td>\n",
       "      <td>...</td>\n",
       "      <td>0</td>\n",
       "      <td>0</td>\n",
       "      <td>0</td>\n",
       "      <td>0</td>\n",
       "      <td>0</td>\n",
       "      <td>0</td>\n",
       "      <td>0</td>\n",
       "      <td>0</td>\n",
       "      <td>0</td>\n",
       "      <td>0</td>\n",
       "    </tr>\n",
       "    <tr>\n",
       "      <th>...</th>\n",
       "      <td>...</td>\n",
       "      <td>...</td>\n",
       "      <td>...</td>\n",
       "      <td>...</td>\n",
       "      <td>...</td>\n",
       "      <td>...</td>\n",
       "      <td>...</td>\n",
       "      <td>...</td>\n",
       "      <td>...</td>\n",
       "      <td>...</td>\n",
       "      <td>...</td>\n",
       "      <td>...</td>\n",
       "      <td>...</td>\n",
       "      <td>...</td>\n",
       "      <td>...</td>\n",
       "      <td>...</td>\n",
       "      <td>...</td>\n",
       "      <td>...</td>\n",
       "      <td>...</td>\n",
       "      <td>...</td>\n",
       "      <td>...</td>\n",
       "    </tr>\n",
       "    <tr>\n",
       "      <th>27995</th>\n",
       "      <td>0</td>\n",
       "      <td>0</td>\n",
       "      <td>0</td>\n",
       "      <td>0</td>\n",
       "      <td>0</td>\n",
       "      <td>0</td>\n",
       "      <td>0</td>\n",
       "      <td>0</td>\n",
       "      <td>0</td>\n",
       "      <td>0</td>\n",
       "      <td>...</td>\n",
       "      <td>0</td>\n",
       "      <td>0</td>\n",
       "      <td>0</td>\n",
       "      <td>0</td>\n",
       "      <td>0</td>\n",
       "      <td>0</td>\n",
       "      <td>0</td>\n",
       "      <td>0</td>\n",
       "      <td>0</td>\n",
       "      <td>0</td>\n",
       "    </tr>\n",
       "    <tr>\n",
       "      <th>27996</th>\n",
       "      <td>0</td>\n",
       "      <td>0</td>\n",
       "      <td>0</td>\n",
       "      <td>0</td>\n",
       "      <td>0</td>\n",
       "      <td>0</td>\n",
       "      <td>0</td>\n",
       "      <td>0</td>\n",
       "      <td>0</td>\n",
       "      <td>0</td>\n",
       "      <td>...</td>\n",
       "      <td>0</td>\n",
       "      <td>0</td>\n",
       "      <td>0</td>\n",
       "      <td>0</td>\n",
       "      <td>0</td>\n",
       "      <td>0</td>\n",
       "      <td>0</td>\n",
       "      <td>0</td>\n",
       "      <td>0</td>\n",
       "      <td>0</td>\n",
       "    </tr>\n",
       "    <tr>\n",
       "      <th>27997</th>\n",
       "      <td>0</td>\n",
       "      <td>0</td>\n",
       "      <td>0</td>\n",
       "      <td>0</td>\n",
       "      <td>0</td>\n",
       "      <td>0</td>\n",
       "      <td>0</td>\n",
       "      <td>0</td>\n",
       "      <td>0</td>\n",
       "      <td>0</td>\n",
       "      <td>...</td>\n",
       "      <td>0</td>\n",
       "      <td>0</td>\n",
       "      <td>0</td>\n",
       "      <td>0</td>\n",
       "      <td>0</td>\n",
       "      <td>0</td>\n",
       "      <td>0</td>\n",
       "      <td>0</td>\n",
       "      <td>0</td>\n",
       "      <td>0</td>\n",
       "    </tr>\n",
       "    <tr>\n",
       "      <th>27998</th>\n",
       "      <td>0</td>\n",
       "      <td>0</td>\n",
       "      <td>0</td>\n",
       "      <td>0</td>\n",
       "      <td>0</td>\n",
       "      <td>0</td>\n",
       "      <td>0</td>\n",
       "      <td>0</td>\n",
       "      <td>0</td>\n",
       "      <td>0</td>\n",
       "      <td>...</td>\n",
       "      <td>0</td>\n",
       "      <td>0</td>\n",
       "      <td>0</td>\n",
       "      <td>0</td>\n",
       "      <td>0</td>\n",
       "      <td>0</td>\n",
       "      <td>0</td>\n",
       "      <td>0</td>\n",
       "      <td>0</td>\n",
       "      <td>0</td>\n",
       "    </tr>\n",
       "    <tr>\n",
       "      <th>27999</th>\n",
       "      <td>0</td>\n",
       "      <td>0</td>\n",
       "      <td>0</td>\n",
       "      <td>0</td>\n",
       "      <td>0</td>\n",
       "      <td>0</td>\n",
       "      <td>0</td>\n",
       "      <td>0</td>\n",
       "      <td>0</td>\n",
       "      <td>0</td>\n",
       "      <td>...</td>\n",
       "      <td>0</td>\n",
       "      <td>0</td>\n",
       "      <td>0</td>\n",
       "      <td>0</td>\n",
       "      <td>0</td>\n",
       "      <td>0</td>\n",
       "      <td>0</td>\n",
       "      <td>0</td>\n",
       "      <td>0</td>\n",
       "      <td>0</td>\n",
       "    </tr>\n",
       "  </tbody>\n",
       "</table>\n",
       "<p>28000 rows × 784 columns</p>\n",
       "</div>"
      ],
      "text/plain": [
       "       pixel0  pixel1  pixel2  pixel3  pixel4  pixel5  pixel6  pixel7  pixel8  \\\n",
       "0           0       0       0       0       0       0       0       0       0   \n",
       "1           0       0       0       0       0       0       0       0       0   \n",
       "2           0       0       0       0       0       0       0       0       0   \n",
       "3           0       0       0       0       0       0       0       0       0   \n",
       "4           0       0       0       0       0       0       0       0       0   \n",
       "...       ...     ...     ...     ...     ...     ...     ...     ...     ...   \n",
       "27995       0       0       0       0       0       0       0       0       0   \n",
       "27996       0       0       0       0       0       0       0       0       0   \n",
       "27997       0       0       0       0       0       0       0       0       0   \n",
       "27998       0       0       0       0       0       0       0       0       0   \n",
       "27999       0       0       0       0       0       0       0       0       0   \n",
       "\n",
       "       pixel9  ...  pixel774  pixel775  pixel776  pixel777  pixel778  \\\n",
       "0           0  ...         0         0         0         0         0   \n",
       "1           0  ...         0         0         0         0         0   \n",
       "2           0  ...         0         0         0         0         0   \n",
       "3           0  ...         0         0         0         0         0   \n",
       "4           0  ...         0         0         0         0         0   \n",
       "...       ...  ...       ...       ...       ...       ...       ...   \n",
       "27995       0  ...         0         0         0         0         0   \n",
       "27996       0  ...         0         0         0         0         0   \n",
       "27997       0  ...         0         0         0         0         0   \n",
       "27998       0  ...         0         0         0         0         0   \n",
       "27999       0  ...         0         0         0         0         0   \n",
       "\n",
       "       pixel779  pixel780  pixel781  pixel782  pixel783  \n",
       "0             0         0         0         0         0  \n",
       "1             0         0         0         0         0  \n",
       "2             0         0         0         0         0  \n",
       "3             0         0         0         0         0  \n",
       "4             0         0         0         0         0  \n",
       "...         ...       ...       ...       ...       ...  \n",
       "27995         0         0         0         0         0  \n",
       "27996         0         0         0         0         0  \n",
       "27997         0         0         0         0         0  \n",
       "27998         0         0         0         0         0  \n",
       "27999         0         0         0         0         0  \n",
       "\n",
       "[28000 rows x 784 columns]"
      ]
     },
     "execution_count": 4,
     "metadata": {},
     "output_type": "execute_result"
    }
   ],
   "source": [
    "test"
   ]
  },
  {
   "cell_type": "code",
   "execution_count": 5,
   "id": "d18c6e2e",
   "metadata": {
    "execution": {
     "iopub.execute_input": "2024-05-10T03:46:26.181057Z",
     "iopub.status.busy": "2024-05-10T03:46:26.180116Z",
     "iopub.status.idle": "2024-05-10T03:46:26.201782Z",
     "shell.execute_reply": "2024-05-10T03:46:26.200753Z"
    },
    "papermill": {
     "duration": 0.038109,
     "end_time": "2024-05-10T03:46:26.204047",
     "exception": false,
     "start_time": "2024-05-10T03:46:26.165938",
     "status": "completed"
    },
    "tags": []
   },
   "outputs": [
    {
     "name": "stdout",
     "output_type": "stream",
     "text": [
      "(42000, 785)\n"
     ]
    },
    {
     "data": {
      "text/html": [
       "<div>\n",
       "<style scoped>\n",
       "    .dataframe tbody tr th:only-of-type {\n",
       "        vertical-align: middle;\n",
       "    }\n",
       "\n",
       "    .dataframe tbody tr th {\n",
       "        vertical-align: top;\n",
       "    }\n",
       "\n",
       "    .dataframe thead th {\n",
       "        text-align: right;\n",
       "    }\n",
       "</style>\n",
       "<table border=\"1\" class=\"dataframe\">\n",
       "  <thead>\n",
       "    <tr style=\"text-align: right;\">\n",
       "      <th></th>\n",
       "      <th>label</th>\n",
       "      <th>pixel0</th>\n",
       "      <th>pixel1</th>\n",
       "      <th>pixel2</th>\n",
       "      <th>pixel3</th>\n",
       "      <th>pixel4</th>\n",
       "      <th>pixel5</th>\n",
       "      <th>pixel6</th>\n",
       "      <th>pixel7</th>\n",
       "      <th>pixel8</th>\n",
       "      <th>...</th>\n",
       "      <th>pixel774</th>\n",
       "      <th>pixel775</th>\n",
       "      <th>pixel776</th>\n",
       "      <th>pixel777</th>\n",
       "      <th>pixel778</th>\n",
       "      <th>pixel779</th>\n",
       "      <th>pixel780</th>\n",
       "      <th>pixel781</th>\n",
       "      <th>pixel782</th>\n",
       "      <th>pixel783</th>\n",
       "    </tr>\n",
       "  </thead>\n",
       "  <tbody>\n",
       "    <tr>\n",
       "      <th>0</th>\n",
       "      <td>1</td>\n",
       "      <td>0</td>\n",
       "      <td>0</td>\n",
       "      <td>0</td>\n",
       "      <td>0</td>\n",
       "      <td>0</td>\n",
       "      <td>0</td>\n",
       "      <td>0</td>\n",
       "      <td>0</td>\n",
       "      <td>0</td>\n",
       "      <td>...</td>\n",
       "      <td>0</td>\n",
       "      <td>0</td>\n",
       "      <td>0</td>\n",
       "      <td>0</td>\n",
       "      <td>0</td>\n",
       "      <td>0</td>\n",
       "      <td>0</td>\n",
       "      <td>0</td>\n",
       "      <td>0</td>\n",
       "      <td>0</td>\n",
       "    </tr>\n",
       "    <tr>\n",
       "      <th>1</th>\n",
       "      <td>0</td>\n",
       "      <td>0</td>\n",
       "      <td>0</td>\n",
       "      <td>0</td>\n",
       "      <td>0</td>\n",
       "      <td>0</td>\n",
       "      <td>0</td>\n",
       "      <td>0</td>\n",
       "      <td>0</td>\n",
       "      <td>0</td>\n",
       "      <td>...</td>\n",
       "      <td>0</td>\n",
       "      <td>0</td>\n",
       "      <td>0</td>\n",
       "      <td>0</td>\n",
       "      <td>0</td>\n",
       "      <td>0</td>\n",
       "      <td>0</td>\n",
       "      <td>0</td>\n",
       "      <td>0</td>\n",
       "      <td>0</td>\n",
       "    </tr>\n",
       "    <tr>\n",
       "      <th>2</th>\n",
       "      <td>1</td>\n",
       "      <td>0</td>\n",
       "      <td>0</td>\n",
       "      <td>0</td>\n",
       "      <td>0</td>\n",
       "      <td>0</td>\n",
       "      <td>0</td>\n",
       "      <td>0</td>\n",
       "      <td>0</td>\n",
       "      <td>0</td>\n",
       "      <td>...</td>\n",
       "      <td>0</td>\n",
       "      <td>0</td>\n",
       "      <td>0</td>\n",
       "      <td>0</td>\n",
       "      <td>0</td>\n",
       "      <td>0</td>\n",
       "      <td>0</td>\n",
       "      <td>0</td>\n",
       "      <td>0</td>\n",
       "      <td>0</td>\n",
       "    </tr>\n",
       "    <tr>\n",
       "      <th>3</th>\n",
       "      <td>4</td>\n",
       "      <td>0</td>\n",
       "      <td>0</td>\n",
       "      <td>0</td>\n",
       "      <td>0</td>\n",
       "      <td>0</td>\n",
       "      <td>0</td>\n",
       "      <td>0</td>\n",
       "      <td>0</td>\n",
       "      <td>0</td>\n",
       "      <td>...</td>\n",
       "      <td>0</td>\n",
       "      <td>0</td>\n",
       "      <td>0</td>\n",
       "      <td>0</td>\n",
       "      <td>0</td>\n",
       "      <td>0</td>\n",
       "      <td>0</td>\n",
       "      <td>0</td>\n",
       "      <td>0</td>\n",
       "      <td>0</td>\n",
       "    </tr>\n",
       "    <tr>\n",
       "      <th>4</th>\n",
       "      <td>0</td>\n",
       "      <td>0</td>\n",
       "      <td>0</td>\n",
       "      <td>0</td>\n",
       "      <td>0</td>\n",
       "      <td>0</td>\n",
       "      <td>0</td>\n",
       "      <td>0</td>\n",
       "      <td>0</td>\n",
       "      <td>0</td>\n",
       "      <td>...</td>\n",
       "      <td>0</td>\n",
       "      <td>0</td>\n",
       "      <td>0</td>\n",
       "      <td>0</td>\n",
       "      <td>0</td>\n",
       "      <td>0</td>\n",
       "      <td>0</td>\n",
       "      <td>0</td>\n",
       "      <td>0</td>\n",
       "      <td>0</td>\n",
       "    </tr>\n",
       "    <tr>\n",
       "      <th>5</th>\n",
       "      <td>0</td>\n",
       "      <td>0</td>\n",
       "      <td>0</td>\n",
       "      <td>0</td>\n",
       "      <td>0</td>\n",
       "      <td>0</td>\n",
       "      <td>0</td>\n",
       "      <td>0</td>\n",
       "      <td>0</td>\n",
       "      <td>0</td>\n",
       "      <td>...</td>\n",
       "      <td>0</td>\n",
       "      <td>0</td>\n",
       "      <td>0</td>\n",
       "      <td>0</td>\n",
       "      <td>0</td>\n",
       "      <td>0</td>\n",
       "      <td>0</td>\n",
       "      <td>0</td>\n",
       "      <td>0</td>\n",
       "      <td>0</td>\n",
       "    </tr>\n",
       "    <tr>\n",
       "      <th>6</th>\n",
       "      <td>7</td>\n",
       "      <td>0</td>\n",
       "      <td>0</td>\n",
       "      <td>0</td>\n",
       "      <td>0</td>\n",
       "      <td>0</td>\n",
       "      <td>0</td>\n",
       "      <td>0</td>\n",
       "      <td>0</td>\n",
       "      <td>0</td>\n",
       "      <td>...</td>\n",
       "      <td>0</td>\n",
       "      <td>0</td>\n",
       "      <td>0</td>\n",
       "      <td>0</td>\n",
       "      <td>0</td>\n",
       "      <td>0</td>\n",
       "      <td>0</td>\n",
       "      <td>0</td>\n",
       "      <td>0</td>\n",
       "      <td>0</td>\n",
       "    </tr>\n",
       "    <tr>\n",
       "      <th>7</th>\n",
       "      <td>3</td>\n",
       "      <td>0</td>\n",
       "      <td>0</td>\n",
       "      <td>0</td>\n",
       "      <td>0</td>\n",
       "      <td>0</td>\n",
       "      <td>0</td>\n",
       "      <td>0</td>\n",
       "      <td>0</td>\n",
       "      <td>0</td>\n",
       "      <td>...</td>\n",
       "      <td>0</td>\n",
       "      <td>0</td>\n",
       "      <td>0</td>\n",
       "      <td>0</td>\n",
       "      <td>0</td>\n",
       "      <td>0</td>\n",
       "      <td>0</td>\n",
       "      <td>0</td>\n",
       "      <td>0</td>\n",
       "      <td>0</td>\n",
       "    </tr>\n",
       "    <tr>\n",
       "      <th>8</th>\n",
       "      <td>5</td>\n",
       "      <td>0</td>\n",
       "      <td>0</td>\n",
       "      <td>0</td>\n",
       "      <td>0</td>\n",
       "      <td>0</td>\n",
       "      <td>0</td>\n",
       "      <td>0</td>\n",
       "      <td>0</td>\n",
       "      <td>0</td>\n",
       "      <td>...</td>\n",
       "      <td>0</td>\n",
       "      <td>0</td>\n",
       "      <td>0</td>\n",
       "      <td>0</td>\n",
       "      <td>0</td>\n",
       "      <td>0</td>\n",
       "      <td>0</td>\n",
       "      <td>0</td>\n",
       "      <td>0</td>\n",
       "      <td>0</td>\n",
       "    </tr>\n",
       "    <tr>\n",
       "      <th>9</th>\n",
       "      <td>3</td>\n",
       "      <td>0</td>\n",
       "      <td>0</td>\n",
       "      <td>0</td>\n",
       "      <td>0</td>\n",
       "      <td>0</td>\n",
       "      <td>0</td>\n",
       "      <td>0</td>\n",
       "      <td>0</td>\n",
       "      <td>0</td>\n",
       "      <td>...</td>\n",
       "      <td>0</td>\n",
       "      <td>0</td>\n",
       "      <td>0</td>\n",
       "      <td>0</td>\n",
       "      <td>0</td>\n",
       "      <td>0</td>\n",
       "      <td>0</td>\n",
       "      <td>0</td>\n",
       "      <td>0</td>\n",
       "      <td>0</td>\n",
       "    </tr>\n",
       "  </tbody>\n",
       "</table>\n",
       "<p>10 rows × 785 columns</p>\n",
       "</div>"
      ],
      "text/plain": [
       "   label  pixel0  pixel1  pixel2  pixel3  pixel4  pixel5  pixel6  pixel7  \\\n",
       "0      1       0       0       0       0       0       0       0       0   \n",
       "1      0       0       0       0       0       0       0       0       0   \n",
       "2      1       0       0       0       0       0       0       0       0   \n",
       "3      4       0       0       0       0       0       0       0       0   \n",
       "4      0       0       0       0       0       0       0       0       0   \n",
       "5      0       0       0       0       0       0       0       0       0   \n",
       "6      7       0       0       0       0       0       0       0       0   \n",
       "7      3       0       0       0       0       0       0       0       0   \n",
       "8      5       0       0       0       0       0       0       0       0   \n",
       "9      3       0       0       0       0       0       0       0       0   \n",
       "\n",
       "   pixel8  ...  pixel774  pixel775  pixel776  pixel777  pixel778  pixel779  \\\n",
       "0       0  ...         0         0         0         0         0         0   \n",
       "1       0  ...         0         0         0         0         0         0   \n",
       "2       0  ...         0         0         0         0         0         0   \n",
       "3       0  ...         0         0         0         0         0         0   \n",
       "4       0  ...         0         0         0         0         0         0   \n",
       "5       0  ...         0         0         0         0         0         0   \n",
       "6       0  ...         0         0         0         0         0         0   \n",
       "7       0  ...         0         0         0         0         0         0   \n",
       "8       0  ...         0         0         0         0         0         0   \n",
       "9       0  ...         0         0         0         0         0         0   \n",
       "\n",
       "   pixel780  pixel781  pixel782  pixel783  \n",
       "0         0         0         0         0  \n",
       "1         0         0         0         0  \n",
       "2         0         0         0         0  \n",
       "3         0         0         0         0  \n",
       "4         0         0         0         0  \n",
       "5         0         0         0         0  \n",
       "6         0         0         0         0  \n",
       "7         0         0         0         0  \n",
       "8         0         0         0         0  \n",
       "9         0         0         0         0  \n",
       "\n",
       "[10 rows x 785 columns]"
      ]
     },
     "execution_count": 5,
     "metadata": {},
     "output_type": "execute_result"
    }
   ],
   "source": [
    "print(train.shape)\n",
    "train.head(10)"
   ]
  },
  {
   "cell_type": "markdown",
   "id": "53bd9e62",
   "metadata": {
    "papermill": {
     "duration": 0.013825,
     "end_time": "2024-05-10T03:46:26.233394",
     "exception": false,
     "start_time": "2024-05-10T03:46:26.219569",
     "status": "completed"
    },
    "tags": []
   },
   "source": [
    "**Put the labels into y_train**"
   ]
  },
  {
   "cell_type": "code",
   "execution_count": 6,
   "id": "3d4994be",
   "metadata": {
    "execution": {
     "iopub.execute_input": "2024-05-10T03:46:26.262999Z",
     "iopub.status.busy": "2024-05-10T03:46:26.262691Z",
     "iopub.status.idle": "2024-05-10T03:46:26.348652Z",
     "shell.execute_reply": "2024-05-10T03:46:26.347419Z"
    },
    "papermill": {
     "duration": 0.103687,
     "end_time": "2024-05-10T03:46:26.351132",
     "exception": false,
     "start_time": "2024-05-10T03:46:26.247445",
     "status": "completed"
    },
    "tags": []
   },
   "outputs": [],
   "source": [
    "y_train=train['label']\n",
    "X_train=train.drop('label',axis=1,inplace=True)"
   ]
  },
  {
   "cell_type": "code",
   "execution_count": 7,
   "id": "4423010c",
   "metadata": {
    "execution": {
     "iopub.execute_input": "2024-05-10T03:46:26.383125Z",
     "iopub.status.busy": "2024-05-10T03:46:26.382276Z",
     "iopub.status.idle": "2024-05-10T03:46:26.483205Z",
     "shell.execute_reply": "2024-05-10T03:46:26.482300Z"
    },
    "papermill": {
     "duration": 0.119761,
     "end_time": "2024-05-10T03:46:26.485794",
     "exception": false,
     "start_time": "2024-05-10T03:46:26.366033",
     "status": "completed"
    },
    "tags": []
   },
   "outputs": [],
   "source": [
    "X_train=train.copy()"
   ]
  },
  {
   "cell_type": "code",
   "execution_count": 8,
   "id": "50934cdb",
   "metadata": {
    "execution": {
     "iopub.execute_input": "2024-05-10T03:46:26.518308Z",
     "iopub.status.busy": "2024-05-10T03:46:26.518002Z",
     "iopub.status.idle": "2024-05-10T03:46:26.786924Z",
     "shell.execute_reply": "2024-05-10T03:46:26.785897Z"
    },
    "papermill": {
     "duration": 0.288008,
     "end_time": "2024-05-10T03:46:26.789448",
     "exception": false,
     "start_time": "2024-05-10T03:46:26.501440",
     "status": "completed"
    },
    "tags": []
   },
   "outputs": [
    {
     "data": {
      "image/png": "[encoded data removed]",
      "text/plain": [
       "<Figure size 640x480 with 1 Axes>"
      ]
     },
     "metadata": {},
     "output_type": "display_data"
    }
   ],
   "source": [
    "img=X_train.iloc[6].to_numpy()\n",
    "img=img.reshape(28,28)\n",
    "plt.imshow(img,cmap='gray')\n",
    "plt.title(X_train.iloc[8,0])\n",
    "plt.axis('off')\n",
    "plt.show()"
   ]
  },
  {
   "cell_type": "code",
   "execution_count": 9,
   "id": "093a5464",
   "metadata": {
    "execution": {
     "iopub.execute_input": "2024-05-10T03:46:26.821074Z",
     "iopub.status.busy": "2024-05-10T03:46:26.820254Z",
     "iopub.status.idle": "2024-05-10T03:46:26.827103Z",
     "shell.execute_reply": "2024-05-10T03:46:26.826205Z"
    },
    "papermill": {
     "duration": 0.02426,
     "end_time": "2024-05-10T03:46:26.829072",
     "exception": false,
     "start_time": "2024-05-10T03:46:26.804812",
     "status": "completed"
    },
    "tags": []
   },
   "outputs": [
    {
     "data": {
      "text/plain": [
       "0"
      ]
     },
     "execution_count": 9,
     "metadata": {},
     "output_type": "execute_result"
    }
   ],
   "source": [
    "X_train.iloc[0,0]"
   ]
  },
  {
   "cell_type": "code",
   "execution_count": 10,
   "id": "8e8e9508",
   "metadata": {
    "execution": {
     "iopub.execute_input": "2024-05-10T03:46:26.858188Z",
     "iopub.status.busy": "2024-05-10T03:46:26.857937Z",
     "iopub.status.idle": "2024-05-10T03:46:26.924597Z",
     "shell.execute_reply": "2024-05-10T03:46:26.923760Z"
    },
    "papermill": {
     "duration": 0.083794,
     "end_time": "2024-05-10T03:46:26.927009",
     "exception": false,
     "start_time": "2024-05-10T03:46:26.843215",
     "status": "completed"
    },
    "tags": []
   },
   "outputs": [],
   "source": [
    "X_train/=255"
   ]
  },
  {
   "cell_type": "code",
   "execution_count": 11,
   "id": "40617285",
   "metadata": {
    "execution": {
     "iopub.execute_input": "2024-05-10T03:46:26.956848Z",
     "iopub.status.busy": "2024-05-10T03:46:26.956462Z",
     "iopub.status.idle": "2024-05-10T03:46:26.961640Z",
     "shell.execute_reply": "2024-05-10T03:46:26.960778Z"
    },
    "papermill": {
     "duration": 0.021949,
     "end_time": "2024-05-10T03:46:26.963620",
     "exception": false,
     "start_time": "2024-05-10T03:46:26.941671",
     "status": "completed"
    },
    "tags": []
   },
   "outputs": [
    {
     "name": "stdout",
     "output_type": "stream",
     "text": [
      "X_train Shape :  (42000, 28, 28, 1)\n"
     ]
    }
   ],
   "source": [
    "X_train=X_train.values.reshape(-1,28,28,1)\n",
    "print('X_train Shape : ',X_train.shape)"
   ]
  },
  {
   "cell_type": "code",
   "execution_count": 12,
   "id": "250ef480",
   "metadata": {
    "execution": {
     "iopub.execute_input": "2024-05-10T03:46:26.992920Z",
     "iopub.status.busy": "2024-05-10T03:46:26.992651Z",
     "iopub.status.idle": "2024-05-10T03:46:39.035421Z",
     "shell.execute_reply": "2024-05-10T03:46:39.034336Z"
    },
    "papermill": {
     "duration": 12.060043,
     "end_time": "2024-05-10T03:46:39.037905",
     "exception": false,
     "start_time": "2024-05-10T03:46:26.977862",
     "status": "completed"
    },
    "tags": []
   },
   "outputs": [
    {
     "name": "stderr",
     "output_type": "stream",
     "text": [
      "2024-05-10 03:46:28.883332: E external/local_xla/xla/stream_executor/cuda/cuda_dnn.cc:9261] Unable to register cuDNN factory: Attempting to register factory for plugin cuDNN when one has already been registered\n",
      "2024-05-10 03:46:28.883446: E external/local_xla/xla/stream_executor/cuda/cuda_fft.cc:607] Unable to register cuFFT factory: Attempting to register factory for plugin cuFFT when one has already been registered\n",
      "2024-05-10 03:46:29.016204: E external/local_xla/xla/stream_executor/cuda/cuda_blas.cc:1515] Unable to register cuBLAS factory: Attempting to register factory for plugin cuBLAS when one has already been registered\n"
     ]
    }
   ],
   "source": [
    "# One hot encoding \n",
    "\n",
    "from keras.utils import to_categorical\n",
    "y_train=to_categorical(y_train,num_classes=10)"
   ]
  },
  {
   "cell_type": "markdown",
   "id": "15455578",
   "metadata": {
    "papermill": {
     "duration": 0.014837,
     "end_time": "2024-05-10T03:46:39.067635",
     "exception": false,
     "start_time": "2024-05-10T03:46:39.052798",
     "status": "completed"
    },
    "tags": []
   },
   "source": [
    "# Train and Val set split"
   ]
  },
  {
   "cell_type": "code",
   "execution_count": 13,
   "id": "ada2c4b6",
   "metadata": {
    "execution": {
     "iopub.execute_input": "2024-05-10T03:46:39.100634Z",
     "iopub.status.busy": "2024-05-10T03:46:39.099958Z",
     "iopub.status.idle": "2024-05-10T03:46:39.689905Z",
     "shell.execute_reply": "2024-05-10T03:46:39.688732Z"
    },
    "papermill": {
     "duration": 0.609307,
     "end_time": "2024-05-10T03:46:39.692475",
     "exception": false,
     "start_time": "2024-05-10T03:46:39.083168",
     "status": "completed"
    },
    "tags": []
   },
   "outputs": [],
   "source": [
    "from sklearn.model_selection import train_test_split\n",
    "X_train,X_val,y_train,y_val=train_test_split(X_train,y_train,test_size=0.2,random_state=42)"
   ]
  },
  {
   "cell_type": "code",
   "execution_count": 14,
   "id": "60c5971b",
   "metadata": {
    "execution": {
     "iopub.execute_input": "2024-05-10T03:46:39.722712Z",
     "iopub.status.busy": "2024-05-10T03:46:39.722342Z",
     "iopub.status.idle": "2024-05-10T03:46:39.727793Z",
     "shell.execute_reply": "2024-05-10T03:46:39.726817Z"
    },
    "papermill": {
     "duration": 0.022825,
     "end_time": "2024-05-10T03:46:39.730037",
     "exception": false,
     "start_time": "2024-05-10T03:46:39.707212",
     "status": "completed"
    },
    "tags": []
   },
   "outputs": [
    {
     "name": "stdout",
     "output_type": "stream",
     "text": [
      "X_train Shape :  (33600, 28, 28, 1)\n",
      "X_test Shape :  (8400, 28, 28, 1)\n",
      "y_train Shape :  (33600, 10)\n",
      "y_test Shape :  (8400, 10)\n"
     ]
    }
   ],
   "source": [
    "print(\"X_train Shape : \",X_train.shape)\n",
    "print(\"X_test Shape : \",X_val.shape)\n",
    "print(\"y_train Shape : \",y_train.shape)\n",
    "print('y_test Shape : ',y_val.shape)"
   ]
  },
  {
   "cell_type": "markdown",
   "id": "0b9fa5a2",
   "metadata": {
    "papermill": {
     "duration": 0.013592,
     "end_time": "2024-05-10T03:46:39.757599",
     "exception": false,
     "start_time": "2024-05-10T03:46:39.744007",
     "status": "completed"
    },
    "tags": []
   },
   "source": [
    "# CNN Model"
   ]
  },
  {
   "cell_type": "code",
   "execution_count": 15,
   "id": "0d4d9d87",
   "metadata": {
    "execution": {
     "iopub.execute_input": "2024-05-10T03:46:39.786396Z",
     "iopub.status.busy": "2024-05-10T03:46:39.786027Z",
     "iopub.status.idle": "2024-05-10T03:46:40.549674Z",
     "shell.execute_reply": "2024-05-10T03:46:40.548729Z"
    },
    "papermill": {
     "duration": 0.781211,
     "end_time": "2024-05-10T03:46:40.552253",
     "exception": false,
     "start_time": "2024-05-10T03:46:39.771042",
     "status": "completed"
    },
    "tags": []
   },
   "outputs": [],
   "source": [
    "from tensorflow.keras.models import Sequential\n",
    "from tensorflow.keras.layers import Conv2D,MaxPool2D,Dropout,Flatten , Dense ,BatchNormalization\n",
    "\n",
    "\n",
    "\n",
    "model=Sequential([\n",
    "    \n",
    "    \n",
    "    # First Convolution Block\n",
    "    Conv2D(filters=16,kernel_size=(3,3),padding='same',activation='relu',input_shape=(28,28,1)),\n",
    "    \n",
    "    MaxPool2D(pool_size=(3,3)),\n",
    "    \n",
    "    BatchNormalization(),\n",
    "    \n",
    "    Dropout(0.1),\n",
    "    \n",
    "    # Second Convolution Block\n",
    "    \n",
    "    Conv2D(filters=32,kernel_size=(3,3),padding='same',activation='relu'),\n",
    "    \n",
    "    MaxPool2D(pool_size=(3,3),strides=(3,3)),\n",
    "    \n",
    "    BatchNormalization(),\n",
    "    \n",
    "    Dropout(0.1),\n",
    "    \n",
    "    # Fully Connected Layers \n",
    "    \n",
    "    Flatten(),\n",
    "    \n",
    "    Dense(256,activation='relu'),\n",
    "    \n",
    "    Dense(10,activation='softmax')\n",
    "      \n",
    "    \n",
    "])"
   ]
  },
  {
   "cell_type": "markdown",
   "id": "0180ec6a",
   "metadata": {
    "papermill": {
     "duration": 0.014833,
     "end_time": "2024-05-10T03:46:40.582346",
     "exception": false,
     "start_time": "2024-05-10T03:46:40.567513",
     "status": "completed"
    },
    "tags": []
   },
   "source": [
    "# Compile The Model"
   ]
  },
  {
   "cell_type": "code",
   "execution_count": 16,
   "id": "b4be4361",
   "metadata": {
    "execution": {
     "iopub.execute_input": "2024-05-10T03:46:40.614117Z",
     "iopub.status.busy": "2024-05-10T03:46:40.613781Z",
     "iopub.status.idle": "2024-05-10T03:46:40.628784Z",
     "shell.execute_reply": "2024-05-10T03:46:40.627973Z"
    },
    "papermill": {
     "duration": 0.033145,
     "end_time": "2024-05-10T03:46:40.630945",
     "exception": false,
     "start_time": "2024-05-10T03:46:40.597800",
     "status": "completed"
    },
    "tags": []
   },
   "outputs": [],
   "source": [
    "from keras.optimizers import Adam\n",
    "\n",
    "optimizer=Adam()\n",
    "\n",
    "model.compile(optimizer=optimizer,loss='categorical_crossentropy',metrics=['accuracy'])"
   ]
  },
  {
   "cell_type": "markdown",
   "id": "1648bd8b",
   "metadata": {
    "papermill": {
     "duration": 0.01458,
     "end_time": "2024-05-10T03:46:40.660435",
     "exception": false,
     "start_time": "2024-05-10T03:46:40.645855",
     "status": "completed"
    },
    "tags": []
   },
   "source": [
    "# Train the Model"
   ]
  },
  {
   "cell_type": "code",
   "execution_count": 17,
   "id": "9a91fc38",
   "metadata": {
    "execution": {
     "iopub.execute_input": "2024-05-10T03:46:40.732228Z",
     "iopub.status.busy": "2024-05-10T03:46:40.731885Z",
     "iopub.status.idle": "2024-05-10T03:46:40.818788Z",
     "shell.execute_reply": "2024-05-10T03:46:40.817812Z"
    },
    "papermill": {
     "duration": 0.105618,
     "end_time": "2024-05-10T03:46:40.821309",
     "exception": false,
     "start_time": "2024-05-10T03:46:40.715691",
     "status": "completed"
    },
    "tags": []
   },
   "outputs": [],
   "source": [
    "from tensorflow.keras.preprocessing.image import ImageDataGenerator\n",
    "\n",
    "datagen=ImageDataGenerator()\n",
    "\n",
    "datagen.fit(X_train)"
   ]
  },
  {
   "cell_type": "code",
   "execution_count": 18,
   "id": "9ee0eb51",
   "metadata": {
    "execution": {
     "iopub.execute_input": "2024-05-10T03:46:40.854113Z",
     "iopub.status.busy": "2024-05-10T03:46:40.853789Z",
     "iopub.status.idle": "2024-05-10T03:46:40.899178Z",
     "shell.execute_reply": "2024-05-10T03:46:40.898024Z"
    },
    "papermill": {
     "duration": 0.064685,
     "end_time": "2024-05-10T03:46:40.901751",
     "exception": false,
     "start_time": "2024-05-10T03:46:40.837066",
     "status": "completed"
    },
    "tags": []
   },
   "outputs": [],
   "source": [
    "train_data=datagen.flow(X_train,y_train,batch_size=512)"
   ]
  },
  {
   "cell_type": "markdown",
   "id": "259d78f3",
   "metadata": {
    "papermill": {
     "duration": 0.015227,
     "end_time": "2024-05-10T03:46:40.932805",
     "exception": false,
     "start_time": "2024-05-10T03:46:40.917578",
     "status": "completed"
    },
    "tags": []
   },
   "source": [
    "**Fit the Model**"
   ]
  },
  {
   "cell_type": "code",
   "execution_count": 19,
   "id": "f8822bf8",
   "metadata": {
    "execution": {
     "iopub.execute_input": "2024-05-10T03:46:40.964336Z",
     "iopub.status.busy": "2024-05-10T03:46:40.964003Z",
     "iopub.status.idle": "2024-05-10T03:46:40.969980Z",
     "shell.execute_reply": "2024-05-10T03:46:40.969141Z"
    },
    "papermill": {
     "duration": 0.024194,
     "end_time": "2024-05-10T03:46:40.972168",
     "exception": false,
     "start_time": "2024-05-10T03:46:40.947974",
     "status": "completed"
    },
    "tags": []
   },
   "outputs": [],
   "source": [
    "from tensorflow.keras.callbacks import EarlyStopping"
   ]
  },
  {
   "cell_type": "code",
   "execution_count": 20,
   "id": "e02b3832",
   "metadata": {
    "execution": {
     "iopub.execute_input": "2024-05-10T03:46:41.005197Z",
     "iopub.status.busy": "2024-05-10T03:46:41.004886Z",
     "iopub.status.idle": "2024-05-10T03:46:41.009958Z",
     "shell.execute_reply": "2024-05-10T03:46:41.008901Z"
    },
    "papermill": {
     "duration": 0.023655,
     "end_time": "2024-05-10T03:46:41.012061",
     "exception": false,
     "start_time": "2024-05-10T03:46:40.988406",
     "status": "completed"
    },
    "tags": []
   },
   "outputs": [],
   "source": [
    "early_stop = EarlyStopping(monitor='val_loss',\n",
    "                          min_delta=0,\n",
    "                          mode='auto',\n",
    "                           restore_best_weights=True,\n",
    "                           verbose=1,\n",
    "                           patience=50\n",
    "                          \n",
    "                          )"
   ]
  },
  {
   "cell_type": "code",
   "execution_count": 21,
   "id": "64d8b2b7",
   "metadata": {
    "execution": {
     "iopub.execute_input": "2024-05-10T03:46:41.042889Z",
     "iopub.status.busy": "2024-05-10T03:46:41.042533Z",
     "iopub.status.idle": "2024-05-10T03:49:14.804574Z",
     "shell.execute_reply": "2024-05-10T03:49:14.803766Z"
    },
    "papermill": {
     "duration": 153.779635,
     "end_time": "2024-05-10T03:49:14.806748",
     "exception": false,
     "start_time": "2024-05-10T03:46:41.027113",
     "status": "completed"
    },
    "tags": []
   },
   "outputs": [
    {
     "name": "stdout",
     "output_type": "stream",
     "text": [
      "Epoch 1/100\n"
     ]
    },
    {
     "name": "stderr",
     "output_type": "stream",
     "text": [
      "2024-05-10 03:46:45.765687: E external/local_xla/xla/service/gpu/buffer_comparator.cc:1137] Difference at 0: 1.43362, expected 0.956394\n",
      "2024-05-10 03:46:45.765748: E external/local_xla/xla/service/gpu/buffer_comparator.cc:1137] Difference at 1: 1.60183, expected 1.12461\n",
      "2024-05-10 03:46:45.765758: E external/local_xla/xla/service/gpu/buffer_comparator.cc:1137] Difference at 2: 1.13779, expected 0.660565\n",
      "2024-05-10 03:46:45.765767: E external/local_xla/xla/service/gpu/buffer_comparator.cc:1137] Difference at 3: 1.92319, expected 1.44597\n",
      "2024-05-10 03:46:45.765775: E external/local_xla/xla/service/gpu/buffer_comparator.cc:1137] Difference at 4: 1.55514, expected 1.07792\n",
      "2024-05-10 03:46:45.765783: E external/local_xla/xla/service/gpu/buffer_comparator.cc:1137] Difference at 5: 1.67289, expected 1.19567\n",
      "2024-05-10 03:46:45.765791: E external/local_xla/xla/service/gpu/buffer_comparator.cc:1137] Difference at 6: 2.59992, expected 2.12269\n",
      "2024-05-10 03:46:45.765799: E external/local_xla/xla/service/gpu/buffer_comparator.cc:1137] Difference at 7: 2.28334, expected 1.80612\n",
      "2024-05-10 03:46:45.765806: E external/local_xla/xla/service/gpu/buffer_comparator.cc:1137] Difference at 8: 1.95289, expected 1.47567\n",
      "2024-05-10 03:46:45.765814: E external/local_xla/xla/service/gpu/buffer_comparator.cc:1137] Difference at 9: 2.27351, expected 1.79628\n",
      "2024-05-10 03:46:45.768858: E external/local_xla/xla/service/gpu/conv_algorithm_picker.cc:705] Results mismatch between different convolution algorithms. This is likely a bug/unexpected loss of precision in cudnn.\n",
      "(f32[512,16,28,28]{3,2,1,0}, u8[0]{0}) custom-call(f32[512,1,28,28]{3,2,1,0}, f32[16,1,3,3]{3,2,1,0}, f32[16]{0}), window={size=3x3 pad=1_1x1_1}, dim_labels=bf01_oi01->bf01, custom_call_target=\"__cudnn$convBiasActivationForward\", backend_config={\"conv_result_scale\":1,\"activation_mode\":\"kRelu\",\"side_input_scale\":0,\"leakyrelu_alpha\":0} for eng20{k2=2,k4=1,k5=1,k6=0,k7=0} vs eng15{k5=1,k6=0,k7=1,k10=1}\n",
      "2024-05-10 03:46:45.768890: E external/local_xla/xla/service/gpu/conv_algorithm_picker.cc:270] Device: Tesla P100-PCIE-16GB\n",
      "2024-05-10 03:46:45.768899: E external/local_xla/xla/service/gpu/conv_algorithm_picker.cc:271] Platform: Compute Capability 6.0\n",
      "2024-05-10 03:46:45.768906: E external/local_xla/xla/service/gpu/conv_algorithm_picker.cc:272] Driver: 12020 (535.129.3)\n",
      "2024-05-10 03:46:45.768913: E external/local_xla/xla/service/gpu/conv_algorithm_picker.cc:273] Runtime: <undefined>\n",
      "2024-05-10 03:46:45.768929: E external/local_xla/xla/service/gpu/conv_algorithm_picker.cc:280] cudnn version: 8.9.0\n",
      "2024-05-10 03:46:45.998008: E external/local_xla/xla/service/gpu/buffer_comparator.cc:1137] Difference at 0: 1.43362, expected 0.956394\n",
      "2024-05-10 03:46:45.998065: E external/local_xla/xla/service/gpu/buffer_comparator.cc:1137] Difference at 1: 1.60183, expected 1.12461\n",
      "2024-05-10 03:46:45.998075: E external/local_xla/xla/service/gpu/buffer_comparator.cc:1137] Difference at 2: 1.13779, expected 0.660565\n",
      "2024-05-10 03:46:45.998083: E external/local_xla/xla/service/gpu/buffer_comparator.cc:1137] Difference at 3: 1.92319, expected 1.44597\n",
      "2024-05-10 03:46:45.998092: E external/local_xla/xla/service/gpu/buffer_comparator.cc:1137] Difference at 4: 1.55514, expected 1.07792\n",
      "2024-05-10 03:46:45.998100: E external/local_xla/xla/service/gpu/buffer_comparator.cc:1137] Difference at 5: 1.67289, expected 1.19567\n",
      "2024-05-10 03:46:45.998108: E external/local_xla/xla/service/gpu/buffer_comparator.cc:1137] Difference at 6: 2.59992, expected 2.12269\n",
      "2024-05-10 03:46:45.998116: E external/local_xla/xla/service/gpu/buffer_comparator.cc:1137] Difference at 7: 2.28334, expected 1.80612\n",
      "2024-05-10 03:46:45.998124: E external/local_xla/xla/service/gpu/buffer_comparator.cc:1137] Difference at 8: 1.95289, expected 1.47567\n",
      "2024-05-10 03:46:45.998132: E external/local_xla/xla/service/gpu/buffer_comparator.cc:1137] Difference at 9: 2.27351, expected 1.79628\n",
      "2024-05-10 03:46:45.999526: E external/local_xla/xla/service/gpu/conv_algorithm_picker.cc:705] Results mismatch between different convolution algorithms. This is likely a bug/unexpected loss of precision in cudnn.\n",
      "(f32[512,16,28,28]{3,2,1,0}, u8[0]{0}) custom-call(f32[512,1,28,28]{3,2,1,0}, f32[16,1,3,3]{3,2,1,0}, f32[16]{0}), window={size=3x3 pad=1_1x1_1}, dim_labels=bf01_oi01->bf01, custom_call_target=\"__cudnn$convBiasActivationForward\", backend_config={\"conv_result_scale\":1,\"activation_mode\":\"kRelu\",\"side_input_scale\":0,\"leakyrelu_alpha\":0} for eng20{k2=2,k4=1,k5=1,k6=0,k7=0} vs eng15{k5=1,k6=0,k7=1,k10=1}\n",
      "2024-05-10 03:46:45.999559: E external/local_xla/xla/service/gpu/conv_algorithm_picker.cc:270] Device: Tesla P100-PCIE-16GB\n",
      "2024-05-10 03:46:45.999572: E external/local_xla/xla/service/gpu/conv_algorithm_picker.cc:271] Platform: Compute Capability 6.0\n",
      "2024-05-10 03:46:45.999580: E external/local_xla/xla/service/gpu/conv_algorithm_picker.cc:272] Driver: 12020 (535.129.3)\n",
      "2024-05-10 03:46:45.999587: E external/local_xla/xla/service/gpu/conv_algorithm_picker.cc:273] Runtime: <undefined>\n",
      "2024-05-10 03:46:45.999602: E external/local_xla/xla/service/gpu/conv_algorithm_picker.cc:280] cudnn version: 8.9.0\n"
     ]
    },
    {
     "name": "stdout",
     "output_type": "stream",
     "text": [
      "\u001b[1m  7/134\u001b[0m \u001b[32m━\u001b[0m\u001b[37m━━━━━━━━━━━━━━━━━━━\u001b[0m \u001b[1m2s\u001b[0m 21ms/step - accuracy: 0.2179 - loss: 2.3665"
     ]
    },
    {
     "name": "stderr",
     "output_type": "stream",
     "text": [
      "WARNING: All log messages before absl::InitializeLog() is called are written to STDERR\n",
      "I0000 00:00:1715312809.642946      67 device_compiler.h:186] Compiled cluster using XLA!  This line is logged at most once for the lifetime of the process.\n"
     ]
    },
    {
     "name": "stdout",
     "output_type": "stream",
     "text": [
      "\u001b[1m 13/134\u001b[0m \u001b[32m━\u001b[0m\u001b[37m━━━━━━━━━━━━━━━━━━━\u001b[0m \u001b[1m2s\u001b[0m 21ms/step - accuracy: 0.3250 - loss: 2.0536"
     ]
    },
    {
     "name": "stderr",
     "output_type": "stream",
     "text": [
      "2024-05-10 03:46:51.366846: E external/local_xla/xla/service/gpu/buffer_comparator.cc:1137] Difference at 0: 1.93919, expected 1.17633\n",
      "2024-05-10 03:46:51.366915: E external/local_xla/xla/service/gpu/buffer_comparator.cc:1137] Difference at 1: 1.83151, expected 1.06866\n",
      "2024-05-10 03:46:51.366925: E external/local_xla/xla/service/gpu/buffer_comparator.cc:1137] Difference at 2: 1.77781, expected 1.01496\n",
      "2024-05-10 03:46:51.366935: E external/local_xla/xla/service/gpu/buffer_comparator.cc:1137] Difference at 3: 1.83448, expected 1.07163\n",
      "2024-05-10 03:46:51.366943: E external/local_xla/xla/service/gpu/buffer_comparator.cc:1137] Difference at 4: 1.92584, expected 1.16299\n",
      "2024-05-10 03:46:51.366951: E external/local_xla/xla/service/gpu/buffer_comparator.cc:1137] Difference at 5: 1.96136, expected 1.19851\n",
      "2024-05-10 03:46:51.366959: E external/local_xla/xla/service/gpu/buffer_comparator.cc:1137] Difference at 6: 2.65613, expected 1.89327\n",
      "2024-05-10 03:46:51.366967: E external/local_xla/xla/service/gpu/buffer_comparator.cc:1137] Difference at 7: 2.196, expected 1.43315\n",
      "2024-05-10 03:46:51.366976: E external/local_xla/xla/service/gpu/buffer_comparator.cc:1137] Difference at 8: 2.10186, expected 1.33901\n",
      "2024-05-10 03:46:51.366984: E external/local_xla/xla/service/gpu/buffer_comparator.cc:1137] Difference at 9: 2.12147, expected 1.35861\n",
      "2024-05-10 03:46:51.368037: E external/local_xla/xla/service/gpu/conv_algorithm_picker.cc:705] Results mismatch between different convolution algorithms. This is likely a bug/unexpected loss of precision in cudnn.\n",
      "(f32[320,16,28,28]{3,2,1,0}, u8[0]{0}) custom-call(f32[320,1,28,28]{3,2,1,0}, f32[16,1,3,3]{3,2,1,0}, f32[16]{0}), window={size=3x3 pad=1_1x1_1}, dim_labels=bf01_oi01->bf01, custom_call_target=\"__cudnn$convBiasActivationForward\", backend_config={\"conv_result_scale\":1,\"activation_mode\":\"kRelu\",\"side_input_scale\":0,\"leakyrelu_alpha\":0} for eng20{k2=2,k4=1,k5=1,k6=0,k7=0} vs eng15{k5=1,k6=0,k7=1,k10=1}\n",
      "2024-05-10 03:46:51.368068: E external/local_xla/xla/service/gpu/conv_algorithm_picker.cc:270] Device: Tesla P100-PCIE-16GB\n",
      "2024-05-10 03:46:51.368090: E external/local_xla/xla/service/gpu/conv_algorithm_picker.cc:271] Platform: Compute Capability 6.0\n",
      "2024-05-10 03:46:51.368098: E external/local_xla/xla/service/gpu/conv_algorithm_picker.cc:272] Driver: 12020 (535.129.3)\n",
      "2024-05-10 03:46:51.368105: E external/local_xla/xla/service/gpu/conv_algorithm_picker.cc:273] Runtime: <undefined>\n",
      "2024-05-10 03:46:51.368124: E external/local_xla/xla/service/gpu/conv_algorithm_picker.cc:280] cudnn version: 8.9.0\n",
      "2024-05-10 03:46:51.435087: E external/local_xla/xla/service/gpu/buffer_comparator.cc:1137] Difference at 0: 1.93919, expected 1.17633\n",
      "2024-05-10 03:46:51.435144: E external/local_xla/xla/service/gpu/buffer_comparator.cc:1137] Difference at 1: 1.83151, expected 1.06866\n",
      "2024-05-10 03:46:51.435155: E external/local_xla/xla/service/gpu/buffer_comparator.cc:1137] Difference at 2: 1.77781, expected 1.01496\n",
      "2024-05-10 03:46:51.435163: E external/local_xla/xla/service/gpu/buffer_comparator.cc:1137] Difference at 3: 1.83448, expected 1.07163\n",
      "2024-05-10 03:46:51.435172: E external/local_xla/xla/service/gpu/buffer_comparator.cc:1137] Difference at 4: 1.92584, expected 1.16299\n",
      "2024-05-10 03:46:51.435181: E external/local_xla/xla/service/gpu/buffer_comparator.cc:1137] Difference at 5: 1.96136, expected 1.19851\n",
      "2024-05-10 03:46:51.435190: E external/local_xla/xla/service/gpu/buffer_comparator.cc:1137] Difference at 6: 2.65613, expected 1.89327\n",
      "2024-05-10 03:46:51.435199: E external/local_xla/xla/service/gpu/buffer_comparator.cc:1137] Difference at 7: 2.196, expected 1.43315\n",
      "2024-05-10 03:46:51.435207: E external/local_xla/xla/service/gpu/buffer_comparator.cc:1137] Difference at 8: 2.10186, expected 1.33901\n",
      "2024-05-10 03:46:51.435216: E external/local_xla/xla/service/gpu/buffer_comparator.cc:1137] Difference at 9: 2.12147, expected 1.35861\n",
      "2024-05-10 03:46:51.436093: E external/local_xla/xla/service/gpu/conv_algorithm_picker.cc:705] Results mismatch between different convolution algorithms. This is likely a bug/unexpected loss of precision in cudnn.\n",
      "(f32[320,16,28,28]{3,2,1,0}, u8[0]{0}) custom-call(f32[320,1,28,28]{3,2,1,0}, f32[16,1,3,3]{3,2,1,0}, f32[16]{0}), window={size=3x3 pad=1_1x1_1}, dim_labels=bf01_oi01->bf01, custom_call_target=\"__cudnn$convBiasActivationForward\", backend_config={\"conv_result_scale\":1,\"activation_mode\":\"kRelu\",\"side_input_scale\":0,\"leakyrelu_alpha\":0} for eng20{k2=2,k4=1,k5=1,k6=0,k7=0} vs eng15{k5=1,k6=0,k7=1,k10=1}\n",
      "2024-05-10 03:46:51.436123: E external/local_xla/xla/service/gpu/conv_algorithm_picker.cc:270] Device: Tesla P100-PCIE-16GB\n",
      "2024-05-10 03:46:51.436132: E external/local_xla/xla/service/gpu/conv_algorithm_picker.cc:271] Platform: Compute Capability 6.0\n",
      "2024-05-10 03:46:51.436140: E external/local_xla/xla/service/gpu/conv_algorithm_picker.cc:272] Driver: 12020 (535.129.3)\n",
      "2024-05-10 03:46:51.436148: E external/local_xla/xla/service/gpu/conv_algorithm_picker.cc:273] Runtime: <undefined>\n",
      "2024-05-10 03:46:51.436162: E external/local_xla/xla/service/gpu/conv_algorithm_picker.cc:280] cudnn version: 8.9.0\n"
     ]
    },
    {
     "name": "stdout",
     "output_type": "stream",
     "text": [
      "\u001b[1m 63/134\u001b[0m \u001b[32m━━━━━━━━━\u001b[0m\u001b[37m━━━━━━━━━━━\u001b[0m \u001b[1m6s\u001b[0m 95ms/step - accuracy: 0.6449 - loss: 1.1071 "
     ]
    },
    {
     "name": "stderr",
     "output_type": "stream",
     "text": [
      "2024-05-10 03:46:55.972337: E external/local_xla/xla/service/gpu/buffer_comparator.cc:1137] Difference at 0: 1.087, expected 0.857533\n",
      "2024-05-10 03:46:55.972415: E external/local_xla/xla/service/gpu/buffer_comparator.cc:1137] Difference at 3: 1.20841, expected 0.97894\n",
      "2024-05-10 03:46:55.972434: E external/local_xla/xla/service/gpu/buffer_comparator.cc:1137] Difference at 9: 1.2056, expected 0.976126\n",
      "2024-05-10 03:46:55.972454: E external/local_xla/xla/service/gpu/buffer_comparator.cc:1137] Difference at 11: 1.16297, expected 0.933496\n",
      "2024-05-10 03:46:55.972471: E external/local_xla/xla/service/gpu/buffer_comparator.cc:1137] Difference at 12: 1.10739, expected 0.877919\n",
      "2024-05-10 03:46:55.972485: E external/local_xla/xla/service/gpu/buffer_comparator.cc:1137] Difference at 27: 1.08498, expected 0.855513\n",
      "2024-05-10 03:46:55.972498: E external/local_xla/xla/service/gpu/buffer_comparator.cc:1137] Difference at 30: 1.23455, expected 1.00508\n",
      "2024-05-10 03:46:55.972509: E external/local_xla/xla/service/gpu/buffer_comparator.cc:1137] Difference at 31: 1.23285, expected 1.00338\n",
      "2024-05-10 03:46:55.972521: E external/local_xla/xla/service/gpu/buffer_comparator.cc:1137] Difference at 55: 1.01115, expected 0.781685\n",
      "2024-05-10 03:46:55.972533: E external/local_xla/xla/service/gpu/buffer_comparator.cc:1137] Difference at 57: 1.20628, expected 0.976813\n",
      "2024-05-10 03:46:55.972555: E external/local_xla/xla/service/gpu/conv_algorithm_picker.cc:705] Results mismatch between different convolution algorithms. This is likely a bug/unexpected loss of precision in cudnn.\n",
      "(f32[32,16,28,28]{3,2,1,0}, u8[0]{0}) custom-call(f32[32,1,28,28]{3,2,1,0}, f32[16,1,3,3]{3,2,1,0}, f32[16]{0}), window={size=3x3 pad=1_1x1_1}, dim_labels=bf01_oi01->bf01, custom_call_target=\"__cudnn$convBiasActivationForward\", backend_config={\"conv_result_scale\":1,\"activation_mode\":\"kRelu\",\"side_input_scale\":0,\"leakyrelu_alpha\":0} for eng20{k2=2,k4=1,k5=1,k6=0,k7=0} vs eng15{k5=1,k6=0,k7=1,k10=1}\n",
      "2024-05-10 03:46:55.972568: E external/local_xla/xla/service/gpu/conv_algorithm_picker.cc:270] Device: Tesla P100-PCIE-16GB\n",
      "2024-05-10 03:46:55.972579: E external/local_xla/xla/service/gpu/conv_algorithm_picker.cc:271] Platform: Compute Capability 6.0\n",
      "2024-05-10 03:46:55.972590: E external/local_xla/xla/service/gpu/conv_algorithm_picker.cc:272] Driver: 12020 (535.129.3)\n",
      "2024-05-10 03:46:55.972602: E external/local_xla/xla/service/gpu/conv_algorithm_picker.cc:273] Runtime: <undefined>\n",
      "2024-05-10 03:46:55.972618: E external/local_xla/xla/service/gpu/conv_algorithm_picker.cc:280] cudnn version: 8.9.0\n",
      "2024-05-10 03:46:56.001824: E external/local_xla/xla/service/gpu/buffer_comparator.cc:1137] Difference at 0: 1.087, expected 0.857533\n",
      "2024-05-10 03:46:56.001877: E external/local_xla/xla/service/gpu/buffer_comparator.cc:1137] Difference at 3: 1.20841, expected 0.97894\n",
      "2024-05-10 03:46:56.001897: E external/local_xla/xla/service/gpu/buffer_comparator.cc:1137] Difference at 9: 1.2056, expected 0.976126\n",
      "2024-05-10 03:46:56.001917: E external/local_xla/xla/service/gpu/buffer_comparator.cc:1137] Difference at 11: 1.16297, expected 0.933496\n",
      "2024-05-10 03:46:56.001932: E external/local_xla/xla/service/gpu/buffer_comparator.cc:1137] Difference at 12: 1.10739, expected 0.877919\n",
      "2024-05-10 03:46:56.001945: E external/local_xla/xla/service/gpu/buffer_comparator.cc:1137] Difference at 27: 1.08498, expected 0.855513\n",
      "2024-05-10 03:46:56.001959: E external/local_xla/xla/service/gpu/buffer_comparator.cc:1137] Difference at 30: 1.23455, expected 1.00508\n",
      "2024-05-10 03:46:56.001974: E external/local_xla/xla/service/gpu/buffer_comparator.cc:1137] Difference at 31: 1.23285, expected 1.00338\n",
      "2024-05-10 03:46:56.001990: E external/local_xla/xla/service/gpu/buffer_comparator.cc:1137] Difference at 55: 1.01115, expected 0.781685\n",
      "2024-05-10 03:46:56.002005: E external/local_xla/xla/service/gpu/buffer_comparator.cc:1137] Difference at 57: 1.20628, expected 0.976813\n",
      "2024-05-10 03:46:56.002032: E external/local_xla/xla/service/gpu/conv_algorithm_picker.cc:705] Results mismatch between different convolution algorithms. This is likely a bug/unexpected loss of precision in cudnn.\n",
      "(f32[32,16,28,28]{3,2,1,0}, u8[0]{0}) custom-call(f32[32,1,28,28]{3,2,1,0}, f32[16,1,3,3]{3,2,1,0}, f32[16]{0}), window={size=3x3 pad=1_1x1_1}, dim_labels=bf01_oi01->bf01, custom_call_target=\"__cudnn$convBiasActivationForward\", backend_config={\"conv_result_scale\":1,\"activation_mode\":\"kRelu\",\"side_input_scale\":0,\"leakyrelu_alpha\":0} for eng20{k2=2,k4=1,k5=1,k6=0,k7=0} vs eng15{k5=1,k6=0,k7=1,k10=1}\n",
      "2024-05-10 03:46:56.002050: E external/local_xla/xla/service/gpu/conv_algorithm_picker.cc:270] Device: Tesla P100-PCIE-16GB\n",
      "2024-05-10 03:46:56.002061: E external/local_xla/xla/service/gpu/conv_algorithm_picker.cc:271] Platform: Compute Capability 6.0\n",
      "2024-05-10 03:46:56.002071: E external/local_xla/xla/service/gpu/conv_algorithm_picker.cc:272] Driver: 12020 (535.129.3)\n",
      "2024-05-10 03:46:56.002090: E external/local_xla/xla/service/gpu/conv_algorithm_picker.cc:273] Runtime: <undefined>\n",
      "2024-05-10 03:46:56.002107: E external/local_xla/xla/service/gpu/conv_algorithm_picker.cc:280] cudnn version: 8.9.0\n",
      "2024-05-10 03:46:56.923897: E external/local_xla/xla/service/gpu/buffer_comparator.cc:1137] Difference at 784: 2.00048, expected 1.6116\n",
      "2024-05-10 03:46:56.923959: E external/local_xla/xla/service/gpu/buffer_comparator.cc:1137] Difference at 785: 2.70367, expected 2.31479\n",
      "2024-05-10 03:46:56.923970: E external/local_xla/xla/service/gpu/buffer_comparator.cc:1137] Difference at 786: 2.00745, expected 1.61857\n",
      "2024-05-10 03:46:56.923979: E external/local_xla/xla/service/gpu/buffer_comparator.cc:1137] Difference at 787: 2.15766, expected 1.76877\n",
      "2024-05-10 03:46:56.923988: E external/local_xla/xla/service/gpu/buffer_comparator.cc:1137] Difference at 788: 2.15375, expected 1.76487\n",
      "2024-05-10 03:46:56.923997: E external/local_xla/xla/service/gpu/buffer_comparator.cc:1137] Difference at 789: 2.70048, expected 2.31159\n",
      "2024-05-10 03:46:56.924006: E external/local_xla/xla/service/gpu/buffer_comparator.cc:1137] Difference at 795: 2.7265, expected 2.33762\n",
      "2024-05-10 03:46:56.924015: E external/local_xla/xla/service/gpu/buffer_comparator.cc:1137] Difference at 796: 2.67208, expected 2.2832\n",
      "2024-05-10 03:46:56.924023: E external/local_xla/xla/service/gpu/buffer_comparator.cc:1137] Difference at 797: 2.416, expected 2.02712\n",
      "2024-05-10 03:46:56.924032: E external/local_xla/xla/service/gpu/buffer_comparator.cc:1137] Difference at 798: 2.42101, expected 2.03213\n",
      "2024-05-10 03:46:56.924055: E external/local_xla/xla/service/gpu/conv_algorithm_picker.cc:705] Results mismatch between different convolution algorithms. This is likely a bug/unexpected loss of precision in cudnn.\n",
      "(f32[16,16,28,28]{3,2,1,0}, u8[0]{0}) custom-call(f32[16,1,28,28]{3,2,1,0}, f32[16,1,3,3]{3,2,1,0}, f32[16]{0}), window={size=3x3 pad=1_1x1_1}, dim_labels=bf01_oi01->bf01, custom_call_target=\"__cudnn$convBiasActivationForward\", backend_config={\"conv_result_scale\":1,\"activation_mode\":\"kRelu\",\"side_input_scale\":0,\"leakyrelu_alpha\":0} for eng20{k2=2,k4=1,k5=1,k6=0,k7=0} vs eng15{k5=1,k6=0,k7=1,k10=1}\n",
      "2024-05-10 03:46:56.924065: E external/local_xla/xla/service/gpu/conv_algorithm_picker.cc:270] Device: Tesla P100-PCIE-16GB\n",
      "2024-05-10 03:46:56.924073: E external/local_xla/xla/service/gpu/conv_algorithm_picker.cc:271] Platform: Compute Capability 6.0\n",
      "2024-05-10 03:46:56.924080: E external/local_xla/xla/service/gpu/conv_algorithm_picker.cc:272] Driver: 12020 (535.129.3)\n",
      "2024-05-10 03:46:56.924088: E external/local_xla/xla/service/gpu/conv_algorithm_picker.cc:273] Runtime: <undefined>\n",
      "2024-05-10 03:46:56.924099: E external/local_xla/xla/service/gpu/conv_algorithm_picker.cc:280] cudnn version: 8.9.0\n",
      "2024-05-10 03:46:56.953257: E external/local_xla/xla/service/gpu/buffer_comparator.cc:1137] Difference at 784: 2.00048, expected 1.6116\n",
      "2024-05-10 03:46:56.953311: E external/local_xla/xla/service/gpu/buffer_comparator.cc:1137] Difference at 785: 2.70367, expected 2.31479\n",
      "2024-05-10 03:46:56.953321: E external/local_xla/xla/service/gpu/buffer_comparator.cc:1137] Difference at 786: 2.00745, expected 1.61857\n",
      "2024-05-10 03:46:56.953330: E external/local_xla/xla/service/gpu/buffer_comparator.cc:1137] Difference at 787: 2.15766, expected 1.76877\n",
      "2024-05-10 03:46:56.953339: E external/local_xla/xla/service/gpu/buffer_comparator.cc:1137] Difference at 788: 2.15375, expected 1.76487\n",
      "2024-05-10 03:46:56.953348: E external/local_xla/xla/service/gpu/buffer_comparator.cc:1137] Difference at 789: 2.70048, expected 2.31159\n",
      "2024-05-10 03:46:56.953370: E external/local_xla/xla/service/gpu/buffer_comparator.cc:1137] Difference at 795: 2.7265, expected 2.33762\n",
      "2024-05-10 03:46:56.953384: E external/local_xla/xla/service/gpu/buffer_comparator.cc:1137] Difference at 796: 2.67208, expected 2.2832\n",
      "2024-05-10 03:46:56.953399: E external/local_xla/xla/service/gpu/buffer_comparator.cc:1137] Difference at 797: 2.416, expected 2.02712\n",
      "2024-05-10 03:46:56.953413: E external/local_xla/xla/service/gpu/buffer_comparator.cc:1137] Difference at 798: 2.42101, expected 2.03213\n",
      "2024-05-10 03:46:56.953436: E external/local_xla/xla/service/gpu/conv_algorithm_picker.cc:705] Results mismatch between different convolution algorithms. This is likely a bug/unexpected loss of precision in cudnn.\n",
      "(f32[16,16,28,28]{3,2,1,0}, u8[0]{0}) custom-call(f32[16,1,28,28]{3,2,1,0}, f32[16,1,3,3]{3,2,1,0}, f32[16]{0}), window={size=3x3 pad=1_1x1_1}, dim_labels=bf01_oi01->bf01, custom_call_target=\"__cudnn$convBiasActivationForward\", backend_config={\"conv_result_scale\":1,\"activation_mode\":\"kRelu\",\"side_input_scale\":0,\"leakyrelu_alpha\":0} for eng20{k2=2,k4=1,k5=1,k6=0,k7=0} vs eng15{k5=1,k6=0,k7=1,k10=1}\n",
      "2024-05-10 03:46:56.953446: E external/local_xla/xla/service/gpu/conv_algorithm_picker.cc:270] Device: Tesla P100-PCIE-16GB\n",
      "2024-05-10 03:46:56.953454: E external/local_xla/xla/service/gpu/conv_algorithm_picker.cc:271] Platform: Compute Capability 6.0\n",
      "2024-05-10 03:46:56.953462: E external/local_xla/xla/service/gpu/conv_algorithm_picker.cc:272] Driver: 12020 (535.129.3)\n",
      "2024-05-10 03:46:56.953470: E external/local_xla/xla/service/gpu/conv_algorithm_picker.cc:273] Runtime: <undefined>\n",
      "2024-05-10 03:46:56.953486: E external/local_xla/xla/service/gpu/conv_algorithm_picker.cc:280] cudnn version: 8.9.0\n"
     ]
    },
    {
     "name": "stdout",
     "output_type": "stream",
     "text": [
      "\u001b[1m134/134\u001b[0m \u001b[32m━━━━━━━━━━━━━━━━━━━━\u001b[0m\u001b[37m\u001b[0m \u001b[1m16s\u001b[0m 59ms/step - accuracy: 0.7431 - loss: 0.8079 - val_accuracy: 0.1171 - val_loss: 2.1796\n",
      "Epoch 2/100\n",
      "\u001b[1m134/134\u001b[0m \u001b[32m━━━━━━━━━━━━━━━━━━━━\u001b[0m\u001b[37m\u001b[0m \u001b[1m2s\u001b[0m 13ms/step - accuracy: 0.9597 - loss: 0.1279 - val_accuracy: 0.1208 - val_loss: 2.5990\n",
      "Epoch 3/100\n",
      "\u001b[1m134/134\u001b[0m \u001b[32m━━━━━━━━━━━━━━━━━━━━\u001b[0m\u001b[37m\u001b[0m \u001b[1m2s\u001b[0m 14ms/step - accuracy: 0.9726 - loss: 0.0875 - val_accuracy: 0.2261 - val_loss: 2.2405\n",
      "Epoch 4/100\n",
      "\u001b[1m134/134\u001b[0m \u001b[32m━━━━━━━━━━━━━━━━━━━━\u001b[0m\u001b[37m\u001b[0m \u001b[1m2s\u001b[0m 14ms/step - accuracy: 0.9775 - loss: 0.0700 - val_accuracy: 0.3404 - val_loss: 1.7668\n",
      "Epoch 5/100\n",
      "\u001b[1m134/134\u001b[0m \u001b[32m━━━━━━━━━━━━━━━━━━━━\u001b[0m\u001b[37m\u001b[0m \u001b[1m2s\u001b[0m 14ms/step - accuracy: 0.9822 - loss: 0.0562 - val_accuracy: 0.6801 - val_loss: 0.9052\n",
      "Epoch 6/100\n",
      "\u001b[1m134/134\u001b[0m \u001b[32m━━━━━━━━━━━━━━━━━━━━\u001b[0m\u001b[37m\u001b[0m \u001b[1m2s\u001b[0m 14ms/step - accuracy: 0.9839 - loss: 0.0504 - val_accuracy: 0.7964 - val_loss: 0.5496\n",
      "Epoch 7/100\n",
      "\u001b[1m134/134\u001b[0m \u001b[32m━━━━━━━━━━━━━━━━━━━━\u001b[0m\u001b[37m\u001b[0m \u001b[1m3s\u001b[0m 14ms/step - accuracy: 0.9852 - loss: 0.0448 - val_accuracy: 0.9470 - val_loss: 0.1717\n",
      "Epoch 8/100\n",
      "\u001b[1m134/134\u001b[0m \u001b[32m━━━━━━━━━━━━━━━━━━━━\u001b[0m\u001b[37m\u001b[0m \u001b[1m2s\u001b[0m 13ms/step - accuracy: 0.9887 - loss: 0.0382 - val_accuracy: 0.9751 - val_loss: 0.0823\n",
      "Epoch 9/100\n",
      "\u001b[1m134/134\u001b[0m \u001b[32m━━━━━━━━━━━━━━━━━━━━\u001b[0m\u001b[37m\u001b[0m \u001b[1m2s\u001b[0m 14ms/step - accuracy: 0.9892 - loss: 0.0351 - val_accuracy: 0.9815 - val_loss: 0.0593\n",
      "Epoch 10/100\n",
      "\u001b[1m134/134\u001b[0m \u001b[32m━━━━━━━━━━━━━━━━━━━━\u001b[0m\u001b[37m\u001b[0m \u001b[1m2s\u001b[0m 14ms/step - accuracy: 0.9896 - loss: 0.0320 - val_accuracy: 0.9852 - val_loss: 0.0464\n",
      "Epoch 11/100\n",
      "\u001b[1m134/134\u001b[0m \u001b[32m━━━━━━━━━━━━━━━━━━━━\u001b[0m\u001b[37m\u001b[0m \u001b[1m2s\u001b[0m 13ms/step - accuracy: 0.9903 - loss: 0.0291 - val_accuracy: 0.9894 - val_loss: 0.0368\n",
      "Epoch 12/100\n",
      "\u001b[1m134/134\u001b[0m \u001b[32m━━━━━━━━━━━━━━━━━━━━\u001b[0m\u001b[37m\u001b[0m \u001b[1m2s\u001b[0m 13ms/step - accuracy: 0.9917 - loss: 0.0267 - val_accuracy: 0.9898 - val_loss: 0.0335\n",
      "Epoch 13/100\n",
      "\u001b[1m134/134\u001b[0m \u001b[32m━━━━━━━━━━━━━━━━━━━━\u001b[0m\u001b[37m\u001b[0m \u001b[1m2s\u001b[0m 13ms/step - accuracy: 0.9916 - loss: 0.0250 - val_accuracy: 0.9894 - val_loss: 0.0351\n",
      "Epoch 14/100\n",
      "\u001b[1m134/134\u001b[0m \u001b[32m━━━━━━━━━━━━━━━━━━━━\u001b[0m\u001b[37m\u001b[0m \u001b[1m2s\u001b[0m 14ms/step - accuracy: 0.9929 - loss: 0.0222 - val_accuracy: 0.9894 - val_loss: 0.0327\n",
      "Epoch 15/100\n",
      "\u001b[1m134/134\u001b[0m \u001b[32m━━━━━━━━━━━━━━━━━━━━\u001b[0m\u001b[37m\u001b[0m \u001b[1m2s\u001b[0m 14ms/step - accuracy: 0.9931 - loss: 0.0208 - val_accuracy: 0.9900 - val_loss: 0.0322\n",
      "Epoch 16/100\n",
      "\u001b[1m134/134\u001b[0m \u001b[32m━━━━━━━━━━━━━━━━━━━━\u001b[0m\u001b[37m\u001b[0m \u001b[1m2s\u001b[0m 13ms/step - accuracy: 0.9938 - loss: 0.0200 - val_accuracy: 0.9910 - val_loss: 0.0327\n",
      "Epoch 17/100\n",
      "\u001b[1m134/134\u001b[0m \u001b[32m━━━━━━━━━━━━━━━━━━━━\u001b[0m\u001b[37m\u001b[0m \u001b[1m2s\u001b[0m 14ms/step - accuracy: 0.9941 - loss: 0.0184 - val_accuracy: 0.9892 - val_loss: 0.0369\n",
      "Epoch 18/100\n",
      "\u001b[1m134/134\u001b[0m \u001b[32m━━━━━━━━━━━━━━━━━━━━\u001b[0m\u001b[37m\u001b[0m \u001b[1m2s\u001b[0m 13ms/step - accuracy: 0.9943 - loss: 0.0187 - val_accuracy: 0.9902 - val_loss: 0.0308\n",
      "Epoch 19/100\n",
      "\u001b[1m134/134\u001b[0m \u001b[32m━━━━━━━━━━━━━━━━━━━━\u001b[0m\u001b[37m\u001b[0m \u001b[1m2s\u001b[0m 14ms/step - accuracy: 0.9953 - loss: 0.0147 - val_accuracy: 0.9906 - val_loss: 0.0323\n",
      "Epoch 20/100\n",
      "\u001b[1m134/134\u001b[0m \u001b[32m━━━━━━━━━━━━━━━━━━━━\u001b[0m\u001b[37m\u001b[0m \u001b[1m2s\u001b[0m 14ms/step - accuracy: 0.9954 - loss: 0.0150 - val_accuracy: 0.9911 - val_loss: 0.0312\n",
      "Epoch 21/100\n",
      "\u001b[1m134/134\u001b[0m \u001b[32m━━━━━━━━━━━━━━━━━━━━\u001b[0m\u001b[37m\u001b[0m \u001b[1m2s\u001b[0m 13ms/step - accuracy: 0.9954 - loss: 0.0145 - val_accuracy: 0.9898 - val_loss: 0.0325\n",
      "Epoch 22/100\n",
      "\u001b[1m134/134\u001b[0m \u001b[32m━━━━━━━━━━━━━━━━━━━━\u001b[0m\u001b[37m\u001b[0m \u001b[1m2s\u001b[0m 14ms/step - accuracy: 0.9958 - loss: 0.0122 - val_accuracy: 0.9913 - val_loss: 0.0295\n",
      "Epoch 23/100\n",
      "\u001b[1m134/134\u001b[0m \u001b[32m━━━━━━━━━━━━━━━━━━━━\u001b[0m\u001b[37m\u001b[0m \u001b[1m2s\u001b[0m 13ms/step - accuracy: 0.9965 - loss: 0.0114 - val_accuracy: 0.9911 - val_loss: 0.0311\n",
      "Epoch 24/100\n",
      "\u001b[1m134/134\u001b[0m \u001b[32m━━━━━━━━━━━━━━━━━━━━\u001b[0m\u001b[37m\u001b[0m \u001b[1m2s\u001b[0m 13ms/step - accuracy: 0.9964 - loss: 0.0114 - val_accuracy: 0.9906 - val_loss: 0.0311\n",
      "Epoch 25/100\n",
      "\u001b[1m134/134\u001b[0m \u001b[32m━━━━━━━━━━━━━━━━━━━━\u001b[0m\u001b[37m\u001b[0m \u001b[1m2s\u001b[0m 13ms/step - accuracy: 0.9966 - loss: 0.0112 - val_accuracy: 0.9912 - val_loss: 0.0329\n",
      "Epoch 26/100\n",
      "\u001b[1m134/134\u001b[0m \u001b[32m━━━━━━━━━━━━━━━━━━━━\u001b[0m\u001b[37m\u001b[0m \u001b[1m2s\u001b[0m 13ms/step - accuracy: 0.9957 - loss: 0.0125 - val_accuracy: 0.9917 - val_loss: 0.0307\n",
      "Epoch 27/100\n",
      "\u001b[1m134/134\u001b[0m \u001b[32m━━━━━━━━━━━━━━━━━━━━\u001b[0m\u001b[37m\u001b[0m \u001b[1m2s\u001b[0m 14ms/step - accuracy: 0.9969 - loss: 0.0096 - val_accuracy: 0.9914 - val_loss: 0.0298\n",
      "Epoch 28/100\n",
      "\u001b[1m134/134\u001b[0m \u001b[32m━━━━━━━━━━━━━━━━━━━━\u001b[0m\u001b[37m\u001b[0m \u001b[1m2s\u001b[0m 13ms/step - accuracy: 0.9975 - loss: 0.0083 - val_accuracy: 0.9907 - val_loss: 0.0328\n",
      "Epoch 29/100\n",
      "\u001b[1m134/134\u001b[0m \u001b[32m━━━━━━━━━━━━━━━━━━━━\u001b[0m\u001b[37m\u001b[0m \u001b[1m2s\u001b[0m 13ms/step - accuracy: 0.9964 - loss: 0.0093 - val_accuracy: 0.9907 - val_loss: 0.0328\n",
      "Epoch 30/100\n",
      "\u001b[1m134/134\u001b[0m \u001b[32m━━━━━━━━━━━━━━━━━━━━\u001b[0m\u001b[37m\u001b[0m \u001b[1m2s\u001b[0m 13ms/step - accuracy: 0.9976 - loss: 0.0081 - val_accuracy: 0.9912 - val_loss: 0.0315\n",
      "Epoch 31/100\n",
      "\u001b[1m134/134\u001b[0m \u001b[32m━━━━━━━━━━━━━━━━━━━━\u001b[0m\u001b[37m\u001b[0m \u001b[1m2s\u001b[0m 13ms/step - accuracy: 0.9969 - loss: 0.0089 - val_accuracy: 0.9910 - val_loss: 0.0355\n",
      "Epoch 32/100\n",
      "\u001b[1m134/134\u001b[0m \u001b[32m━━━━━━━━━━━━━━━━━━━━\u001b[0m\u001b[37m\u001b[0m \u001b[1m2s\u001b[0m 13ms/step - accuracy: 0.9970 - loss: 0.0083 - val_accuracy: 0.9913 - val_loss: 0.0298\n",
      "Epoch 33/100\n",
      "\u001b[1m134/134\u001b[0m \u001b[32m━━━━━━━━━━━━━━━━━━━━\u001b[0m\u001b[37m\u001b[0m \u001b[1m2s\u001b[0m 13ms/step - accuracy: 0.9974 - loss: 0.0082 - val_accuracy: 0.9918 - val_loss: 0.0311\n",
      "Epoch 34/100\n",
      "\u001b[1m134/134\u001b[0m \u001b[32m━━━━━━━━━━━━━━━━━━━━\u001b[0m\u001b[37m\u001b[0m \u001b[1m2s\u001b[0m 13ms/step - accuracy: 0.9973 - loss: 0.0077 - val_accuracy: 0.9920 - val_loss: 0.0317\n",
      "Epoch 35/100\n",
      "\u001b[1m134/134\u001b[0m \u001b[32m━━━━━━━━━━━━━━━━━━━━\u001b[0m\u001b[37m\u001b[0m \u001b[1m2s\u001b[0m 13ms/step - accuracy: 0.9979 - loss: 0.0068 - val_accuracy: 0.9921 - val_loss: 0.0297\n",
      "Epoch 36/100\n",
      "\u001b[1m134/134\u001b[0m \u001b[32m━━━━━━━━━━━━━━━━━━━━\u001b[0m\u001b[37m\u001b[0m \u001b[1m2s\u001b[0m 13ms/step - accuracy: 0.9973 - loss: 0.0075 - val_accuracy: 0.9912 - val_loss: 0.0314\n",
      "Epoch 37/100\n",
      "\u001b[1m134/134\u001b[0m \u001b[32m━━━━━━━━━━━━━━━━━━━━\u001b[0m\u001b[37m\u001b[0m \u001b[1m2s\u001b[0m 13ms/step - accuracy: 0.9983 - loss: 0.0060 - val_accuracy: 0.9920 - val_loss: 0.0308\n",
      "Epoch 38/100\n",
      "\u001b[1m134/134\u001b[0m \u001b[32m━━━━━━━━━━━━━━━━━━━━\u001b[0m\u001b[37m\u001b[0m \u001b[1m2s\u001b[0m 13ms/step - accuracy: 0.9985 - loss: 0.0051 - val_accuracy: 0.9901 - val_loss: 0.0379\n",
      "Epoch 39/100\n",
      "\u001b[1m134/134\u001b[0m \u001b[32m━━━━━━━━━━━━━━━━━━━━\u001b[0m\u001b[37m\u001b[0m \u001b[1m2s\u001b[0m 14ms/step - accuracy: 0.9975 - loss: 0.0074 - val_accuracy: 0.9919 - val_loss: 0.0350\n",
      "Epoch 40/100\n",
      "\u001b[1m134/134\u001b[0m \u001b[32m━━━━━━━━━━━━━━━━━━━━\u001b[0m\u001b[37m\u001b[0m \u001b[1m2s\u001b[0m 13ms/step - accuracy: 0.9976 - loss: 0.0073 - val_accuracy: 0.9911 - val_loss: 0.0335\n",
      "Epoch 41/100\n",
      "\u001b[1m134/134\u001b[0m \u001b[32m━━━━━━━━━━━━━━━━━━━━\u001b[0m\u001b[37m\u001b[0m \u001b[1m2s\u001b[0m 13ms/step - accuracy: 0.9978 - loss: 0.0068 - val_accuracy: 0.9900 - val_loss: 0.0376\n",
      "Epoch 42/100\n",
      "\u001b[1m134/134\u001b[0m \u001b[32m━━━━━━━━━━━━━━━━━━━━\u001b[0m\u001b[37m\u001b[0m \u001b[1m2s\u001b[0m 14ms/step - accuracy: 0.9979 - loss: 0.0053 - val_accuracy: 0.9911 - val_loss: 0.0380\n",
      "Epoch 43/100\n",
      "\u001b[1m134/134\u001b[0m \u001b[32m━━━━━━━━━━━━━━━━━━━━\u001b[0m\u001b[37m\u001b[0m \u001b[1m2s\u001b[0m 13ms/step - accuracy: 0.9982 - loss: 0.0059 - val_accuracy: 0.9912 - val_loss: 0.0321\n",
      "Epoch 44/100\n",
      "\u001b[1m134/134\u001b[0m \u001b[32m━━━━━━━━━━━━━━━━━━━━\u001b[0m\u001b[37m\u001b[0m \u001b[1m2s\u001b[0m 13ms/step - accuracy: 0.9978 - loss: 0.0059 - val_accuracy: 0.9910 - val_loss: 0.0343\n",
      "Epoch 45/100\n",
      "\u001b[1m134/134\u001b[0m \u001b[32m━━━━━━━━━━━━━━━━━━━━\u001b[0m\u001b[37m\u001b[0m \u001b[1m2s\u001b[0m 14ms/step - accuracy: 0.9977 - loss: 0.0061 - val_accuracy: 0.9910 - val_loss: 0.0355\n",
      "Epoch 46/100\n",
      "\u001b[1m134/134\u001b[0m \u001b[32m━━━━━━━━━━━━━━━━━━━━\u001b[0m\u001b[37m\u001b[0m \u001b[1m2s\u001b[0m 14ms/step - accuracy: 0.9988 - loss: 0.0039 - val_accuracy: 0.9912 - val_loss: 0.0355\n",
      "Epoch 47/100\n",
      "\u001b[1m134/134\u001b[0m \u001b[32m━━━━━━━━━━━━━━━━━━━━\u001b[0m\u001b[37m\u001b[0m \u001b[1m2s\u001b[0m 14ms/step - accuracy: 0.9983 - loss: 0.0055 - val_accuracy: 0.9908 - val_loss: 0.0336\n",
      "Epoch 48/100\n",
      "\u001b[1m134/134\u001b[0m \u001b[32m━━━━━━━━━━━━━━━━━━━━\u001b[0m\u001b[37m\u001b[0m \u001b[1m2s\u001b[0m 14ms/step - accuracy: 0.9987 - loss: 0.0044 - val_accuracy: 0.9901 - val_loss: 0.0395\n",
      "Epoch 49/100\n",
      "\u001b[1m134/134\u001b[0m \u001b[32m━━━━━━━━━━━━━━━━━━━━\u001b[0m\u001b[37m\u001b[0m \u001b[1m2s\u001b[0m 13ms/step - accuracy: 0.9983 - loss: 0.0054 - val_accuracy: 0.9908 - val_loss: 0.0335\n",
      "Epoch 50/100\n",
      "\u001b[1m134/134\u001b[0m \u001b[32m━━━━━━━━━━━━━━━━━━━━\u001b[0m\u001b[37m\u001b[0m \u001b[1m2s\u001b[0m 13ms/step - accuracy: 0.9984 - loss: 0.0049 - val_accuracy: 0.9905 - val_loss: 0.0373\n",
      "Epoch 51/100\n",
      "\u001b[1m134/134\u001b[0m \u001b[32m━━━━━━━━━━━━━━━━━━━━\u001b[0m\u001b[37m\u001b[0m \u001b[1m2s\u001b[0m 13ms/step - accuracy: 0.9982 - loss: 0.0052 - val_accuracy: 0.9923 - val_loss: 0.0312\n",
      "Epoch 52/100\n",
      "\u001b[1m134/134\u001b[0m \u001b[32m━━━━━━━━━━━━━━━━━━━━\u001b[0m\u001b[37m\u001b[0m \u001b[1m2s\u001b[0m 13ms/step - accuracy: 0.9986 - loss: 0.0046 - val_accuracy: 0.9904 - val_loss: 0.0400\n",
      "Epoch 53/100\n",
      "\u001b[1m134/134\u001b[0m \u001b[32m━━━━━━━━━━━━━━━━━━━━\u001b[0m\u001b[37m\u001b[0m \u001b[1m2s\u001b[0m 13ms/step - accuracy: 0.9972 - loss: 0.0065 - val_accuracy: 0.9901 - val_loss: 0.0361\n",
      "Epoch 54/100\n",
      "\u001b[1m134/134\u001b[0m \u001b[32m━━━━━━━━━━━━━━━━━━━━\u001b[0m\u001b[37m\u001b[0m \u001b[1m2s\u001b[0m 13ms/step - accuracy: 0.9979 - loss: 0.0062 - val_accuracy: 0.9899 - val_loss: 0.0358\n",
      "Epoch 55/100\n",
      "\u001b[1m134/134\u001b[0m \u001b[32m━━━━━━━━━━━━━━━━━━━━\u001b[0m\u001b[37m\u001b[0m \u001b[1m2s\u001b[0m 15ms/step - accuracy: 0.9985 - loss: 0.0044 - val_accuracy: 0.9917 - val_loss: 0.0315\n",
      "Epoch 56/100\n",
      "\u001b[1m134/134\u001b[0m \u001b[32m━━━━━━━━━━━━━━━━━━━━\u001b[0m\u001b[37m\u001b[0m \u001b[1m2s\u001b[0m 13ms/step - accuracy: 0.9984 - loss: 0.0046 - val_accuracy: 0.9912 - val_loss: 0.0318\n",
      "Epoch 57/100\n",
      "\u001b[1m134/134\u001b[0m \u001b[32m━━━━━━━━━━━━━━━━━━━━\u001b[0m\u001b[37m\u001b[0m \u001b[1m2s\u001b[0m 13ms/step - accuracy: 0.9983 - loss: 0.0050 - val_accuracy: 0.9901 - val_loss: 0.0414\n",
      "Epoch 58/100\n",
      "\u001b[1m134/134\u001b[0m \u001b[32m━━━━━━━━━━━━━━━━━━━━\u001b[0m\u001b[37m\u001b[0m \u001b[1m2s\u001b[0m 13ms/step - accuracy: 0.9980 - loss: 0.0050 - val_accuracy: 0.9918 - val_loss: 0.0314\n",
      "Epoch 59/100\n",
      "\u001b[1m134/134\u001b[0m \u001b[32m━━━━━━━━━━━━━━━━━━━━\u001b[0m\u001b[37m\u001b[0m \u001b[1m2s\u001b[0m 13ms/step - accuracy: 0.9987 - loss: 0.0045 - val_accuracy: 0.9917 - val_loss: 0.0366\n",
      "Epoch 60/100\n",
      "\u001b[1m134/134\u001b[0m \u001b[32m━━━━━━━━━━━━━━━━━━━━\u001b[0m\u001b[37m\u001b[0m \u001b[1m2s\u001b[0m 13ms/step - accuracy: 0.9988 - loss: 0.0036 - val_accuracy: 0.9918 - val_loss: 0.0331\n",
      "Epoch 61/100\n",
      "\u001b[1m134/134\u001b[0m \u001b[32m━━━━━━━━━━━━━━━━━━━━\u001b[0m\u001b[37m\u001b[0m \u001b[1m2s\u001b[0m 13ms/step - accuracy: 0.9989 - loss: 0.0038 - val_accuracy: 0.9920 - val_loss: 0.0362\n",
      "Epoch 62/100\n",
      "\u001b[1m134/134\u001b[0m \u001b[32m━━━━━━━━━━━━━━━━━━━━\u001b[0m\u001b[37m\u001b[0m \u001b[1m2s\u001b[0m 13ms/step - accuracy: 0.9989 - loss: 0.0035 - val_accuracy: 0.9933 - val_loss: 0.0341\n",
      "Epoch 63/100\n",
      "\u001b[1m134/134\u001b[0m \u001b[32m━━━━━━━━━━━━━━━━━━━━\u001b[0m\u001b[37m\u001b[0m \u001b[1m2s\u001b[0m 13ms/step - accuracy: 0.9987 - loss: 0.0038 - val_accuracy: 0.9906 - val_loss: 0.0366\n",
      "Epoch 64/100\n",
      "\u001b[1m134/134\u001b[0m \u001b[32m━━━━━━━━━━━━━━━━━━━━\u001b[0m\u001b[37m\u001b[0m \u001b[1m2s\u001b[0m 13ms/step - accuracy: 0.9989 - loss: 0.0031 - val_accuracy: 0.9915 - val_loss: 0.0377\n",
      "Epoch 65/100\n",
      "\u001b[1m134/134\u001b[0m \u001b[32m━━━━━━━━━━━━━━━━━━━━\u001b[0m\u001b[37m\u001b[0m \u001b[1m2s\u001b[0m 13ms/step - accuracy: 0.9983 - loss: 0.0046 - val_accuracy: 0.9901 - val_loss: 0.0366\n",
      "Epoch 66/100\n",
      "\u001b[1m134/134\u001b[0m \u001b[32m━━━━━━━━━━━━━━━━━━━━\u001b[0m\u001b[37m\u001b[0m \u001b[1m2s\u001b[0m 13ms/step - accuracy: 0.9984 - loss: 0.0041 - val_accuracy: 0.9905 - val_loss: 0.0435\n",
      "Epoch 67/100\n",
      "\u001b[1m134/134\u001b[0m \u001b[32m━━━━━━━━━━━━━━━━━━━━\u001b[0m\u001b[37m\u001b[0m \u001b[1m2s\u001b[0m 13ms/step - accuracy: 0.9985 - loss: 0.0046 - val_accuracy: 0.9918 - val_loss: 0.0360\n",
      "Epoch 68/100\n",
      "\u001b[1m134/134\u001b[0m \u001b[32m━━━━━━━━━━━━━━━━━━━━\u001b[0m\u001b[37m\u001b[0m \u001b[1m2s\u001b[0m 13ms/step - accuracy: 0.9985 - loss: 0.0044 - val_accuracy: 0.9917 - val_loss: 0.0376\n",
      "Epoch 69/100\n",
      "\u001b[1m134/134\u001b[0m \u001b[32m━━━━━━━━━━━━━━━━━━━━\u001b[0m\u001b[37m\u001b[0m \u001b[1m2s\u001b[0m 12ms/step - accuracy: 0.9989 - loss: 0.0030 - val_accuracy: 0.9910 - val_loss: 0.0351\n",
      "Epoch 70/100\n",
      "\u001b[1m134/134\u001b[0m \u001b[32m━━━━━━━━━━━━━━━━━━━━\u001b[0m\u001b[37m\u001b[0m \u001b[1m2s\u001b[0m 13ms/step - accuracy: 0.9990 - loss: 0.0028 - val_accuracy: 0.9910 - val_loss: 0.0362\n",
      "Epoch 71/100\n",
      "\u001b[1m134/134\u001b[0m \u001b[32m━━━━━━━━━━━━━━━━━━━━\u001b[0m\u001b[37m\u001b[0m \u001b[1m2s\u001b[0m 13ms/step - accuracy: 0.9990 - loss: 0.0028 - val_accuracy: 0.9914 - val_loss: 0.0363\n",
      "Epoch 72/100\n",
      "\u001b[1m134/134\u001b[0m \u001b[32m━━━━━━━━━━━━━━━━━━━━\u001b[0m\u001b[37m\u001b[0m \u001b[1m2s\u001b[0m 13ms/step - accuracy: 0.9985 - loss: 0.0041 - val_accuracy: 0.9908 - val_loss: 0.0350\n",
      "Epoch 72: early stopping\n",
      "Restoring model weights from the end of the best epoch: 22.\n"
     ]
    }
   ],
   "source": [
    "history= model.fit(train_data,validation_split=0.1,epochs=100,validation_data=(X_val,y_val),steps_per_epoch=X_train.shape[0]//250,verbose=1,callbacks=[early_stop])"
   ]
  },
  {
   "cell_type": "code",
   "execution_count": 22,
   "id": "be562089",
   "metadata": {
    "execution": {
     "iopub.execute_input": "2024-05-10T03:49:15.137295Z",
     "iopub.status.busy": "2024-05-10T03:49:15.136351Z",
     "iopub.status.idle": "2024-05-10T03:49:15.144083Z",
     "shell.execute_reply": "2024-05-10T03:49:15.143125Z"
    },
    "papermill": {
     "duration": 0.176656,
     "end_time": "2024-05-10T03:49:15.146173",
     "exception": false,
     "start_time": "2024-05-10T03:49:14.969517",
     "status": "completed"
    },
    "tags": []
   },
   "outputs": [
    {
     "data": {
      "text/plain": [
       "[0.830297589302063,\n",
       " 0.9617559313774109,\n",
       " 0.973422646522522,\n",
       " 0.9770535826683044,\n",
       " 0.9824404716491699,\n",
       " 0.9836905002593994,\n",
       " 0.9852976202964783,\n",
       " 0.9881547689437866,\n",
       " 0.989464282989502,\n",
       " 0.9894047379493713,\n",
       " 0.990059494972229,\n",
       " 0.9913392663002014,\n",
       " 0.9915773868560791,\n",
       " 0.9929166436195374,\n",
       " 0.993154764175415,\n",
       " 0.9936012029647827,\n",
       " 0.9937797784805298,\n",
       " 0.994315505027771,\n",
       " 0.9949702620506287,\n",
       " 0.995327353477478,\n",
       " 0.9954761862754822,\n",
       " 0.9957440495491028,\n",
       " 0.996279776096344,\n",
       " 0.9961606860160828,\n",
       " 0.996488094329834,\n",
       " 0.9956845045089722,\n",
       " 0.996696412563324,\n",
       " 0.9973214268684387,\n",
       " 0.996279776096344,\n",
       " 0.9972916841506958,\n",
       " 0.9966369271278381,\n",
       " 0.9969345331192017,\n",
       " 0.9973809719085693,\n",
       " 0.9970535635948181,\n",
       " 0.9977381229400635,\n",
       " 0.9971725940704346,\n",
       " 0.9984226226806641,\n",
       " 0.9982737898826599,\n",
       " 0.9975297451019287,\n",
       " 0.9973511695861816,\n",
       " 0.9976190328598022,\n",
       " 0.9980952143669128,\n",
       " 0.998244047164917,\n",
       " 0.9980059266090393,\n",
       " 0.9978571534156799,\n",
       " 0.9986607432365417,\n",
       " 0.9983928799629211,\n",
       " 0.9985416531562805,\n",
       " 0.9982737898826599,\n",
       " 0.9984226226806641,\n",
       " 0.9981845021247864,\n",
       " 0.9983035922050476,\n",
       " 0.9975892901420593,\n",
       " 0.9978571534156799,\n",
       " 0.998452365398407,\n",
       " 0.9983928799629211,\n",
       " 0.9983035922050476,\n",
       " 0.9983333349227905,\n",
       " 0.9986904859542847,\n",
       " 0.9987797737121582,\n",
       " 0.9987202286720276,\n",
       " 0.9989285469055176,\n",
       " 0.9988095164299011,\n",
       " 0.998839259147644,\n",
       " 0.9984821677207947,\n",
       " 0.9985416531562805,\n",
       " 0.9985119104385376,\n",
       " 0.9986607432365417,\n",
       " 0.9988095164299011,\n",
       " 0.9989583492279053,\n",
       " 0.9989583492279053,\n",
       " 0.9985119104385376]"
      ]
     },
     "execution_count": 22,
     "metadata": {},
     "output_type": "execute_result"
    }
   ],
   "source": [
    "history.history['accuracy']"
   ]
  },
  {
   "cell_type": "code",
   "execution_count": 23,
   "id": "c83e5bce",
   "metadata": {
    "execution": {
     "iopub.execute_input": "2024-05-10T03:49:15.492132Z",
     "iopub.status.busy": "2024-05-10T03:49:15.491224Z",
     "iopub.status.idle": "2024-05-10T03:49:15.498877Z",
     "shell.execute_reply": "2024-05-10T03:49:15.497849Z"
    },
    "papermill": {
     "duration": 0.184839,
     "end_time": "2024-05-10T03:49:15.501099",
     "exception": false,
     "start_time": "2024-05-10T03:49:15.316260",
     "status": "completed"
    },
    "tags": []
   },
   "outputs": [
    {
     "data": {
      "text/plain": [
       "[0.11714285612106323,\n",
       " 0.12083332985639572,\n",
       " 0.22607143223285675,\n",
       " 0.3403571546077728,\n",
       " 0.6801190376281738,\n",
       " 0.7964285612106323,\n",
       " 0.9470238089561462,\n",
       " 0.9751190543174744,\n",
       " 0.9815475940704346,\n",
       " 0.9852380752563477,\n",
       " 0.9894047379493713,\n",
       " 0.9897618889808655,\n",
       " 0.9894047379493713,\n",
       " 0.9894047379493713,\n",
       " 0.9900000095367432,\n",
       " 0.9909523725509644,\n",
       " 0.9891666769981384,\n",
       " 0.9902380704879761,\n",
       " 0.9905952215194702,\n",
       " 0.9910714030265808,\n",
       " 0.9897618889808655,\n",
       " 0.9913095235824585,\n",
       " 0.9910714030265808,\n",
       " 0.9905952215194702,\n",
       " 0.991190493106842,\n",
       " 0.9916666746139526,\n",
       " 0.991428554058075,\n",
       " 0.9907143115997314,\n",
       " 0.9907143115997314,\n",
       " 0.991190493106842,\n",
       " 0.9909523725509644,\n",
       " 0.9913095235824585,\n",
       " 0.9917857050895691,\n",
       " 0.9920238256454468,\n",
       " 0.9921428561210632,\n",
       " 0.991190493106842,\n",
       " 0.9920238256454468,\n",
       " 0.9901190400123596,\n",
       " 0.9919047355651855,\n",
       " 0.9910714030265808,\n",
       " 0.9900000095367432,\n",
       " 0.9910714030265808,\n",
       " 0.991190493106842,\n",
       " 0.9909523725509644,\n",
       " 0.9909523725509644,\n",
       " 0.991190493106842,\n",
       " 0.9908333420753479,\n",
       " 0.9901190400123596,\n",
       " 0.9908333420753479,\n",
       " 0.9904761910438538,\n",
       " 0.9922618865966797,\n",
       " 0.9903571605682373,\n",
       " 0.9901190400123596,\n",
       " 0.9898809790611267,\n",
       " 0.9916666746139526,\n",
       " 0.991190493106842,\n",
       " 0.9901190400123596,\n",
       " 0.9917857050895691,\n",
       " 0.9916666746139526,\n",
       " 0.9917857050895691,\n",
       " 0.9920238256454468,\n",
       " 0.9933333396911621,\n",
       " 0.9905952215194702,\n",
       " 0.9915476441383362,\n",
       " 0.9901190400123596,\n",
       " 0.9904761910438538,\n",
       " 0.9917857050895691,\n",
       " 0.9916666746139526,\n",
       " 0.9909523725509644,\n",
       " 0.9909523725509644,\n",
       " 0.991428554058075,\n",
       " 0.9908333420753479]"
      ]
     },
     "execution_count": 23,
     "metadata": {},
     "output_type": "execute_result"
    }
   ],
   "source": [
    "history.history['val_accuracy']"
   ]
  },
  {
   "cell_type": "code",
   "execution_count": 24,
   "id": "817192b2",
   "metadata": {
    "execution": {
     "iopub.execute_input": "2024-05-10T03:49:15.824616Z",
     "iopub.status.busy": "2024-05-10T03:49:15.823744Z",
     "iopub.status.idle": "2024-05-10T03:49:15.831194Z",
     "shell.execute_reply": "2024-05-10T03:49:15.830034Z"
    },
    "papermill": {
     "duration": 0.173115,
     "end_time": "2024-05-10T03:49:15.833429",
     "exception": false,
     "start_time": "2024-05-10T03:49:15.660314",
     "status": "completed"
    },
    "tags": []
   },
   "outputs": [
    {
     "data": {
      "text/plain": [
       "[0.5420386791229248,\n",
       " 0.120907261967659,\n",
       " 0.08442779630422592,\n",
       " 0.06986800581216812,\n",
       " 0.056307390332221985,\n",
       " 0.050639115273952484,\n",
       " 0.044609613716602325,\n",
       " 0.039112068712711334,\n",
       " 0.03466635197401047,\n",
       " 0.03213154524564743,\n",
       " 0.029863834381103516,\n",
       " 0.0270609762519598,\n",
       " 0.025550436228513718,\n",
       " 0.022493794560432434,\n",
       " 0.02084638737142086,\n",
       " 0.020510055124759674,\n",
       " 0.01881192810833454,\n",
       " 0.018207605928182602,\n",
       " 0.015511403791606426,\n",
       " 0.01480388268828392,\n",
       " 0.01477353647351265,\n",
       " 0.012602412141859531,\n",
       " 0.011495763435959816,\n",
       " 0.011708736419677734,\n",
       " 0.011535345576703548,\n",
       " 0.012541422620415688,\n",
       " 0.010111472569406033,\n",
       " 0.00868954323232174,\n",
       " 0.00945335254073143,\n",
       " 0.008662836626172066,\n",
       " 0.009541191160678864,\n",
       " 0.008500466123223305,\n",
       " 0.007934588938951492,\n",
       " 0.008372971788048744,\n",
       " 0.006809441838413477,\n",
       " 0.007849819958209991,\n",
       " 0.005781872663646936,\n",
       " 0.005424872040748596,\n",
       " 0.007519400212913752,\n",
       " 0.00788913294672966,\n",
       " 0.0071494425646960735,\n",
       " 0.005153031554073095,\n",
       " 0.005943782161921263,\n",
       " 0.005790880415588617,\n",
       " 0.00611368240788579,\n",
       " 0.0041876123286783695,\n",
       " 0.005422094836831093,\n",
       " 0.004554423503577709,\n",
       " 0.005337412469089031,\n",
       " 0.0049632275477051735,\n",
       " 0.005313690751791,\n",
       " 0.005292397458106279,\n",
       " 0.0059140510857105255,\n",
       " 0.00631267623975873,\n",
       " 0.004466076847165823,\n",
       " 0.005023762583732605,\n",
       " 0.00506801949813962,\n",
       " 0.004443260841071606,\n",
       " 0.004508528392761946,\n",
       " 0.003622977761551738,\n",
       " 0.004045010544359684,\n",
       " 0.0036331680603325367,\n",
       " 0.0036331622395664454,\n",
       " 0.003104274859651923,\n",
       " 0.004451157059520483,\n",
       " 0.0038886433467268944,\n",
       " 0.004509083926677704,\n",
       " 0.0037099989131093025,\n",
       " 0.003142113797366619,\n",
       " 0.002966776955872774,\n",
       " 0.002871893113479018,\n",
       " 0.004137042909860611]"
      ]
     },
     "execution_count": 24,
     "metadata": {},
     "output_type": "execute_result"
    }
   ],
   "source": [
    "history.history['loss']"
   ]
  },
  {
   "cell_type": "markdown",
   "id": "54bf6849",
   "metadata": {
    "papermill": {
     "duration": 0.164739,
     "end_time": "2024-05-10T03:49:16.165779",
     "exception": false,
     "start_time": "2024-05-10T03:49:16.001040",
     "status": "completed"
    },
    "tags": []
   },
   "source": [
    "# Plot Results"
   ]
  },
  {
   "cell_type": "code",
   "execution_count": 25,
   "id": "cd1b85e3",
   "metadata": {
    "execution": {
     "iopub.execute_input": "2024-05-10T03:49:16.508433Z",
     "iopub.status.busy": "2024-05-10T03:49:16.507968Z",
     "iopub.status.idle": "2024-05-10T03:49:16.975500Z",
     "shell.execute_reply": "2024-05-10T03:49:16.974542Z"
    },
    "papermill": {
     "duration": 0.646196,
     "end_time": "2024-05-10T03:49:16.977793",
     "exception": false,
     "start_time": "2024-05-10T03:49:16.331597",
     "status": "completed"
    },
    "tags": []
   },
   "outputs": [
    {
     "data": {
      "image/png": "[encoded data removed]",
      "text/plain": [
       "<Figure size 1200x1000 with 2 Axes>"
      ]
     },
     "metadata": {},
     "output_type": "display_data"
    }
   ],
   "source": [
    "\n",
    "plt.figure(figsize=(12,10))\n",
    "plt.subplot(2,2,1)\n",
    "plt.plot(history.history['accuracy'])\n",
    "plt.plot(history.history['val_accuracy'])\n",
    "plt.title('Model Accuracy')\n",
    "plt.xlabel('Epoch')\n",
    "plt.ylabel('Accuracy')\n",
    "plt.legend(['Train','Validation'],loc='best')\n",
    "\n",
    "\n",
    "plt.subplot(2,2,2)\n",
    "plt.plot(history.history['loss'])\n",
    "plt.plot(history.history['val_loss'])\n",
    "plt.title('Model Loss')\n",
    "plt.xlabel('Epoch')\n",
    "plt.ylabel('Loss')\n",
    "plt.legend(['train','Validation'],loc='best')\n",
    "\n",
    "plt.show()"
   ]
  },
  {
   "cell_type": "markdown",
   "id": "f61b2a46",
   "metadata": {
    "papermill": {
     "duration": 0.164356,
     "end_time": "2024-05-10T03:49:17.302123",
     "exception": false,
     "start_time": "2024-05-10T03:49:17.137767",
     "status": "completed"
    },
    "tags": []
   },
   "source": [
    "# Results"
   ]
  },
  {
   "cell_type": "code",
   "execution_count": 26,
   "id": "2b6b84c4",
   "metadata": {
    "execution": {
     "iopub.execute_input": "2024-05-10T03:49:17.639264Z",
     "iopub.status.busy": "2024-05-10T03:49:17.638881Z",
     "iopub.status.idle": "2024-05-10T03:49:19.676008Z",
     "shell.execute_reply": "2024-05-10T03:49:19.674948Z"
    },
    "papermill": {
     "duration": 2.211156,
     "end_time": "2024-05-10T03:49:19.678321",
     "exception": false,
     "start_time": "2024-05-10T03:49:17.467165",
     "status": "completed"
    },
    "tags": []
   },
   "outputs": [
    {
     "name": "stdout",
     "output_type": "stream",
     "text": [
      "\u001b[1m263/263\u001b[0m \u001b[32m━━━━━━━━━━━━━━━━━━━━\u001b[0m\u001b[37m\u001b[0m \u001b[1m1s\u001b[0m 3ms/step\n"
     ]
    },
    {
     "data": {
      "image/png": "[encoded data removed]",
      "text/plain": [
       "<Figure size 1000x1000 with 2 Axes>"
      ]
     },
     "metadata": {},
     "output_type": "display_data"
    }
   ],
   "source": [
    "from sklearn.metrics import confusion_matrix\n",
    "\n",
    "# predict the values from validation dataset\n",
    "y_pred = model.predict(X_val)\n",
    "\n",
    "# convert prediction class to one vector \n",
    "y_pred_classes = np.argmax(y_pred,axis=1)\n",
    "\n",
    "# Convert the validation observations to one hot vectors \n",
    "y_true = np.argmax(y_val,axis=1)\n",
    "\n",
    "# Compute Confusion Matrix\n",
    "cm = confusion_matrix(y_true,y_pred_classes)\n",
    "\n",
    "fig ,ax = plt.subplots(figsize=(10,10))\n",
    "\n",
    "sns.heatmap(cm,annot=True,cmap='icefire',linewidths=0.01,linecolor='gray',fmt='0.1f',ax=ax)\n",
    "\n",
    "plt.title('Confusion Matrix')\n",
    "plt.xlabel('Predicted Label')\n",
    "plt.ylabel('Actual Label')\n",
    "fig.show()"
   ]
  },
  {
   "cell_type": "code",
   "execution_count": 27,
   "id": "89f3618a",
   "metadata": {
    "execution": {
     "iopub.execute_input": "2024-05-10T03:49:20.015533Z",
     "iopub.status.busy": "2024-05-10T03:49:20.015107Z",
     "iopub.status.idle": "2024-05-10T03:49:20.022723Z",
     "shell.execute_reply": "2024-05-10T03:49:20.021573Z"
    },
    "papermill": {
     "duration": 0.174419,
     "end_time": "2024-05-10T03:49:20.025046",
     "exception": false,
     "start_time": "2024-05-10T03:49:19.850627",
     "status": "completed"
    },
    "tags": []
   },
   "outputs": [
    {
     "name": "stdout",
     "output_type": "stream",
     "text": [
      "The score of  this model is : 99.13%\n"
     ]
    }
   ],
   "source": [
    "from sklearn.metrics import accuracy_score\n",
    "score = accuracy_score(y_true,y_pred_classes)*100\n",
    "print(f'The score of  this model is : {score:0.2f}%')"
   ]
  },
  {
   "cell_type": "markdown",
   "id": "67dc9ca9",
   "metadata": {
    "papermill": {
     "duration": 0.174073,
     "end_time": "2024-05-10T03:49:20.371964",
     "exception": false,
     "start_time": "2024-05-10T03:49:20.197891",
     "status": "completed"
    },
    "tags": []
   },
   "source": [
    "# predicts given test dataset"
   ]
  },
  {
   "cell_type": "code",
   "execution_count": 28,
   "id": "db5ea8fa",
   "metadata": {
    "execution": {
     "iopub.execute_input": "2024-05-10T03:49:20.713333Z",
     "iopub.status.busy": "2024-05-10T03:49:20.712489Z",
     "iopub.status.idle": "2024-05-10T03:49:20.758875Z",
     "shell.execute_reply": "2024-05-10T03:49:20.757938Z"
    },
    "papermill": {
     "duration": 0.216782,
     "end_time": "2024-05-10T03:49:20.761221",
     "exception": false,
     "start_time": "2024-05-10T03:49:20.544439",
     "status": "completed"
    },
    "tags": []
   },
   "outputs": [],
   "source": [
    "test/=255"
   ]
  },
  {
   "cell_type": "code",
   "execution_count": 29,
   "id": "f4adbe16",
   "metadata": {
    "execution": {
     "iopub.execute_input": "2024-05-10T03:49:21.089935Z",
     "iopub.status.busy": "2024-05-10T03:49:21.089532Z",
     "iopub.status.idle": "2024-05-10T03:49:21.094550Z",
     "shell.execute_reply": "2024-05-10T03:49:21.093567Z"
    },
    "papermill": {
     "duration": 0.169484,
     "end_time": "2024-05-10T03:49:21.097093",
     "exception": false,
     "start_time": "2024-05-10T03:49:20.927609",
     "status": "completed"
    },
    "tags": []
   },
   "outputs": [
    {
     "name": "stdout",
     "output_type": "stream",
     "text": [
      "X_train Shape :  (28000, 28, 28, 1)\n"
     ]
    }
   ],
   "source": [
    "test=test.values.reshape(-1,28,28,1)\n",
    "print('X_train Shape : ',test.shape)"
   ]
  },
  {
   "cell_type": "code",
   "execution_count": 30,
   "id": "72201512",
   "metadata": {
    "execution": {
     "iopub.execute_input": "2024-05-10T03:49:21.496213Z",
     "iopub.status.busy": "2024-05-10T03:49:21.495282Z",
     "iopub.status.idle": "2024-05-10T03:49:23.578086Z",
     "shell.execute_reply": "2024-05-10T03:49:23.576985Z"
    },
    "papermill": {
     "duration": 2.264359,
     "end_time": "2024-05-10T03:49:23.580617",
     "exception": false,
     "start_time": "2024-05-10T03:49:21.316258",
     "status": "completed"
    },
    "tags": []
   },
   "outputs": [
    {
     "name": "stdout",
     "output_type": "stream",
     "text": [
      "\u001b[1m875/875\u001b[0m \u001b[32m━━━━━━━━━━━━━━━━━━━━\u001b[0m\u001b[37m\u001b[0m \u001b[1m1s\u001b[0m 1ms/step\n"
     ]
    }
   ],
   "source": [
    "predictions=model.predict(test)"
   ]
  },
  {
   "cell_type": "code",
   "execution_count": 31,
   "id": "f8bfd609",
   "metadata": {
    "execution": {
     "iopub.execute_input": "2024-05-10T03:49:23.919332Z",
     "iopub.status.busy": "2024-05-10T03:49:23.918931Z",
     "iopub.status.idle": "2024-05-10T03:49:23.926549Z",
     "shell.execute_reply": "2024-05-10T03:49:23.925520Z"
    },
    "papermill": {
     "duration": 0.181159,
     "end_time": "2024-05-10T03:49:23.928664",
     "exception": false,
     "start_time": "2024-05-10T03:49:23.747505",
     "status": "completed"
    },
    "tags": []
   },
   "outputs": [
    {
     "data": {
      "text/plain": [
       "array([[6.3736301e-11, 4.2429642e-09, 1.0000000e+00, ..., 1.5152963e-08,\n",
       "        9.9199393e-10, 9.8809296e-13],\n",
       "       [9.9999797e-01, 3.0139782e-13, 1.4972076e-09, ..., 5.2448147e-11,\n",
       "        7.2727033e-09, 8.8030436e-09],\n",
       "       [1.6601681e-10, 2.3378197e-11, 1.7298788e-07, ..., 5.8883842e-08,\n",
       "        2.9811638e-06, 9.9999642e-01],\n",
       "       ...,\n",
       "       [1.4711530e-17, 2.2485825e-13, 4.5802381e-12, ..., 7.3748741e-12,\n",
       "        3.3385419e-11, 3.3585098e-13],\n",
       "       [1.3133805e-09, 7.8799189e-10, 1.8709329e-08, ..., 2.3968185e-05,\n",
       "        1.6999845e-09, 9.9958354e-01],\n",
       "       [5.3589972e-13, 6.9755625e-12, 1.0000000e+00, ..., 1.9259237e-10,\n",
       "        9.9195985e-10, 1.3577509e-12]], dtype=float32)"
      ]
     },
     "execution_count": 31,
     "metadata": {},
     "output_type": "execute_result"
    }
   ],
   "source": [
    "predictions"
   ]
  },
  {
   "cell_type": "code",
   "execution_count": 32,
   "id": "4fe36ebb",
   "metadata": {
    "execution": {
     "iopub.execute_input": "2024-05-10T03:49:24.258488Z",
     "iopub.status.busy": "2024-05-10T03:49:24.257750Z",
     "iopub.status.idle": "2024-05-10T03:49:24.265423Z",
     "shell.execute_reply": "2024-05-10T03:49:24.264387Z"
    },
    "papermill": {
     "duration": 0.175125,
     "end_time": "2024-05-10T03:49:24.267533",
     "exception": false,
     "start_time": "2024-05-10T03:49:24.092408",
     "status": "completed"
    },
    "tags": []
   },
   "outputs": [
    {
     "data": {
      "text/plain": [
       "array([2, 0, 9, ..., 3, 9, 2])"
      ]
     },
     "execution_count": 32,
     "metadata": {},
     "output_type": "execute_result"
    }
   ],
   "source": [
    "pred_classes = np.argmax(predictions,axis=1)\n",
    "pred_classes"
   ]
  },
  {
   "cell_type": "code",
   "execution_count": 33,
   "id": "a6de1004",
   "metadata": {
    "execution": {
     "iopub.execute_input": "2024-05-10T03:49:24.609889Z",
     "iopub.status.busy": "2024-05-10T03:49:24.609052Z",
     "iopub.status.idle": "2024-05-10T03:49:24.615023Z",
     "shell.execute_reply": "2024-05-10T03:49:24.613916Z"
    },
    "papermill": {
     "duration": 0.174963,
     "end_time": "2024-05-10T03:49:24.617005",
     "exception": false,
     "start_time": "2024-05-10T03:49:24.442042",
     "status": "completed"
    },
    "tags": []
   },
   "outputs": [
    {
     "name": "stdout",
     "output_type": "stream",
     "text": [
      "len of test dataset :  28000\n",
      "len of predicted dataset :  28000\n"
     ]
    }
   ],
   "source": [
    "print('len of test dataset : ',len(test))\n",
    "\n",
    "print('len of predicted dataset : ',len(pred_classes))"
   ]
  },
  {
   "cell_type": "code",
   "execution_count": 34,
   "id": "7567b7ec",
   "metadata": {
    "execution": {
     "iopub.execute_input": "2024-05-10T03:49:24.955572Z",
     "iopub.status.busy": "2024-05-10T03:49:24.954779Z",
     "iopub.status.idle": "2024-05-10T03:49:24.959915Z",
     "shell.execute_reply": "2024-05-10T03:49:24.958951Z"
    },
    "papermill": {
     "duration": 0.176525,
     "end_time": "2024-05-10T03:49:24.961853",
     "exception": false,
     "start_time": "2024-05-10T03:49:24.785328",
     "status": "completed"
    },
    "tags": []
   },
   "outputs": [],
   "source": [
    "submission = pd.DataFrame({'Label': pred_classes})"
   ]
  },
  {
   "cell_type": "code",
   "execution_count": 35,
   "id": "893b72d3",
   "metadata": {
    "execution": {
     "iopub.execute_input": "2024-05-10T03:49:25.306871Z",
     "iopub.status.busy": "2024-05-10T03:49:25.305869Z",
     "iopub.status.idle": "2024-05-10T03:49:25.312124Z",
     "shell.execute_reply": "2024-05-10T03:49:25.311241Z"
    },
    "papermill": {
     "duration": 0.17984,
     "end_time": "2024-05-10T03:49:25.314280",
     "exception": false,
     "start_time": "2024-05-10T03:49:25.134440",
     "status": "completed"
    },
    "tags": []
   },
   "outputs": [],
   "source": [
    "submission['ImageId'] = np.arange(1, len(submission) + 1)"
   ]
  },
  {
   "cell_type": "code",
   "execution_count": 36,
   "id": "5a23a0ed",
   "metadata": {
    "execution": {
     "iopub.execute_input": "2024-05-10T03:49:25.663693Z",
     "iopub.status.busy": "2024-05-10T03:49:25.662985Z",
     "iopub.status.idle": "2024-05-10T03:49:25.668797Z",
     "shell.execute_reply": "2024-05-10T03:49:25.667891Z"
    },
    "papermill": {
     "duration": 0.173849,
     "end_time": "2024-05-10T03:49:25.670881",
     "exception": false,
     "start_time": "2024-05-10T03:49:25.497032",
     "status": "completed"
    },
    "tags": []
   },
   "outputs": [],
   "source": [
    "submission = submission [['ImageId','Label']]"
   ]
  },
  {
   "cell_type": "code",
   "execution_count": 37,
   "id": "1eb3b0f6",
   "metadata": {
    "execution": {
     "iopub.execute_input": "2024-05-10T03:49:26.023101Z",
     "iopub.status.busy": "2024-05-10T03:49:26.022438Z",
     "iopub.status.idle": "2024-05-10T03:49:26.033967Z",
     "shell.execute_reply": "2024-05-10T03:49:26.033060Z"
    },
    "papermill": {
     "duration": 0.181488,
     "end_time": "2024-05-10T03:49:26.036090",
     "exception": false,
     "start_time": "2024-05-10T03:49:25.854602",
     "status": "completed"
    },
    "tags": []
   },
   "outputs": [
    {
     "data": {
      "text/html": [
       "<div>\n",
       "<style scoped>\n",
       "    .dataframe tbody tr th:only-of-type {\n",
       "        vertical-align: middle;\n",
       "    }\n",
       "\n",
       "    .dataframe tbody tr th {\n",
       "        vertical-align: top;\n",
       "    }\n",
       "\n",
       "    .dataframe thead th {\n",
       "        text-align: right;\n",
       "    }\n",
       "</style>\n",
       "<table border=\"1\" class=\"dataframe\">\n",
       "  <thead>\n",
       "    <tr style=\"text-align: right;\">\n",
       "      <th></th>\n",
       "      <th>ImageId</th>\n",
       "      <th>Label</th>\n",
       "    </tr>\n",
       "  </thead>\n",
       "  <tbody>\n",
       "    <tr>\n",
       "      <th>0</th>\n",
       "      <td>1</td>\n",
       "      <td>2</td>\n",
       "    </tr>\n",
       "    <tr>\n",
       "      <th>1</th>\n",
       "      <td>2</td>\n",
       "      <td>0</td>\n",
       "    </tr>\n",
       "    <tr>\n",
       "      <th>2</th>\n",
       "      <td>3</td>\n",
       "      <td>9</td>\n",
       "    </tr>\n",
       "    <tr>\n",
       "      <th>3</th>\n",
       "      <td>4</td>\n",
       "      <td>0</td>\n",
       "    </tr>\n",
       "    <tr>\n",
       "      <th>4</th>\n",
       "      <td>5</td>\n",
       "      <td>3</td>\n",
       "    </tr>\n",
       "    <tr>\n",
       "      <th>...</th>\n",
       "      <td>...</td>\n",
       "      <td>...</td>\n",
       "    </tr>\n",
       "    <tr>\n",
       "      <th>27995</th>\n",
       "      <td>27996</td>\n",
       "      <td>9</td>\n",
       "    </tr>\n",
       "    <tr>\n",
       "      <th>27996</th>\n",
       "      <td>27997</td>\n",
       "      <td>7</td>\n",
       "    </tr>\n",
       "    <tr>\n",
       "      <th>27997</th>\n",
       "      <td>27998</td>\n",
       "      <td>3</td>\n",
       "    </tr>\n",
       "    <tr>\n",
       "      <th>27998</th>\n",
       "      <td>27999</td>\n",
       "      <td>9</td>\n",
       "    </tr>\n",
       "    <tr>\n",
       "      <th>27999</th>\n",
       "      <td>28000</td>\n",
       "      <td>2</td>\n",
       "    </tr>\n",
       "  </tbody>\n",
       "</table>\n",
       "<p>28000 rows × 2 columns</p>\n",
       "</div>"
      ],
      "text/plain": [
       "       ImageId  Label\n",
       "0            1      2\n",
       "1            2      0\n",
       "2            3      9\n",
       "3            4      0\n",
       "4            5      3\n",
       "...        ...    ...\n",
       "27995    27996      9\n",
       "27996    27997      7\n",
       "27997    27998      3\n",
       "27998    27999      9\n",
       "27999    28000      2\n",
       "\n",
       "[28000 rows x 2 columns]"
      ]
     },
     "execution_count": 37,
     "metadata": {},
     "output_type": "execute_result"
    }
   ],
   "source": [
    "submission"
   ]
  },
  {
   "cell_type": "code",
   "execution_count": 38,
   "id": "3af003ab",
   "metadata": {
    "execution": {
     "iopub.execute_input": "2024-05-10T03:49:26.392498Z",
     "iopub.status.busy": "2024-05-10T03:49:26.391856Z",
     "iopub.status.idle": "2024-05-10T03:49:26.433964Z",
     "shell.execute_reply": "2024-05-10T03:49:26.433000Z"
    },
    "papermill": {
     "duration": 0.215926,
     "end_time": "2024-05-10T03:49:26.436095",
     "exception": false,
     "start_time": "2024-05-10T03:49:26.220169",
     "status": "completed"
    },
    "tags": []
   },
   "outputs": [],
   "source": [
    "submission_df = pd.DataFrame({\n",
    "    'ImageId': range(1, len(pred_classes) + 1),  # ImageId starts from 1 and increases gradually\n",
    "    'Label': pred_classes  # Predicted labels\n",
    "})\n",
    "\n",
    "# Save the DataFrame to a CSV file in the specified format\n",
    "submission_df.to_csv('submission.csv', index=False)"
   ]
  },
  {
   "cell_type": "code",
   "execution_count": null,
   "id": "170f5904",
   "metadata": {
    "papermill": {
     "duration": 0.170674,
     "end_time": "2024-05-10T03:49:26.775808",
     "exception": false,
     "start_time": "2024-05-10T03:49:26.605134",
     "status": "completed"
    },
    "tags": []
   },
   "outputs": [],
   "source": []
  }
 ],
 "metadata": {
  "kaggle": {
   "accelerator": "gpu",
   "dataSources": [
    {
     "databundleVersionId": 861823,
     "sourceId": 3004,
     "sourceType": "competition"
    }
   ],
   "dockerImageVersionId": 30699,
   "isGpuEnabled": true,
   "isInternetEnabled": true,
   "language": "python",
   "sourceType": "notebook"
  },
  "kernelspec": {
   "display_name": "Python 3",
   "language": "python",
   "name": "python3"
  },
  "language_info": {
   "codemirror_mode": {
    "name": "ipython",
    "version": 3
   },
   "file_extension": ".py",
   "mimetype": "text/x-python",
   "name": "python",
   "nbconvert_exporter": "python",
   "pygments_lexer": "ipython3",
   "version": "3.10.13"
  },
  "papermill": {
   "default_parameters": {},
   "duration": 194.434396,
   "end_time": "2024-05-10T03:49:29.424140",
   "environment_variables": {},
   "exception": null,
   "input_path": "__notebook__.ipynb",
   "output_path": "__notebook__.ipynb",
   "parameters": {},
   "start_time": "2024-05-10T03:46:14.989744",
   "version": "2.5.0"
  }
 },
 "nbformat": 4,
 "nbformat_minor": 5
}
